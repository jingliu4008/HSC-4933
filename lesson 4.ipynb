{
 "cells": [
  {
   "cell_type": "code",
   "execution_count": null,
   "metadata": {},
   "outputs": [],
   "source": [
    "# boolean or bool, logical expression\n",
    "print(True) # True not 'true'\n",
    "print(False) # not 'false'"
   ]
  },
  {
   "cell_type": "code",
   "execution_count": 16,
   "metadata": {},
   "outputs": [
    {
     "name": "stdout",
     "output_type": "stream",
     "text": [
      "2\n",
      "0\n"
     ]
    }
   ],
   "source": [
    "# Boolean values (True and False) follow arithmetic rules\n",
    "print(True + True)\n",
    "print(False + False)"
   ]
  },
  {
   "cell_type": "code",
   "execution_count": 14,
   "metadata": {},
   "outputs": [
    {
     "data": {
      "text/plain": [
       "False"
      ]
     },
     "execution_count": 14,
     "metadata": {},
     "output_type": "execute_result"
    }
   ],
   "source": [
    "\"\"\"Comparisons: \n",
    ">, <, >=, <=, !=, ==\"\"\"\n",
    "\n",
    "2==3"
   ]
  },
  {
   "cell_type": "code",
   "execution_count": 27,
   "metadata": {},
   "outputs": [
    {
     "name": "stdout",
     "output_type": "stream",
     "text": [
      "True\n",
      "False\n",
      "True\n",
      "True\n",
      "True\n",
      "False\n",
      "True\n",
      "True\n"
     ]
    }
   ],
   "source": [
    "# strings are ordered by Alphabetical Order:\n",
    "print('apple' < 'banana')  # True\n",
    "print('apple' > 'banana')  # False\n",
    "print('apple' == 'apple')  # True\n",
    "print('Apple' < 'banana')  # True, because 'A' < 'b'\n",
    "print('banana' <= 'banana')  # True\n",
    "print('a' < 'A') # False, Unicode value for 'a' (which is 97) is higher than the Unicode value for 'A' (which is 65).\n",
    "print('z' > 'Z')\n",
    "print('a'>'Z') # True because 'a' comes after 'Z' in the Unicode table, so 'a' is considered greater than 'Z'.\n"
   ]
  },
  {
   "cell_type": "code",
   "execution_count": 19,
   "metadata": {},
   "outputs": [
    {
     "name": "stdout",
     "output_type": "stream",
     "text": [
      "65\n",
      "97\n",
      "128557\n",
      "120631\n",
      "22909\n",
      "False\n"
     ]
    }
   ],
   "source": [
    "print(ord('A'))  # 65\n",
    "print(ord('a')) \n",
    "print(ord('😭'))  # Unicode code point for a given character\n",
    "print(ord(\"𝜷\")) # Unicode Supports virtually all characters from all writing systems, including Latin, Cyrillic, Chinese, Japanese, emojis, and many others.\n",
    "print(ord('好')) \n",
    "print('好' > '😭')"
   ]
  },
  {
   "cell_type": "code",
   "execution_count": 33,
   "metadata": {},
   "outputs": [
    {
     "name": "stdout",
     "output_type": "stream",
     "text": [
      "True\n",
      "True\n",
      "False\n"
     ]
    }
   ],
   "source": [
    "print(\"good\" > \"bad\")\n",
    "print(\"good\" != \"bad\")\n",
    "print(123==\"123\")"
   ]
  },
  {
   "cell_type": "code",
   "execution_count": 35,
   "metadata": {},
   "outputs": [
    {
     "name": "stdout",
     "output_type": "stream",
     "text": [
      "True\n",
      "False\n",
      "False\n"
     ]
    }
   ],
   "source": [
    "print(True and True)\n",
    "print(True and False)\n",
    "print(False and False)"
   ]
  },
  {
   "cell_type": "code",
   "execution_count": 36,
   "metadata": {},
   "outputs": [
    {
     "name": "stdout",
     "output_type": "stream",
     "text": [
      "True\n",
      "True\n",
      "False\n"
     ]
    }
   ],
   "source": [
    "print(True or False)\n",
    "print(True or True)\n",
    "print(False or False)"
   ]
  },
  {
   "cell_type": "code",
   "execution_count": 38,
   "metadata": {},
   "outputs": [
    {
     "name": "stdout",
     "output_type": "stream",
     "text": [
      "True\n",
      "False\n"
     ]
    }
   ],
   "source": [
    "print('apple' < 'banana' or 1>2) \n",
    "print('apple' < 'banana' and 1>2) "
   ]
  },
  {
   "cell_type": "code",
   "execution_count": 48,
   "metadata": {},
   "outputs": [
    {
     "name": "stdout",
     "output_type": "stream",
     "text": [
      "True\n"
     ]
    }
   ],
   "source": [
    "a = 1\n",
    "b = 2\n",
    "print(not a > b)"
   ]
  },
  {
   "cell_type": "code",
   "execution_count": 23,
   "metadata": {},
   "outputs": [
    {
     "name": "stdout",
     "output_type": "stream",
     "text": [
      "True\n",
      "True\n"
     ]
    },
    {
     "data": {
      "text/plain": [
       "'https://docs.python.org/3/reference/expressions.html#operator-precedence'"
      ]
     },
     "execution_count": 23,
     "metadata": {},
     "output_type": "execute_result"
    }
   ],
   "source": [
    "# grouping and precedence level\n",
    "print(not False == True)\n",
    "print(False == (not True)) \n",
    "#print(False == not True) # from the text book: not has lower precedence than ==. so will calculate == first\n",
    "\"\"\"https://docs.python.org/3/reference/expressions.html#operator-precedence\"\"\"\n"
   ]
  },
  {
   "cell_type": "code",
   "execution_count": 24,
   "metadata": {},
   "outputs": [
    {
     "data": {
      "text/plain": [
       "True"
      ]
     },
     "execution_count": 24,
     "metadata": {},
     "output_type": "execute_result"
    }
   ],
   "source": [
    "True and not 1 != 1"
   ]
  },
  {
   "cell_type": "code",
   "execution_count": 10,
   "metadata": {},
   "outputs": [
    {
     "name": "stdout",
     "output_type": "stream",
     "text": [
      "True\n",
      "True\n"
     ]
    }
   ],
   "source": [
    "print(True and (not False))\n",
    "print(True and not False) # not has a higher precedence than and; calculate not first"
   ]
  },
  {
   "cell_type": "code",
   "execution_count": 60,
   "metadata": {},
   "outputs": [
    {
     "name": "stdout",
     "output_type": "stream",
     "text": [
      "False\n",
      "False\n"
     ]
    }
   ],
   "source": [
    "print(True and False == True and False)\n",
    "print(True and (False == True) and False) # == has a higher precedence than and"
   ]
  },
  {
   "cell_type": "code",
   "execution_count": 62,
   "metadata": {},
   "outputs": [
    {
     "name": "stdout",
     "output_type": "stream",
     "text": [
      "True\n",
      "True\n"
     ]
    }
   ],
   "source": [
    "print((True and False) == (True and False))\n",
    "print((False) == (False))"
   ]
  },
  {
   "cell_type": "code",
   "execution_count": 13,
   "metadata": {},
   "outputs": [
    {
     "data": {
      "text/plain": [
       "False"
      ]
     },
     "execution_count": 13,
     "metadata": {},
     "output_type": "execute_result"
    }
   ],
   "source": [
    "True and False or True and False"
   ]
  },
  {
   "cell_type": "code",
   "execution_count": 30,
   "metadata": {},
   "outputs": [
    {
     "name": "stdout",
     "output_type": "stream",
     "text": [
      "x<y, sum = 5\n"
     ]
    }
   ],
   "source": [
    "# if statement\n",
    "x = 2\n",
    "y = 3\n",
    "if (x<y):\n",
    "    a = x+y\n",
    "    print(\"x<y,\",\"sum =\",a)\n",
    "if (x>=y):\n",
    "    a = x-y\n",
    "    print(\"x>y,\",\"difference=\",a)"
   ]
  },
  {
   "cell_type": "code",
   "execution_count": 60,
   "metadata": {},
   "outputs": [
    {
     "name": "stdout",
     "output_type": "stream",
     "text": [
      "x>y, difference= 2\n"
     ]
    }
   ],
   "source": [
    "x = 5\n",
    "y = 3\n",
    "if x<y:\n",
    "    a = x+y\n",
    "    print(\"x<y,\",\"sum =\",a)\n",
    "if x>=y:\n",
    "    a = x-y\n",
    "    print(\"x>y,\",\"difference=\",a)"
   ]
  },
  {
   "cell_type": "code",
   "execution_count": 61,
   "metadata": {},
   "outputs": [
    {
     "name": "stdout",
     "output_type": "stream",
     "text": [
      "x>y, difference= 0\n"
     ]
    }
   ],
   "source": [
    "x = 3\n",
    "y = 3\n",
    "if x<y: # see it as one of the situation\n",
    "    a = x+y\n",
    "    print(\"x<y,\",\"sum =\",a)\n",
    "else: # else will cover all the rest situations: x>y and X=y\n",
    "    a = x-y\n",
    "    print(\"x>y,\",\"difference=\",a)"
   ]
  },
  {
   "cell_type": "code",
   "execution_count": 33,
   "metadata": {},
   "outputs": [],
   "source": [
    "x = 3\n",
    "y = 3\n",
    "if (x<y):\n",
    "    a = x+y\n",
    "    print(\"x<y,\",\"sum =\",a)\n",
    "if (x>y):\n",
    "    a = x-y\n",
    "    print(\"x>y,\",\"difference=\",a)"
   ]
  },
  {
   "cell_type": "code",
   "execution_count": 62,
   "metadata": {},
   "outputs": [
    {
     "name": "stdout",
     "output_type": "stream",
     "text": [
      "x=y\n"
     ]
    }
   ],
   "source": [
    "#elif, when you have more than 2 conditions\n",
    "x = 3\n",
    "y = 3\n",
    "if x<y:\n",
    "    a = x+y\n",
    "    print(\"x<y,\",\"sum =\",a)\n",
    "elif x>y: # else if\n",
    "    a = x-y\n",
    "    print(\"x>y,\",\"difference=\",a)\n",
    "elif x==y:\n",
    "    print('x=y')"
   ]
  },
  {
   "cell_type": "code",
   "execution_count": 3,
   "metadata": {},
   "outputs": [
    {
     "name": "stdout",
     "output_type": "stream",
     "text": [
      "x<y, sum = 6\n",
      "x>y, difference= 0\n",
      "0\n"
     ]
    }
   ],
   "source": [
    "x = 3\n",
    "y = 3\n",
    "z = []  # to make the code clear for you to read, create a variable outside of a conditional block, it will be saved outside of the block\n",
    "if x<=y:\n",
    "    z = x+y\n",
    "    print(\"x<y,\",\"sum =\",z)\n",
    "if x>=y: # else if\n",
    "    z = x-y\n",
    "    print(\"x>y,\",\"difference=\",z)\n",
    "\n",
    "print(z) # covers the previous z"
   ]
  },
  {
   "cell_type": "code",
   "execution_count": 64,
   "metadata": {},
   "outputs": [
    {
     "name": "stdout",
     "output_type": "stream",
     "text": [
      "x<y, sum = 6\n",
      "6\n"
     ]
    }
   ],
   "source": [
    "x = 3\n",
    "y = 3\n",
    "z = []  # to make the code clear for you to read, create a variable outside of a conditional block, it will be saved outside of the block\n",
    "if x<=y:\n",
    "    z = x+y\n",
    "    print(\"x<y,\",\"sum =\",z)\n",
    "elif x>=y: # else if\n",
    "    z = x-y\n",
    "    print(\"x>y,\",\"difference=\",z)\n",
    "\n",
    "print(z) # does not cover the previous z because the second condition was not excecuted"
   ]
  },
  {
   "cell_type": "code",
   "execution_count": 6,
   "metadata": {},
   "outputs": [
    {
     "name": "stdout",
     "output_type": "stream",
     "text": [
      "wrong class name, please try again\n"
     ]
    }
   ],
   "source": [
    "# nested if\n",
    "className = input('Enter a class name: ')\n",
    "Mathscore = input('Enter Math score: ')\n",
    "Readingscore = input('Enter Reading score: ')\n",
    "# str.lower()\n",
    "if className.lower() == \"a\":\n",
    "    if Mathscore == Readingscore:\n",
    "        print(\"Balanced scores in class A\")\n",
    "    elif Mathscore > Readingscore:\n",
    "        print(\"Math lover in class A\")\n",
    "    else:\n",
    "        print(\"Reading lover in class A\")\n",
    "elif className.lower() == \"b\":\n",
    "    if Mathscore == Readingscore:\n",
    "        print(\"Balanced scores in class B\")\n",
    "    elif Mathscore > Readingscore:\n",
    "        print(\"Math lover in class B\")\n",
    "    else:\n",
    "        print(\"Reading lover in class B\")\n",
    "else:\n",
    "    print(\"wrong class name, please try again\")\n"
   ]
  },
  {
   "cell_type": "code",
   "execution_count": 19,
   "metadata": {},
   "outputs": [
    {
     "name": "stdout",
     "output_type": "stream",
     "text": [
      "Balanced scores in class A\n"
     ]
    }
   ],
   "source": [
    "# to be user friendly, avoid further typing if classname is wrong:\n",
    "className = input('Enter a class name: ')\n",
    "if className.lower() == \"a\":\n",
    "    Mathscore = input('Enter Math score: ')\n",
    "    Readingscore = input('Enter Reading score: ')\n",
    "    if Mathscore == Readingscore:\n",
    "        print(\"Balanced scores in class A\")\n",
    "    elif Mathscore > Readingscore:\n",
    "        print(\"Math lover in class A\")\n",
    "    else:\n",
    "        print(\"Reading lover in class A\")\n",
    "elif className.lower() == \"b\":\n",
    "    Mathscore = input('Enter Math score: ')\n",
    "    Readingscore = input('Enter Reading score: ')\n",
    "    if Mathscore == Readingscore:\n",
    "        print(\"Balanced scores in class B\")\n",
    "    elif Mathscore > Readingscore:\n",
    "        print(\"Math lover in class B\")\n",
    "    else:\n",
    "        print(\"Reading lover in class B\")\n",
    "else:\n",
    "    print(\"wrong class name, please try again\")\n"
   ]
  },
  {
   "cell_type": "code",
   "execution_count": 10,
   "metadata": {},
   "outputs": [
    {
     "name": "stdout",
     "output_type": "stream",
     "text": [
      "The 1st integer is not a factor of the 2nd integer, try again\n"
     ]
    }
   ],
   "source": [
    "# check whether a number is a factor of and another number\n",
    "\n",
    "value1 = input(\"Enter 1st integer: \")\n",
    "value2 = input(\"Enter 2nd integer: \")\n",
    "if int(value1) > int(value2):\n",
    "    print(\"The 1st integer should be smaller than or equal to the 2nd integer, try again\")\n",
    "else:\n",
    "    if int(value2) % int(value1) == 0:\n",
    "        print(\"Congratulations! The 1st integer is a factor of the 2nd integer\")\n",
    "    else:\n",
    "        print(\"The 1st integer is not a factor of the 2nd integer, try again\")\n",
    "\n",
    "# but running if block is not always perfect, \"ValueError\" can happen"
   ]
  },
  {
   "cell_type": "code",
   "execution_count": 14,
   "metadata": {},
   "outputs": [
    {
     "name": "stdout",
     "output_type": "stream",
     "text": [
      "That was not an integer\n"
     ]
    }
   ],
   "source": [
    "# try - except block from textbook page 218\n",
    "# to handle ValueError without making program crashing \n",
    "try:\n",
    "    number = int(input(\"Enter an integer: \"))\n",
    "except ValueError:\n",
    "    print(\"That was not an integer\")\n",
    "else:\n",
    "    print(number)\n"
   ]
  },
  {
   "cell_type": "code",
   "execution_count": 115,
   "metadata": {},
   "outputs": [
    {
     "data": {
      "text/plain": [
       "True"
      ]
     },
     "execution_count": 115,
     "metadata": {},
     "output_type": "execute_result"
    }
   ],
   "source": [
    "# some useful functions:\n",
    "mystr = \"123\"\n",
    "mystr.isdigit() # True only when integer"
   ]
  },
  {
   "cell_type": "code",
   "execution_count": 23,
   "metadata": {},
   "outputs": [
    {
     "name": "stdout",
     "output_type": "stream",
     "text": [
      "The 1st integer should be smaller or equal to the 2nd integer, try again\n"
     ]
    }
   ],
   "source": [
    "# check whether a number is a factor of and another number\n",
    "value1 = input(\"Enter 1st integer: \")\n",
    "value2 = input(\"Enter 2nd integer: \")\n",
    "if value1.isdigit() and value2.isdigit():\n",
    "    if int(value1) > int(value2):\n",
    "        print(\"The 1st integer should be smaller than or equal to the 2nd integer, try again\")\n",
    "    else:\n",
    "        if int(value2) % int(value1) == 0:\n",
    "            print(\"Congratulations! The 1st integer is a factor of the 2nd integer\")\n",
    "        else:\n",
    "            print(\"The 1st integer is not a factor of the 2nd integer, try again\")\n",
    "else:\n",
    "    print(\"Please enter integers!\")\n",
    "\n"
   ]
  },
  {
   "cell_type": "code",
   "execution_count": 117,
   "metadata": {},
   "outputs": [
    {
     "data": {
      "text/plain": [
       "True"
      ]
     },
     "execution_count": 117,
     "metadata": {},
     "output_type": "execute_result"
    }
   ],
   "source": [
    "mystr2 = \"word\"\n",
    "mystr2.isalpha()"
   ]
  },
  {
   "cell_type": "code",
   "execution_count": 116,
   "metadata": {},
   "outputs": [
    {
     "name": "stdout",
     "output_type": "stream",
     "text": [
      "False\n"
     ]
    }
   ],
   "source": [
    "mystr3 = \"abc123\"  # Example string with numbers\n",
    "is_word = mystr.isalpha()\n",
    "print(is_word)  # This will print False"
   ]
  },
  {
   "cell_type": "code",
   "execution_count": 96,
   "metadata": {},
   "outputs": [
    {
     "data": {
      "text/plain": [
       "['a', 'c123']"
      ]
     },
     "execution_count": 96,
     "metadata": {},
     "output_type": "execute_result"
    }
   ],
   "source": [
    "mystr3 = \"abc123\"\n",
    "mystr3.split(\"b\")"
   ]
  },
  {
   "cell_type": "code",
   "execution_count": 97,
   "metadata": {},
   "outputs": [
    {
     "data": {
      "text/plain": [
       "['12', '3']"
      ]
     },
     "execution_count": 97,
     "metadata": {},
     "output_type": "execute_result"
    }
   ],
   "source": [
    "mystr4 = \"12.3\"\n",
    "mystr4.split(\".\")"
   ]
  }
 ],
 "metadata": {
  "kernelspec": {
   "display_name": "Python 3",
   "language": "python",
   "name": "python3"
  },
  "language_info": {
   "codemirror_mode": {
    "name": "ipython",
    "version": 3
   },
   "file_extension": ".py",
   "mimetype": "text/x-python",
   "name": "python",
   "nbconvert_exporter": "python",
   "pygments_lexer": "ipython3",
   "version": "3.11.7"
  },
  "orig_nbformat": 4
 },
 "nbformat": 4,
 "nbformat_minor": 2
}

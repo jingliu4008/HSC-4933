{
 "cells": [
  {
   "cell_type": "code",
   "execution_count": null,
   "metadata": {},
   "outputs": [],
   "source": [
    "# loop"
   ]
  },
  {
   "cell_type": "code",
   "execution_count": 66,
   "metadata": {},
   "outputs": [
    {
     "name": "stdout",
     "output_type": "stream",
     "text": [
      "1\n",
      "2\n",
      "3\n",
      "4\n"
     ]
    },
    {
     "data": {
      "text/plain": [
       "'repeatedly checking if n < 5 during each loop iteration'"
      ]
     },
     "execution_count": 66,
     "metadata": {},
     "output_type": "execute_result"
    }
   ],
   "source": [
    "# while loop\n",
    "\n",
    "n = 1\n",
    "while n < 5: # here while works like \"if n < 5\"\n",
    "    print(n)\n",
    "    n = n+1\n",
    "\n",
    "\"\"\"repeatedly checking if n < 5 during each loop iteration\"\"\""
   ]
  },
  {
   "cell_type": "code",
   "execution_count": null,
   "metadata": {},
   "outputs": [],
   "source": [
    "# a bad thing about while loop:\n",
    "\n",
    "# please don't try this\n",
    "n = 1\n",
    "while n < 5: # here while works like \"if n < 5\"\n",
    "    print(n)\n",
    "\n",
    "# infinite loop, because n is always < 5"
   ]
  },
  {
   "cell_type": "code",
   "execution_count": 5,
   "metadata": {},
   "outputs": [
    {
     "name": "stdout",
     "output_type": "stream",
     "text": [
      "This is not a positive number!\n",
      "This is not a positive number!\n"
     ]
    }
   ],
   "source": [
    "# a good thing about while loop:\n",
    "\n",
    "num = float(input(\"Enter a positive number: \"))\n",
    "\n",
    "while num <= 0:\n",
    "    print(\"This is not a positive number!\")\n",
    "    num = float(input(\"Enter a positive number: \")) "
   ]
  },
  {
   "cell_type": "code",
   "execution_count": 28,
   "metadata": {},
   "outputs": [
    {
     "name": "stdout",
     "output_type": "stream",
     "text": [
      "Wrong answer, try again please.\n",
      "Wrong answer, try again please.\n",
      "Wrong answer, try again please.\n",
      "Correct! The median is C: 9.50.\n"
     ]
    }
   ],
   "source": [
    "# answer a question until you give me the correct answer:\n",
    "qst = input(\"What is the median for the following amounts: 9.75, 11.75, 12.00, 8.75, 9.50, 8.50, 8.75? A: 8.75 B: 11.75 C: 9.50 D: 9.86\")\n",
    "\n",
    "while qst.upper() != \"C\":\n",
    "    print(\"Wrong answer, try again please.\")\n",
    "    qst = input(\"What is the median for the following amounts: 9.75, 11.75, 12.00, 8.75, 9.50, 8.50, 8.75?  A: 8.75 B: 11.75 C: 9.50 D: 9.86\")\n",
    "\n",
    "# it can only print after exiting the loop\n",
    "print(\"Correct! The median is C: 9.50.\")"
   ]
  },
  {
   "cell_type": "code",
   "execution_count": 35,
   "metadata": {},
   "outputs": [
    {
     "name": "stdout",
     "output_type": "stream",
     "text": [
      "Wrong answer, try again please.\n",
      "Wrong answer, try again please.\n",
      "Maximum attempts reached. Exiting the quiz.\n"
     ]
    }
   ],
   "source": [
    "# to break the while loop\n",
    "\n",
    "qst = input(\"What is the median for the following amounts: 9.75, 11.75, 12.00, 8.75, 9.50, 8.50, 8.75? A: 8.75 B: 11.75 C: 9.50 D: 9.86 \").upper()\n",
    "attempts = 1  # Initialize the attempt counter\n",
    "\n",
    "# Loop until the correct answer is given or maximum attempts are reached\n",
    "while qst != \"C\": \n",
    "    if attempts >= 3:\n",
    "        print(\"Maximum attempts reached. Exiting the quiz.\")\n",
    "        break  # Exit the loop if the maximum attempts are reached\n",
    "    print(\"Wrong answer, try again please.\")\n",
    "    qst = input(\"What is the median for the following amounts: 9.75, 11.75, 12.00, 8.75, 9.50, 8.50, 8.75? A: 8.75 B: 11.75 C: 9.50 D: 9.86 \").upper()\n",
    "    attempts += 1  # Increment the attempt counter\n",
    "\n",
    "# Check if the user got the answer right\n",
    "if qst == \"C\":\n",
    "    print(f\"{qst} is Correct!\")"
   ]
  },
  {
   "cell_type": "code",
   "execution_count": 42,
   "metadata": {},
   "outputs": [
    {
     "name": "stdout",
     "output_type": "stream",
     "text": [
      "You answered A. Wrong answer, try again please.\n",
      "You answered B. Wrong answer, try again please.\n",
      "You answered D. Wrong answer. Maximum attempts reached. Exiting the quiz.\n"
     ]
    }
   ],
   "source": [
    "# to break the while loop\n",
    "\n",
    "qst = input(\"What is the median for the following amounts: 9.75, 11.75, 12.00, 8.75, 9.50, 8.50, 8.75? A: 8.75 B: 11.75 C: 9.50 D: 9.86 \").upper()\n",
    "attempts = 1  # Initialize the attempt counter\n",
    "\n",
    "# Loop until the correct answer is given or maximum attempts are reached\n",
    "while qst != \"C\": \n",
    "    if attempts >= 3:\n",
    "        print(f\"You answered {qst}. Wrong answer. Maximum attempts reached. Exiting the quiz.\")\n",
    "        break  # Exit the loop if the maximum attempts are reached\n",
    "    else:\n",
    "        print(f\"You answered {qst}. Wrong answer, try again please.\")\n",
    "    qst = input(\"What is the median for the following amounts: 9.75, 11.75, 12.00, 8.75, 9.50, 8.50, 8.75? A: 8.75 B: 11.75 C: 9.50 D: 9.86 \").upper()\n",
    "    attempts += 1  # Increment the attempt counter\n",
    "\n",
    "# Check if the user got the answer right\n",
    "if qst == \"C\":\n",
    "    print(f\"{qst} is Correct!\")"
   ]
  },
  {
   "cell_type": "code",
   "execution_count": 43,
   "metadata": {},
   "outputs": [
    {
     "name": "stdout",
     "output_type": "stream",
     "text": [
      "P\n",
      "y\n",
      "t\n",
      "h\n",
      "o\n",
      "n\n"
     ]
    }
   ],
   "source": [
    "# for loop\n",
    "\n",
    "for letter in \"Python\":\n",
    "    print(letter)"
   ]
  },
  {
   "cell_type": "code",
   "execution_count": 48,
   "metadata": {},
   "outputs": [
    {
     "name": "stdout",
     "output_type": "stream",
     "text": [
      "a\n",
      "b\n",
      "c\n",
      "d\n",
      "e\n",
      "f\n",
      "g\n"
     ]
    }
   ],
   "source": [
    "str = \"abcdefg\"\n",
    "for i in str:\n",
    "    print(i)"
   ]
  },
  {
   "cell_type": "code",
   "execution_count": 54,
   "metadata": {},
   "outputs": [
    {
     "name": "stdout",
     "output_type": "stream",
     "text": [
      "a\n",
      "b\n",
      "c\n",
      "d\n",
      "e\n",
      "f\n",
      "g\n"
     ]
    }
   ],
   "source": [
    "# while loop is more complex\n",
    "str = \"abcdefg\"\n",
    "i = 0 # be careful, there was an i=g before this cell. remember to erase previous values\n",
    "while i < len(str):\n",
    "    print(str[i])\n",
    "    i += 1"
   ]
  },
  {
   "cell_type": "code",
   "execution_count": 51,
   "metadata": {},
   "outputs": [
    {
     "name": "stdout",
     "output_type": "stream",
     "text": [
      "1\n",
      "2\n",
      "3\n"
     ]
    }
   ],
   "source": [
    "for i in range(1,4):\n",
    "    print(i)"
   ]
  },
  {
   "cell_type": "code",
   "execution_count": 57,
   "metadata": {},
   "outputs": [
    {
     "name": "stdout",
     "output_type": "stream",
     "text": [
      "python\n",
      "python\n",
      "python\n",
      "python\n"
     ]
    }
   ],
   "source": [
    "for i in range(4):\n",
    "    #print(i)\n",
    "    print(\"python\")"
   ]
  },
  {
   "cell_type": "code",
   "execution_count": 60,
   "metadata": {},
   "outputs": [
    {
     "name": "stdout",
     "output_type": "stream",
     "text": [
      "100\n",
      "121\n",
      "144\n",
      "169\n",
      "196\n",
      "225\n",
      "256\n",
      "289\n",
      "324\n",
      "361\n"
     ]
    }
   ],
   "source": [
    "n = 1\n",
    "for n in range(10,20): # here, \"for n in...\" assigns new value to n and erase n=1\n",
    "    print(n*n)"
   ]
  },
  {
   "cell_type": "code",
   "execution_count": 61,
   "metadata": {},
   "outputs": [
    {
     "name": "stdout",
     "output_type": "stream",
     "text": [
      "2 people, each can get: $50.00\n",
      "3 people, each can get: $33.33\n",
      "4 people, each can get: $25.00\n",
      "5 people, each can get: $20.00\n"
     ]
    }
   ],
   "source": [
    "# slpit money between people\n",
    "\n",
    "amount = float(input(\"Enter an amount: \"))\n",
    "\n",
    "for num_people in range(2,6):\n",
    "    get = amount/num_people\n",
    "    print(f\"{num_people} people, each can get: ${get:,.2f}\")"
   ]
  },
  {
   "cell_type": "code",
   "execution_count": 62,
   "metadata": {},
   "outputs": [
    {
     "name": "stdout",
     "output_type": "stream",
     "text": [
      "i=0, j=0\n",
      "i=0, j=1\n",
      "i=1, j=0\n",
      "i=1, j=1\n",
      "i=2, j=0\n",
      "i=2, j=1\n",
      "i=3, j=0\n",
      "i=3, j=1\n",
      "i=4, j=0\n",
      "i=4, j=1\n",
      "i=5, j=0\n",
      "i=5, j=1\n",
      "i=6, j=0\n",
      "i=6, j=1\n"
     ]
    }
   ],
   "source": [
    "# nested loop\n",
    "\n",
    "for i in range(7):\n",
    "    for j in range(2):\n",
    "        print(f\"i={i}, j={j}\")\n",
    "\n"
   ]
  },
  {
   "cell_type": "code",
   "execution_count": 63,
   "metadata": {},
   "outputs": [
    {
     "name": "stdout",
     "output_type": "stream",
     "text": [
      "I got a red and a cup\n",
      "I got a red and a book\n",
      "I got a red and a desk\n",
      "I got a pink and a cup\n",
      "I got a pink and a book\n",
      "I got a pink and a desk\n",
      "I got a yellow and a cup\n",
      "I got a yellow and a book\n",
      "I got a yellow and a desk\n",
      "I got a blue and a cup\n",
      "I got a blue and a book\n",
      "I got a blue and a desk\n"
     ]
    }
   ],
   "source": [
    "color = [\"red\", \"pink\", \"yellow\", \"blue\"]\n",
    "item = [\"cup\", \"book\", \"desk\"]\n",
    "for i in color:\n",
    "    for j in item:\n",
    "        print(f\"I got a {i} and a {j}\")"
   ]
  },
  {
   "cell_type": "code",
   "execution_count": 65,
   "metadata": {},
   "outputs": [
    {
     "name": "stdout",
     "output_type": "stream",
     "text": [
      "red\n",
      "pink\n",
      "yellow\n",
      "blue\n"
     ]
    }
   ],
   "source": [
    "color = [\"red\", \"pink\", \"yellow\", \"blue\"]\n",
    "\n",
    "for i in range(4):\n",
    "    print(color[i])"
   ]
  },
  {
   "cell_type": "code",
   "execution_count": 73,
   "metadata": {},
   "outputs": [
    {
     "name": "stdout",
     "output_type": "stream",
     "text": [
      "4\n",
      "8\n",
      "16\n"
     ]
    }
   ],
   "source": [
    "# double function:\n",
    "def doubles(x):\n",
    "    rslt = x*2\n",
    "    return rslt\n",
    "\n",
    "num = int(input(\"Enter an number: \"))\n",
    "count=1\n",
    "while count <= 3:\n",
    "    num = doubles(num)\n",
    "    print(num)\n",
    "    count +=1"
   ]
  },
  {
   "cell_type": "code",
   "execution_count": 72,
   "metadata": {},
   "outputs": [
    {
     "name": "stdout",
     "output_type": "stream",
     "text": [
      "4.0\n",
      "8.0\n",
      "16.0\n"
     ]
    }
   ],
   "source": [
    "# double function:\n",
    "def doubles(x):\n",
    "    rslt = x*2\n",
    "    return rslt\n",
    "\n",
    "num = float(input(\"Enter an number: \"))\n",
    "for i in range(3):\n",
    "    num = doubles(num)\n",
    "    print(num)"
   ]
  },
  {
   "cell_type": "code",
   "execution_count": 100,
   "metadata": {},
   "outputs": [
    {
     "name": "stdout",
     "output_type": "stream",
     "text": [
      "['year 1: $105.00', 'year 2: $110.25', 'year 3: $115.76', 'year 4: $121.55']\n",
      "year 1: $105.00\n",
      "year 2: $110.25\n",
      "year 3: $115.76\n",
      "year 4: $121.55\n"
     ]
    }
   ],
   "source": [
    "# insterest track\n",
    "def invest(amount, rate, years):\n",
    "    results = []\n",
    "\n",
    "    for y in range(1, years+1):\n",
    "        rslt = amount * (1+rate)**y\n",
    "        results.append(f\"year {y}: ${rslt:.2f}\")\n",
    "    return results\n",
    "\n",
    "print(invest(100, 0.05, 4))\n",
    "\n",
    "for result in invest(100, 0.05, 4):\n",
    "    print(result)\n"
   ]
  },
  {
   "cell_type": "code",
   "execution_count": 101,
   "metadata": {},
   "outputs": [
    {
     "name": "stdout",
     "output_type": "stream",
     "text": [
      "Inside 'func', x = 2\n",
      "Outside 'func', x = hello world\n"
     ]
    }
   ],
   "source": [
    "# scope\n",
    "x = \"hello world\"\n",
    "\n",
    "def func():\n",
    "    x = 2\n",
    "    print(f\"Inside 'func', x = {x}\")\n",
    "\n",
    "func()\n",
    "print(f\"Outside 'func', x = {x}\")"
   ]
  },
  {
   "cell_type": "code",
   "execution_count": 107,
   "metadata": {},
   "outputs": [
    {
     "data": {
      "text/plain": [
       "8"
      ]
     },
     "execution_count": 107,
     "metadata": {},
     "output_type": "execute_result"
    }
   ],
   "source": [
    "# scope LEGB\n",
    "x = 5 # Global scope\n",
    "\n",
    "def outer_func(): # Enclosing Scope\n",
    "    y = 3\n",
    "    \n",
    "    def inner_func(): # Local scope\n",
    "        z = x + y\n",
    "        return z\n",
    "    return inner_func()\n",
    "\n",
    "outer_func()\n",
    "#inner_func()"
   ]
  },
  {
   "cell_type": "code",
   "execution_count": 121,
   "metadata": {},
   "outputs": [
    {
     "data": {
      "text/plain": [
       "3"
      ]
     },
     "execution_count": 121,
     "metadata": {},
     "output_type": "execute_result"
    }
   ],
   "source": [
    "# scope LEGB\n",
    "x = 5 # Global scope\n",
    "\n",
    "def outer_func(): # Enclosing Scope\n",
    "    y = 3\n",
    "    \n",
    "    def inner_func(): # Local scope\n",
    "        z = x + y\n",
    "        return z\n",
    "    return y\n",
    "\n",
    "outer_func()\n",
    "#inner_func()"
   ]
  },
  {
   "cell_type": "code",
   "execution_count": 125,
   "metadata": {},
   "outputs": [],
   "source": [
    "# wrong, don't return itself\n",
    "x = 5 # Global scope\n",
    "\n",
    "def outer_func(): # Enclosing Scope\n",
    "    y = 3\n",
    "    \n",
    "    def inner_func(): # Local scope\n",
    "        z = x + y\n",
    "        return inner_func() # This calls inner_func recursively within itself\n",
    "    #return inner_func() # this will evoke warning\n",
    "\n",
    "outer_func()\n",
    "#inner_func()"
   ]
  },
  {
   "cell_type": "code",
   "execution_count": 128,
   "metadata": {},
   "outputs": [
    {
     "ename": "UnboundLocalError",
     "evalue": "cannot access local variable 'total' where it is not associated with a value",
     "output_type": "error",
     "traceback": [
      "\u001b[0;31m---------------------------------------------------------------------------\u001b[0m",
      "\u001b[0;31mUnboundLocalError\u001b[0m                         Traceback (most recent call last)",
      "\u001b[1;32m/Users/JingL/Documents/usf-master/fall 2024/TA/class code/lesson 7.ipynb Cell 25\u001b[0m line \u001b[0;36m5\n\u001b[1;32m      <a href='vscode-notebook-cell:/Users/JingL/Documents/usf-master/fall%202024/TA/class%20code/lesson%207.ipynb#X43sZmlsZQ%3D%3D?line=1'>2</a>\u001b[0m \u001b[39mdef\u001b[39;00m \u001b[39madd_to_total\u001b[39m(n):\n\u001b[1;32m      <a href='vscode-notebook-cell:/Users/JingL/Documents/usf-master/fall%202024/TA/class%20code/lesson%207.ipynb#X43sZmlsZQ%3D%3D?line=2'>3</a>\u001b[0m     \u001b[39m#global total\u001b[39;00m\n\u001b[1;32m      <a href='vscode-notebook-cell:/Users/JingL/Documents/usf-master/fall%202024/TA/class%20code/lesson%207.ipynb#X43sZmlsZQ%3D%3D?line=3'>4</a>\u001b[0m     total \u001b[39m=\u001b[39m total \u001b[39m+\u001b[39m n\n\u001b[0;32m----> <a href='vscode-notebook-cell:/Users/JingL/Documents/usf-master/fall%202024/TA/class%20code/lesson%207.ipynb#X43sZmlsZQ%3D%3D?line=4'>5</a>\u001b[0m add_to_total(\u001b[39m5\u001b[39m)\n\u001b[1;32m      <a href='vscode-notebook-cell:/Users/JingL/Documents/usf-master/fall%202024/TA/class%20code/lesson%207.ipynb#X43sZmlsZQ%3D%3D?line=5'>6</a>\u001b[0m \u001b[39mprint\u001b[39m(total)\n",
      "\u001b[1;32m/Users/JingL/Documents/usf-master/fall 2024/TA/class code/lesson 7.ipynb Cell 25\u001b[0m line \u001b[0;36m4\n\u001b[1;32m      <a href='vscode-notebook-cell:/Users/JingL/Documents/usf-master/fall%202024/TA/class%20code/lesson%207.ipynb#X43sZmlsZQ%3D%3D?line=1'>2</a>\u001b[0m \u001b[39mdef\u001b[39;00m \u001b[39madd_to_total\u001b[39m(n):\n\u001b[1;32m      <a href='vscode-notebook-cell:/Users/JingL/Documents/usf-master/fall%202024/TA/class%20code/lesson%207.ipynb#X43sZmlsZQ%3D%3D?line=2'>3</a>\u001b[0m     \u001b[39m#global total\u001b[39;00m\n\u001b[0;32m----> <a href='vscode-notebook-cell:/Users/JingL/Documents/usf-master/fall%202024/TA/class%20code/lesson%207.ipynb#X43sZmlsZQ%3D%3D?line=3'>4</a>\u001b[0m     total \u001b[39m=\u001b[39m total \u001b[39m+\u001b[39m n\n",
      "\u001b[0;31mUnboundLocalError\u001b[0m: cannot access local variable 'total' where it is not associated with a value"
     ]
    }
   ],
   "source": [
    "total = 0\n",
    "def add_to_total(n):\n",
    "    #global total # Declare total as a global variable\n",
    "    total = total + n\n",
    "add_to_total(5)\n",
    "print(total)"
   ]
  },
  {
   "cell_type": "code",
   "execution_count": 131,
   "metadata": {},
   "outputs": [
    {
     "name": "stdout",
     "output_type": "stream",
     "text": [
      "5\n"
     ]
    },
    {
     "data": {
      "text/plain": [
       "' loops do not create a new scope for variables. but def does '"
      ]
     },
     "execution_count": 131,
     "metadata": {},
     "output_type": "execute_result"
    }
   ],
   "source": [
    "# loop does not have ths scope issue\n",
    "\n",
    "total = 0  # Global variable\n",
    "\n",
    "# Using a loop to add to the global variable\n",
    "for i in range(5):  # Loop from 0 to 4\n",
    "    total += 1  # Increment the global total\n",
    "\n",
    "print(total)  # This will print: 5\n",
    "\n",
    "\"\"\" loops do not create a new scope for variables. but def does \"\"\""
   ]
  },
  {
   "cell_type": "code",
   "execution_count": null,
   "metadata": {},
   "outputs": [],
   "source": [
    "\"\"\"summary\n",
    "You can use and modify global variables directly within loops without declaring them as global \n",
    "since loops don not create a new scope.\"\"\"\n",
    "\n",
    "\"\"\"If you try to modify a global variable inside a function, \n",
    "you must declare it as global if you want to avoid the NameError for referencing it before assignment.\"\"\""
   ]
  },
  {
   "cell_type": "code",
   "execution_count": 132,
   "metadata": {},
   "outputs": [
    {
     "data": {
      "text/plain": [
       "'algorithm: Sample Size = (Z^2 * P * (1-P)) / E^2\\nhere, Z is critical value for 95% or 99% CI'"
      ]
     },
     "execution_count": 132,
     "metadata": {},
     "output_type": "execute_result"
    }
   ],
   "source": [
    "# assignment:\n",
    "\"\"\"algorithm: Sample Size = (Z^2 * P * (1-P)) / E^2\n",
    "here, Z is critical value for 95% or 99% CI\n",
    "95% CI: Z= 1.96; 99% CI: Z= 2.576\"\"\"\n",
    "\n"
   ]
  },
  {
   "cell_type": "code",
   "execution_count": 136,
   "metadata": {},
   "outputs": [
    {
     "name": "stdout",
     "output_type": "stream",
     "text": [
      "90\n",
      "85\n",
      "None\n",
      "please enter a valid key\n"
     ]
    }
   ],
   "source": [
    "# useful Function\n",
    "scores = {'Alice': 90, 'Bob': 85, 'Charlie': 92}\n",
    "\n",
    "# Using .get() to retrieve values\n",
    "print(scores.get('Alice'))   # Output: 90\n",
    "print(scores.get('Bob'))      # Output: 85\n",
    "print(scores.get('David'))    # Output: None (David is not in the dictionary)\n",
    "\n",
    "if scores.get('david') == None:\n",
    "    print(\"please enter a valid key\")"
   ]
  }
 ],
 "metadata": {
  "kernelspec": {
   "display_name": "base",
   "language": "python",
   "name": "python3"
  },
  "language_info": {
   "codemirror_mode": {
    "name": "ipython",
    "version": 3
   },
   "file_extension": ".py",
   "mimetype": "text/x-python",
   "name": "python",
   "nbconvert_exporter": "python",
   "pygments_lexer": "ipython3",
   "version": "3.11.7"
  },
  "orig_nbformat": 4
 },
 "nbformat": 4,
 "nbformat_minor": 2
}

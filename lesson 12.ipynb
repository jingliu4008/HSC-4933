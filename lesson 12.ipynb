{
 "cells": [
  {
   "cell_type": "code",
   "execution_count": null,
   "metadata": {},
   "outputs": [],
   "source": [
    "# lesson 12 work with modules\n",
    "# create a module and save it in adder.py\n",
    "# files used: main.py, main1.py my_func.py"
   ]
  },
  {
   "cell_type": "code",
   "execution_count": 15,
   "metadata": {},
   "outputs": [
    {
     "ename": "ModuleNotFoundError",
     "evalue": "No module named 'adder'",
     "output_type": "error",
     "traceback": [
      "\u001b[0;31m---------------------------------------------------------------------------\u001b[0m",
      "\u001b[0;31mModuleNotFoundError\u001b[0m                       Traceback (most recent call last)",
      "\u001b[1;32m/Users/JingL/Documents/usf-master/fall 2024/TA/class code/lesson 12.ipynb Cell 2\u001b[0m line \u001b[0;36m4\n\u001b[1;32m      <a href='vscode-notebook-cell:/Users/JingL/Documents/usf-master/fall%202024/TA/class%20code/lesson%2012.ipynb#W1sZmlsZQ%3D%3D?line=0'>1</a>\u001b[0m \u001b[39m#import sys\u001b[39;00m\n\u001b[1;32m      <a href='vscode-notebook-cell:/Users/JingL/Documents/usf-master/fall%202024/TA/class%20code/lesson%2012.ipynb#W1sZmlsZQ%3D%3D?line=1'>2</a>\u001b[0m \u001b[39m#sys.path.append('/Users/JingL/Downloads') # add this to import from a path different from the one you are working with\u001b[39;00m\n\u001b[0;32m----> <a href='vscode-notebook-cell:/Users/JingL/Documents/usf-master/fall%202024/TA/class%20code/lesson%2012.ipynb#W1sZmlsZQ%3D%3D?line=3'>4</a>\u001b[0m \u001b[39mfrom\u001b[39;00m \u001b[39madder\u001b[39;00m \u001b[39mimport\u001b[39;00m add\n\u001b[1;32m      <a href='vscode-notebook-cell:/Users/JingL/Documents/usf-master/fall%202024/TA/class%20code/lesson%2012.ipynb#W1sZmlsZQ%3D%3D?line=4'>5</a>\u001b[0m add(\u001b[39m256\u001b[39m,\u001b[39m234\u001b[39m)\n",
      "\u001b[0;31mModuleNotFoundError\u001b[0m: No module named 'adder'"
     ]
    }
   ],
   "source": [
    "#import sys\n",
    "#sys.path.append('/Users/JingL/Downloads') # add this to import from a path different from the one you are working with\n",
    "\n",
    "from adder import add\n",
    "add(256,234)"
   ]
  },
  {
   "cell_type": "code",
   "execution_count": 4,
   "metadata": {},
   "outputs": [
    {
     "name": "stdout",
     "output_type": "stream",
     "text": [
      "56088\n"
     ]
    }
   ],
   "source": [
    "import my_func\n",
    "#from my_func import multiply\n",
    "mlt = my_func.multiply(123,456) # have to add my_func as the NAMESPACE to define which module you are importing the function from\n",
    "print(mlt)"
   ]
  },
  {
   "cell_type": "code",
   "execution_count": 1,
   "metadata": {},
   "outputs": [
    {
     "data": {
      "text/plain": [
       "56088"
      ]
     },
     "execution_count": 1,
     "metadata": {},
     "output_type": "execute_result"
    }
   ],
   "source": [
    "# restart kernnel\n",
    "from my_func import multiply\n",
    "multiply(123,456) # you can omit my_func.\n"
   ]
  },
  {
   "cell_type": "code",
   "execution_count": 2,
   "metadata": {},
   "outputs": [
    {
     "data": {
      "text/plain": [
       "4"
      ]
     },
     "execution_count": 2,
     "metadata": {},
     "output_type": "execute_result"
    }
   ],
   "source": [
    "# run main.py via my_func.py\n",
    "from main import value\n",
    "value"
   ]
  },
  {
   "cell_type": "code",
   "execution_count": 3,
   "metadata": {},
   "outputs": [
    {
     "data": {
      "text/plain": [
       "4"
      ]
     },
     "execution_count": 3,
     "metadata": {},
     "output_type": "execute_result"
    }
   ],
   "source": [
    "import my_func\n",
    "\n",
    "my_func.dble(2)"
   ]
  },
  {
   "cell_type": "code",
   "execution_count": null,
   "metadata": {},
   "outputs": [],
   "source": [
    "# in IDLE: os.chdir(\"PATH\")\n",
    "# import module"
   ]
  },
  {
   "cell_type": "code",
   "execution_count": null,
   "metadata": {},
   "outputs": [],
   "source": [
    "# if you edit your module, you have to restart the kernel to erase the memory in the cache"
   ]
  },
  {
   "cell_type": "code",
   "execution_count": 6,
   "metadata": {},
   "outputs": [
    {
     "data": {
      "text/plain": [
       "4"
      ]
     },
     "execution_count": 6,
     "metadata": {},
     "output_type": "execute_result"
    }
   ],
   "source": [
    "import my_func as mf\n",
    "\n",
    "mf.dble(2)\n",
    "my_func.dble(2) # this still works, but wordy"
   ]
  },
  {
   "cell_type": "code",
   "execution_count": 1,
   "metadata": {},
   "outputs": [
    {
     "ename": "NameError",
     "evalue": "name 'my_func' is not defined",
     "output_type": "error",
     "traceback": [
      "\u001b[0;31m---------------------------------------------------------------------------\u001b[0m",
      "\u001b[0;31mNameError\u001b[0m                                 Traceback (most recent call last)",
      "\u001b[1;32m/Users/JingL/Documents/usf-master/fall 2024/TA/class code/lesson 12.ipynb Cell 10\u001b[0m line \u001b[0;36m1\n\u001b[0;32m----> <a href='vscode-notebook-cell:/Users/JingL/Documents/usf-master/fall%202024/TA/class%20code/lesson%2012.ipynb#X15sZmlsZQ%3D%3D?line=0'>1</a>\u001b[0m \u001b[39mfrom\u001b[39;00m \u001b[39mmain1\u001b[39;00m \u001b[39mimport\u001b[39;00m value\n\u001b[1;32m      <a href='vscode-notebook-cell:/Users/JingL/Documents/usf-master/fall%202024/TA/class%20code/lesson%2012.ipynb#X15sZmlsZQ%3D%3D?line=1'>2</a>\u001b[0m value\n",
      "File \u001b[0;32m~/Documents/usf-master/fall 2024/TA/class code/main1.py:3\u001b[0m\n\u001b[1;32m      1\u001b[0m \u001b[39mimport\u001b[39;00m \u001b[39mmy_func\u001b[39;00m  \u001b[39mas\u001b[39;00m \u001b[39mmf\u001b[39;00m\n\u001b[0;32m----> 3\u001b[0m value \u001b[39m=\u001b[39m my_func\u001b[39m.\u001b[39mmultiply(\u001b[39m2\u001b[39m,\u001b[39m2\u001b[39m)\n",
      "\u001b[0;31mNameError\u001b[0m: name 'my_func' is not defined"
     ]
    }
   ],
   "source": [
    "from main1 import value\n",
    "value # because I did not call out the function by alias in .py file"
   ]
  },
  {
   "cell_type": "code",
   "execution_count": null,
   "metadata": {},
   "outputs": [],
   "source": [
    "\"\"\"summary:\n",
    "3 ways to import modules:\n",
    "1. import module\n",
    "2. import module as md\n",
    "3. from module import function \"\"\""
   ]
  },
  {
   "cell_type": "code",
   "execution_count": 8,
   "metadata": {},
   "outputs": [
    {
     "name": "stdout",
     "output_type": "stream",
     "text": [
      "2024-11-01 00:00:00\n"
     ]
    }
   ],
   "source": [
    "import datetime as dt\n",
    "\n",
    "# Create a datetime object for November 1, 2024, 00:00:00\n",
    "date = dt.datetime(2024, 11, 1)\n",
    "print(date)"
   ]
  },
  {
   "cell_type": "code",
   "execution_count": null,
   "metadata": {},
   "outputs": [],
   "source": [
    "# package in python, activity\n",
    "# has to include __init__.py to tell Python that this is a Python package.\n",
    "# create 2 folders: pachage_example, inside of it: mypackage\n",
    "# save main.py in pachage_example; __init__.py, module1.py, module2.py in mypackage\n",
    "# run functions in module1 and 2 from main.py\n"
   ]
  },
  {
   "cell_type": "code",
   "execution_count": 77,
   "metadata": {},
   "outputs": [
    {
     "name": "stdout",
     "output_type": "stream",
     "text": [
      "Mean: 7.083333333333333 SD: 1.884864366154897e-08\n"
     ]
    }
   ],
   "source": [
    "import sys\n",
    "sys.path.append('/Users/JingL/Documents/usf-master/fall 2024/TA/class code/package_example')\n",
    "\n",
    "from package_example import main\n",
    "x = [2, 4, 6, 8, 10, 12.5]\n",
    "mean_value = main.mypackage.module1.mean_cal(x)\n",
    "SD_value = main.mypackage.module2.SD_cal(x)\n",
    "print(\"Mean:\", mean_value, \"SD:\",SD_value)\n"
   ]
  },
  {
   "cell_type": "code",
   "execution_count": 78,
   "metadata": {},
   "outputs": [
    {
     "name": "stdout",
     "output_type": "stream",
     "text": [
      "Mean: 6.0\n"
     ]
    }
   ],
   "source": [
    "import sys\n",
    "sys.path.append('/Users/JingL/Documents/usf-master/fall 2024/TA/class code/package_example')\n",
    "\n",
    "# Import the module directly\n",
    "from package_example.mypackage import module1 \n",
    "\n",
    "# Now call the function from the module\n",
    "x = [2, 4, 6, 8, 10]\n",
    "mean_value = module1.mean_cal(x)\n",
    "print(\"Mean:\", mean_value)"
   ]
  },
  {
   "cell_type": "code",
   "execution_count": 79,
   "metadata": {},
   "outputs": [
    {
     "name": "stdout",
     "output_type": "stream",
     "text": [
      "Mean: 6.0\n"
     ]
    }
   ],
   "source": [
    "import sys\n",
    "sys.path.append('/Users/JingL/Documents/usf-master/fall 2024/TA/class code/package_example')\n",
    "\n",
    "# Import the module directly\n",
    "from package_example.mypackage.module1 import  mean_cal\n",
    "\n",
    "# Now call the function from the module\n",
    "x = [2, 4, 6, 8, 10]\n",
    "mean_value = mean_cal(x)\n",
    "print(\"Mean:\", mean_value)"
   ]
  },
  {
   "cell_type": "code",
   "execution_count": 3,
   "metadata": {},
   "outputs": [],
   "source": [
    "import pandas as pd\n",
    "import matplotlib.pyplot as plt\n",
    "from sklearn.linear_model import LinearRegression\n",
    "import numpy as np"
   ]
  },
  {
   "cell_type": "code",
   "execution_count": null,
   "metadata": {},
   "outputs": [],
   "source": [
    "\"\"\"to install: \n",
    "!pip3 install pandas\n",
    "!pip3 install matplotlib\n",
    "!pip3 install scikit-learn\n",
    "!pip3 install numpy\n",
    "will install the specified packages into the global environment (the Python environment you are currently working in)\"\"\""
   ]
  },
  {
   "cell_type": "code",
   "execution_count": 104,
   "metadata": {},
   "outputs": [
    {
     "data": {
      "text/plain": [
       "'in ternimal'"
      ]
     },
     "execution_count": 104,
     "metadata": {},
     "output_type": "execute_result"
    }
   ],
   "source": [
    "\"\"\"in ternimal:\n",
    "pip3 install pandas\n",
    "pip3 install matplotlib\n",
    "pip3 install scikit-learn\n",
    "pip3 install numpy\"\"\""
   ]
  },
  {
   "cell_type": "code",
   "execution_count": 10,
   "metadata": {},
   "outputs": [
    {
     "name": "stdout",
     "output_type": "stream",
     "text": [
      "{'BMI': [27.0, 25.0, 26.2, 26.0, 24.4, 22.7, 24.6, 24.7, 28.1, 19.1, 24.6, 28.8, 19.4, 14.9, 19.6, 29.8, 23.2, 31.5, 28.7, 22.0], 'WaistCircumference': [80.7, 52.8, 93.2, 81.1, 73.2, 110.6, 63.6, 65.2, 92.1, 73.6, 74.4, 106.3, 82.1, 82.9, 61.4, 74.9, 64.6, 69.3, 95.4, 90.5]}\n"
     ]
    }
   ],
   "source": [
    "import random\n",
    "\n",
    "# Generate random data\n",
    "random_data = {\n",
    "    'BMI': [round(random.gauss(24, 4), 1) for _ in range(20)],  # BMI values between 18.5 (healthy) and 40 (overweight/obesity)\n",
    "    'WaistCircumference': [round(random.gauss(80, 15), 1) for _ in range(20)]  # Waist circumference in cm, between 70 and 120 cm\n",
    "}\n",
    "\n",
    "print(random_data)"
   ]
  },
  {
   "cell_type": "code",
   "execution_count": 11,
   "metadata": {},
   "outputs": [
    {
     "name": "stdout",
     "output_type": "stream",
     "text": [
      "    BMI  WaistCircumference\n",
      "0  27.0                80.7\n",
      "1  25.0                52.8\n",
      "2  26.2                93.2\n",
      "3  26.0                81.1\n",
      "4  24.4                73.2\n"
     ]
    }
   ],
   "source": [
    "df = pd.DataFrame(random_data)\n",
    "print(df.head()) # shows first 5 rows"
   ]
  },
  {
   "cell_type": "code",
   "execution_count": 13,
   "metadata": {},
   "outputs": [
    {
     "name": "stdout",
     "output_type": "stream",
     "text": [
      "The value at row 1, column 0 is: 25.0\n"
     ]
    }
   ],
   "source": [
    "# Access the value at row 1, column 0\n",
    "value = df.iloc[1, 0]  # This selects the value in the second row (index 1) and first column (index 0)\n",
    "\n",
    "print(f\"The value at row 1, column 0 is: {value}\")"
   ]
  },
  {
   "cell_type": "code",
   "execution_count": 14,
   "metadata": {},
   "outputs": [
    {
     "name": "stdout",
     "output_type": "stream",
     "text": [
      "The value at row 1, column 0 is: 25.0\n"
     ]
    }
   ],
   "source": [
    "# another way to access the value at row 1, column 0\n",
    "value = df['BMI'].iloc[1]  # This selects the value in the second row (index 1) and first column ('BMI')\n",
    "\n",
    "print(f\"The value at row 1, column 0 is: {value}\")"
   ]
  },
  {
   "cell_type": "code",
   "execution_count": 45,
   "metadata": {},
   "outputs": [
    {
     "name": "stdout",
     "output_type": "stream",
     "text": [
      "BMI                   0\n",
      "WaistCircumference    0\n",
      "dtype: int64\n"
     ]
    }
   ],
   "source": [
    "print(df.isnull().sum())\n",
    "\n"
   ]
  },
  {
   "cell_type": "code",
   "execution_count": 46,
   "metadata": {},
   "outputs": [
    {
     "name": "stdout",
     "output_type": "stream",
     "text": [
      "             BMI  WaistCircumference\n",
      "count  20.000000           20.000000\n",
      "mean   24.425000           81.210000\n",
      "std     3.561028           13.364245\n",
      "min    18.900000           60.000000\n",
      "25%    21.775000           70.600000\n",
      "50%    23.550000           81.500000\n",
      "75%    27.000000           90.050000\n",
      "max    32.300000          105.300000\n"
     ]
    }
   ],
   "source": [
    "print(df.describe())"
   ]
  },
  {
   "cell_type": "code",
   "execution_count": 81,
   "metadata": {},
   "outputs": [
    {
     "data": {
      "image/png": "[encoded data removed]",
      "text/plain": [
       "<Figure size 1000x600 with 1 Axes>"
      ]
     },
     "metadata": {},
     "output_type": "display_data"
    }
   ],
   "source": [
    "plt.figure(figsize=(10, 6))\n",
    "plt.scatter(df['BMI'], df['WaistCircumference'], color='blue', label='Data points')\n",
    "plt.xlabel('BMI')\n",
    "plt.ylabel('Waist Circumference')\n",
    "plt.title('Scatter Plot: BMI vs Waist Circumference')\n",
    "plt.grid(True)"
   ]
  },
  {
   "cell_type": "code",
   "execution_count": 91,
   "metadata": {},
   "outputs": [
    {
     "name": "stdout",
     "output_type": "stream",
     "text": [
      "    BMI\n",
      "0  23.7\n",
      "1  25.5\n",
      "2  27.9\n",
      "3  29.1\n",
      "4  28.4\n",
      "<class 'pandas.core.frame.DataFrame'>\n",
      "0    98.6\n",
      "1    60.0\n",
      "2    95.3\n",
      "3    72.1\n",
      "4    88.3\n",
      "Name: WaistCircumference, dtype: float64\n",
      "<class 'pandas.core.series.Series'>\n"
     ]
    },
    {
     "data": {
      "text/plain": [
       "[<matplotlib.lines.Line2D at 0x303a451d0>]"
      ]
     },
     "execution_count": 91,
     "metadata": {},
     "output_type": "execute_result"
    },
    {
     "data": {
      "image/png": "[encoded data removed]",
      "text/plain": [
       "<Figure size 640x480 with 1 Axes>"
      ]
     },
     "metadata": {},
     "output_type": "display_data"
    }
   ],
   "source": [
    "X = df[['BMI']]  # Features (independent variable), 2D dataframe\n",
    "y = df['WaistCircumference']  # Target (dependent variable), 1D dataframe\n",
    "print(X.head())\n",
    "print(type(X))\n",
    "print(y.head())\n",
    "print(type(y))\n",
    "# create a regression model\n",
    "regression_model = LinearRegression()\n",
    "# fit the data in\n",
    "regression_model.fit(X, y)\n",
    "# predict y with x\n",
    "y_pred = regression_model.predict(X)\n",
    "\n",
    "plt.plot(df['BMI'], y_pred, color='red', label='Regression Line')\n"
   ]
  },
  {
   "cell_type": "code",
   "execution_count": 83,
   "metadata": {},
   "outputs": [
    {
     "data": {
      "text/plain": [
       "[<matplotlib.lines.Line2D at 0x3038a3090>]"
      ]
     },
     "execution_count": 83,
     "metadata": {},
     "output_type": "execute_result"
    },
    {
     "data": {
      "image/png": "[encoded data removed]",
      "text/plain": [
       "<Figure size 1000x600 with 1 Axes>"
      ]
     },
     "metadata": {},
     "output_type": "display_data"
    }
   ],
   "source": [
    "\n",
    "regression_model = LinearRegression()\n",
    "regression_model.fit(X, y)\n",
    "y_pred = regression_model.predict(X)\n",
    "plt.figure(figsize=(10, 6))\n",
    "plt.scatter(df['BMI'], df['WaistCircumference'], color='blue', label='Data points')\n",
    "plt.xlabel('BMI')\n",
    "plt.ylabel('Waist Circumference')\n",
    "plt.title('Scatter Plot: BMI vs Waist Circumference')\n",
    "plt.grid(True)\n",
    "plt.plot(df['BMI'], y_pred, color='red', label='Regression Line')\n"
   ]
  },
  {
   "cell_type": "code",
   "execution_count": 84,
   "metadata": {},
   "outputs": [
    {
     "name": "stdout",
     "output_type": "stream",
     "text": [
      "Slope (Coefficient): 0.2996420233463032\n",
      "Intercept: 73.89124357976654\n"
     ]
    }
   ],
   "source": [
    "print(\"Slope (Coefficient):\",regression_model.coef_[0])\n",
    "print(\"Intercept:\", regression_model.intercept_)\n"
   ]
  },
  {
   "cell_type": "code",
   "execution_count": 85,
   "metadata": {},
   "outputs": [
    {
     "name": "stdout",
     "output_type": "stream",
     "text": [
      "R-squared value: 0.006374811733484753\n"
     ]
    }
   ],
   "source": [
    "# Calculate R-squared (R²)\n",
    "r_squared = regression_model.score(X, y)\n",
    "\n",
    "# Output the R-squared value\n",
    "print(\"R-squared value:\", r_squared)"
   ]
  },
  {
   "cell_type": "code",
   "execution_count": 94,
   "metadata": {},
   "outputs": [
    {
     "name": "stdout",
     "output_type": "stream",
     "text": [
      "[77.63676887]\n"
     ]
    }
   ],
   "source": [
    "X_new = pd.DataFrame([[12.5]], columns=['BMI']) \n",
    "pre_WC = regression_model.predict(X_new) # predict() is case sensitivy, must use BMI, same as X\n",
    "\n",
    "print(pre_WC)"
   ]
  },
  {
   "cell_type": "code",
   "execution_count": 88,
   "metadata": {},
   "outputs": [
    {
     "name": "stdout",
     "output_type": "stream",
     "text": [
      "    BMI\n",
      "0  23.7\n",
      "1  25.5\n",
      "2  27.9\n",
      "3  29.1\n",
      "4  28.4\n",
      "0    23.7\n",
      "1    25.5\n",
      "2    27.9\n",
      "3    29.1\n",
      "4    28.4\n",
      "Name: BMI, dtype: float64\n"
     ]
    }
   ],
   "source": [
    "# recall: X = df[['BMI']]  to create a 2D dataframe\n",
    "BMI = df[['BMI']]  \n",
    "print(BMI.head())\n",
    "\n",
    "bmi = df['BMI']\n",
    "print(bmi.head()) # no column name, 1 D dataframe"
   ]
  },
  {
   "cell_type": "code",
   "execution_count": 103,
   "metadata": {},
   "outputs": [
    {
     "name": "stdout",
     "output_type": "stream",
     "text": [
      "y: [ 6  8  9 11]\n",
      "[1. 2.]\n",
      "1.0\n"
     ]
    }
   ],
   "source": [
    "\"\"\"example from: https://scikit-learn.org/1.5/modules/generated/sklearn.linear_model.LinearRegression.html\"\"\"\n",
    "import numpy as np\n",
    "from sklearn.linear_model import LinearRegression\n",
    "X_2 = np.array([[1, 1], [1, 2], [2, 2], [2, 3]]) # multi-linear regression\n",
    "# y = 1 * x_0 + 2 * x_1 + 3\n",
    "y_2 = np.dot(X_2, np.array([1, 2])) + 3\n",
    "print(\"y:\",y_2)\n",
    "reg = LinearRegression().fit(X_2, y_2)\n",
    "print(reg.coef_)\n",
    "print(reg.score(X_2, y_2))"
   ]
  }
 ],
 "metadata": {
  "kernelspec": {
   "display_name": "base",
   "language": "python",
   "name": "python3"
  },
  "language_info": {
   "codemirror_mode": {
    "name": "ipython",
    "version": 3
   },
   "file_extension": ".py",
   "mimetype": "text/x-python",
   "name": "python",
   "nbconvert_exporter": "python",
   "pygments_lexer": "ipython3",
   "version": "3.11.7"
  },
  "orig_nbformat": 4
 },
 "nbformat": 4,
 "nbformat_minor": 2
}

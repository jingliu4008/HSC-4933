{
 "cells": [
  {
   "cell_type": "code",
   "execution_count": null,
   "metadata": {},
   "outputs": [],
   "source": [
    "# debug"
   ]
  },
  {
   "cell_type": "code",
   "execution_count": 10,
   "metadata": {},
   "outputs": [
    {
     "name": "stdout",
     "output_type": "stream",
     "text": [
      "i is 1 and j is 2\n",
      "i is 2 and j is 4\n",
      "i is 3 and j is 6\n"
     ]
    }
   ],
   "source": [
    "for i in range(1, 4):\n",
    "    j=i*2\n",
    "    print(f\"i is {i} and j is {j}\")"
   ]
  },
  {
   "cell_type": "code",
   "execution_count": 33,
   "metadata": {},
   "outputs": [
    {
     "name": "stdout",
     "output_type": "stream",
     "text": [
      "o_\n"
     ]
    }
   ],
   "source": [
    "def add_underscores(word):\n",
    "    new_word = \"_\"\n",
    "    for i in range(0, len(word)):\n",
    "        new_word = word[i] + \"_\"\n",
    "    return new_word\n",
    "\n",
    "phrase = \"hello\" \n",
    "print(add_underscores(phrase))"
   ]
  },
  {
   "cell_type": "code",
   "execution_count": 36,
   "metadata": {},
   "outputs": [
    {
     "name": "stdout",
     "output_type": "stream",
     "text": [
      "_h_e_l_l_o_\n"
     ]
    }
   ],
   "source": [
    "def add_underscores(word):\n",
    "    new_word = \"_\"  \n",
    "    for i in range(0, len(word)):\n",
    "        new_word = new_word + word[i] + \"_\"  # Concatenate each letter with an underscore\n",
    "        #print(f\"i = {i}; new_word = {new_word}\")  \n",
    "    return new_word\n",
    "\n",
    "phrase = \"hello\" \n",
    "print(add_underscores(phrase)) "
   ]
  },
  {
   "cell_type": "code",
   "execution_count": null,
   "metadata": {},
   "outputs": [],
   "source": [
    "\"\"\"Every time you run the debugger in IDLE,\n",
    "the debugger relies on the built-in functionality provided by bdb.py\"\"\""
   ]
  }
 ],
 "metadata": {
  "kernelspec": {
   "display_name": "base",
   "language": "python",
   "name": "python3"
  },
  "language_info": {
   "codemirror_mode": {
    "name": "ipython",
    "version": 3
   },
   "file_extension": ".py",
   "mimetype": "text/x-python",
   "name": "python",
   "nbconvert_exporter": "python",
   "pygments_lexer": "ipython3",
   "version": "3.11.7"
  },
  "orig_nbformat": 4
 },
 "nbformat": 4,
 "nbformat_minor": 2
}

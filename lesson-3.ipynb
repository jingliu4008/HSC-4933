{
 "cells": [
  {
   "cell_type": "code",
   "execution_count": 25,
   "metadata": {},
   "outputs": [
    {
     "data": {
      "text/plain": [
       "25"
      ]
     },
     "execution_count": 25,
     "metadata": {},
     "output_type": "execute_result"
    }
   ],
   "source": [
    "5 + 20"
   ]
  },
  {
   "cell_type": "code",
   "execution_count": 30,
   "metadata": {},
   "outputs": [
    {
     "name": "stdout",
     "output_type": "stream",
     "text": [
      "12.0\n",
      "6\n",
      "6.1\n",
      "0\n",
      "20.0\n",
      "5.0\n"
     ]
    }
   ],
   "source": [
    "# integer +/-/* float = float\n",
    "# / gives you float\n",
    "print(3 + 3.0 + 6)\n",
    "print(3+3)\n",
    "print(3.1+3)\n",
    "print(3-3)\n",
    "print(10*2.0)\n",
    "print(10/2)"
   ]
  },
  {
   "cell_type": "code",
   "execution_count": 33,
   "metadata": {},
   "outputs": [
    {
     "name": "stdout",
     "output_type": "stream",
     "text": [
      "1: 1000.0\n",
      "2: 1000.0\n",
      "3: 1000.0\n",
      "4: 0.001\n",
      "5: 1e+17\n"
     ]
    }
   ],
   "source": [
    "print(\"1:\",1000.0)\n",
    "print(\"2:\",1_000.0)\n",
    "print(\"3:\", 1e3)\n",
    "print(\"4:\", 1e-3)\n",
    "print(\"5:\", 1e17) #so large to display with 0s"
   ]
  },
  {
   "cell_type": "code",
   "execution_count": 34,
   "metadata": {},
   "outputs": [
    {
     "data": {
      "text/plain": [
       "1.429"
      ]
     },
     "execution_count": 34,
     "metadata": {},
     "output_type": "execute_result"
    }
   ],
   "source": [
    "round(10 / (2+5),3)"
   ]
  },
  {
   "cell_type": "code",
   "execution_count": 12,
   "metadata": {},
   "outputs": [
    {
     "name": "stdout",
     "output_type": "stream",
     "text": [
      "100\n",
      "8\n",
      "12.66\n"
     ]
    }
   ],
   "source": [
    "print(10**2)\n",
    "print(2**3)\n",
    "print(2.11*6)"
   ]
  },
  {
   "cell_type": "code",
   "execution_count": 35,
   "metadata": {},
   "outputs": [
    {
     "name": "stdout",
     "output_type": "stream",
     "text": [
      "False\n",
      "True\n"
     ]
    }
   ],
   "source": [
    "print(10 < 5)\n",
    "print(10>=10)"
   ]
  },
  {
   "cell_type": "code",
   "execution_count": 37,
   "metadata": {},
   "outputs": [
    {
     "data": {
      "text/plain": [
       "'Today is Wednesday, Sep. 4'"
      ]
     },
     "execution_count": 37,
     "metadata": {},
     "output_type": "execute_result"
    }
   ],
   "source": [
    "# can I calculate words?\n",
    "\"Today\" + \" \" + \"is\" +\" \" + \"Wednesday\" + \",\" + \" \" + \"Sep\" + \".\" + \" \" + '4'\n"
   ]
  },
  {
   "cell_type": "code",
   "execution_count": 40,
   "metadata": {},
   "outputs": [
    {
     "name": "stdout",
     "output_type": "stream",
     "text": [
      "repeat words repeat words repeat words \n",
      "333\n"
     ]
    }
   ],
   "source": [
    "print(\"repeat words \" * 3)\n",
    "print(\"3\" *3)"
   ]
  },
  {
   "cell_type": "code",
   "execution_count": 41,
   "metadata": {},
   "outputs": [
    {
     "ename": "TypeError",
     "evalue": "can only concatenate str (not \"float\") to str",
     "output_type": "error",
     "traceback": [
      "\u001b[0;31m---------------------------------------------------------------------------\u001b[0m",
      "\u001b[0;31mTypeError\u001b[0m                                 Traceback (most recent call last)",
      "\u001b[1;32m/Users/JingL/Documents/usf-master/fall 2024/TA/class code/lesson-3.ipynb Cell 9\u001b[0m line \u001b[0;36m3\n\u001b[1;32m      <a href='vscode-notebook-cell:/Users/JingL/Documents/usf-master/fall%202024/TA/class%20code/lesson-3.ipynb#X11sZmlsZQ%3D%3D?line=0'>1</a>\u001b[0m \u001b[39m# but cannot concatenate sting and number\u001b[39;00m\n\u001b[1;32m      <a href='vscode-notebook-cell:/Users/JingL/Documents/usf-master/fall%202024/TA/class%20code/lesson-3.ipynb#X11sZmlsZQ%3D%3D?line=1'>2</a>\u001b[0m n\u001b[39m=\u001b[39m\u001b[39m1.2\u001b[39m\n\u001b[0;32m----> <a href='vscode-notebook-cell:/Users/JingL/Documents/usf-master/fall%202024/TA/class%20code/lesson-3.ipynb#X11sZmlsZQ%3D%3D?line=2'>3</a>\u001b[0m \u001b[39m\"\u001b[39;49m\u001b[39mThe value of n is\u001b[39;49m\u001b[39m\"\u001b[39;49m\u001b[39m+\u001b[39;49mn\n",
      "\u001b[0;31mTypeError\u001b[0m: can only concatenate str (not \"float\") to str"
     ]
    }
   ],
   "source": [
    "# but cannot concatenate sting and number\n",
    "n=1.2\n",
    "\"The value of n is\"+n"
   ]
  },
  {
   "cell_type": "code",
   "execution_count": 42,
   "metadata": {},
   "outputs": [
    {
     "ename": "TypeError",
     "evalue": "can only concatenate str (not \"float\") to str",
     "output_type": "error",
     "traceback": [
      "\u001b[0;31m---------------------------------------------------------------------------\u001b[0m",
      "\u001b[0;31mTypeError\u001b[0m                                 Traceback (most recent call last)",
      "\u001b[1;32m/Users/JingL/Documents/usf-master/fall 2024/TA/class code/lesson-3.ipynb Cell 10\u001b[0m line \u001b[0;36m2\n\u001b[1;32m      <a href='vscode-notebook-cell:/Users/JingL/Documents/usf-master/fall%202024/TA/class%20code/lesson-3.ipynb#X12sZmlsZQ%3D%3D?line=0'>1</a>\u001b[0m \u001b[39m# cannot be printed\u001b[39;00m\n\u001b[0;32m----> <a href='vscode-notebook-cell:/Users/JingL/Documents/usf-master/fall%202024/TA/class%20code/lesson-3.ipynb#X12sZmlsZQ%3D%3D?line=1'>2</a>\u001b[0m \u001b[39mprint\u001b[39m(\u001b[39m\"\u001b[39;49m\u001b[39mThe value of n is\u001b[39;49m\u001b[39m\"\u001b[39;49m\u001b[39m+\u001b[39;49mn)\n",
      "\u001b[0;31mTypeError\u001b[0m: can only concatenate str (not \"float\") to str"
     ]
    }
   ],
   "source": [
    "# cannot be printed\n",
    "print(\"The value of n is\"+n)"
   ]
  },
  {
   "cell_type": "code",
   "execution_count": 48,
   "metadata": {},
   "outputs": [
    {
     "name": "stdout",
     "output_type": "stream",
     "text": [
      "The value of n is 1.2\n",
      "The value of n is 1.2\n"
     ]
    },
    {
     "data": {
      "text/plain": [
       "'The value of n is 1.2'"
      ]
     },
     "execution_count": 48,
     "metadata": {},
     "output_type": "execute_result"
    }
   ],
   "source": [
    "# about +\n",
    "# check this:\n",
    "n = str(1.2)\n",
    "\n",
    "print(\"The value of n is\"+\" \" +n) # now n is a string\n",
    "print(\"The value of n is\", n)\n",
    "\"The value of n is\"+\" \" +n\n",
    "# + sign can only concatenate string with string "
   ]
  },
  {
   "cell_type": "code",
   "execution_count": 49,
   "metadata": {},
   "outputs": [
    {
     "name": "stdout",
     "output_type": "stream",
     "text": [
      "The value of n is 1.256\n",
      "The value of n is 1.256\n"
     ]
    },
    {
     "ename": "TypeError",
     "evalue": "can only concatenate str (not \"float\") to str",
     "output_type": "error",
     "traceback": [
      "\u001b[0;31m---------------------------------------------------------------------------\u001b[0m",
      "\u001b[0;31mTypeError\u001b[0m                                 Traceback (most recent call last)",
      "\u001b[1;32m/Users/JingL/Documents/usf-master/fall 2024/TA/class code/lesson-3.ipynb Cell 12\u001b[0m line \u001b[0;36m7\n\u001b[1;32m      <a href='vscode-notebook-cell:/Users/JingL/Documents/usf-master/fall%202024/TA/class%20code/lesson-3.ipynb#X14sZmlsZQ%3D%3D?line=4'>5</a>\u001b[0m \u001b[39mprint\u001b[39m(\u001b[39m\"\u001b[39m\u001b[39mThe value of n is\u001b[39m\u001b[39m\"\u001b[39m,n) \n\u001b[1;32m      <a href='vscode-notebook-cell:/Users/JingL/Documents/usf-master/fall%202024/TA/class%20code/lesson-3.ipynb#X14sZmlsZQ%3D%3D?line=5'>6</a>\u001b[0m \u001b[39mprint\u001b[39m(\u001b[39mf\u001b[39m\u001b[39m\"\u001b[39m\u001b[39mThe value of n is \u001b[39m\u001b[39m{\u001b[39;00mn\u001b[39m}\u001b[39;00m\u001b[39m\"\u001b[39m) \n\u001b[0;32m----> <a href='vscode-notebook-cell:/Users/JingL/Documents/usf-master/fall%202024/TA/class%20code/lesson-3.ipynb#X14sZmlsZQ%3D%3D?line=6'>7</a>\u001b[0m \u001b[39mprint\u001b[39m(\u001b[39m\"\u001b[39;49m\u001b[39mThe value of n is\u001b[39;49m\u001b[39m\"\u001b[39;49m\u001b[39m+\u001b[39;49mn) \n",
      "\u001b[0;31mTypeError\u001b[0m: can only concatenate str (not \"float\") to str"
     ]
    }
   ],
   "source": [
    "# when n is a number\n",
    "n = 1.256\n",
    "# if I want to show \"The value of n is 1.256\", how to?\n",
    "# which is correct?\n",
    "print(\"The value of n is\",n) \n",
    "print(f\"The value of n is {n}\") \n",
    "print(\"The value of n is\"+n) "
   ]
  },
  {
   "cell_type": "code",
   "execution_count": 8,
   "metadata": {},
   "outputs": [
    {
     "name": "stdout",
     "output_type": "stream",
     "text": [
      "3.3333333333333335\n",
      "3.3333333333333335\n",
      "6.0\n",
      "10.0\n",
      "3.0\n",
      "2.5\n",
      "2\n",
      "-2.5\n",
      "-3\n"
     ]
    }
   ],
   "source": [
    "# more on numbers, and calculation\n",
    "print(10/3) #the binary system approximates the division\n",
    "print(10.0 / 3.0)\n",
    "print(12/2)\n",
    "print(10/1)\n",
    "print(10.0//3) # divid and round down\n",
    "print(10/4)\n",
    "print(10//4)\n",
    "print(10/-4)\n",
    "print(10//-4) # round down to -3"
   ]
  },
  {
   "cell_type": "code",
   "execution_count": 54,
   "metadata": {},
   "outputs": [
    {
     "name": "stdout",
     "output_type": "stream",
     "text": [
      "result: 3.333333\n",
      "test: 3.33\n",
      "3.3333333333333335\n"
     ]
    }
   ],
   "source": [
    "# modulo operator %\n",
    "n = 10/3\n",
    "print(\"result: %f\" % n) #%f formats 34 as 34.000000;  %f displays 6 digits after the decimal point\n",
    "print(\"test: %.2f\" % n) # %.2f format 34 as 34.00\n",
    "print(n)"
   ]
  },
  {
   "cell_type": "code",
   "execution_count": 55,
   "metadata": {},
   "outputs": [
    {
     "name": "stdout",
     "output_type": "stream",
     "text": [
      "1.6666666666666667\n",
      "4\n",
      "-2\n",
      "1\n",
      "-2\n"
     ]
    }
   ],
   "source": [
    "# another use of %\n",
    "# print the remainder of a division\n",
    "print(10/6)\n",
    "print(10 % 6) #10 = 1*6 +4; 10 % 6 gives you remainder\n",
    "print(10 % -6) # = -2; because 10 - 2*6 = - 2\n",
    "print(25%3)\n",
    "print(25%-3)"
   ]
  },
  {
   "cell_type": "code",
   "execution_count": 58,
   "metadata": {},
   "outputs": [
    {
     "name": "stdout",
     "output_type": "stream",
     "text": [
      "61\n",
      "-62\n",
      "-1\n"
     ]
    }
   ],
   "source": [
    "print(123//2)\n",
    "print(123//-2) # round to -62\n",
    "print(123%-2) # 123 - 2*62 = -1"
   ]
  },
  {
   "cell_type": "code",
   "execution_count": 60,
   "metadata": {},
   "outputs": [
    {
     "name": "stdout",
     "output_type": "stream",
     "text": [
      "0\n",
      "8\n",
      "0\n",
      "2\n"
     ]
    }
   ],
   "source": [
    "print(pow(2, 3, 2)) # ?\n",
    "print(2**3)\n",
    "print((2**3)%2) # pow(x,y,z) = (x**y) % 2\n",
    "print(pow(2,3,3)) # 2**3=8; then, 8 % 3 = 2"
   ]
  },
  {
   "cell_type": "code",
   "execution_count": 33,
   "metadata": {},
   "outputs": [
    {
     "name": "stdout",
     "output_type": "stream",
     "text": [
      "314.159\n"
     ]
    }
   ],
   "source": [
    "# to calculate 2 variables\n",
    "Radius = 10\n",
    "pi = 3.14159\n",
    "area = pi * Radius * Radius\n",
    "print(area)"
   ]
  },
  {
   "cell_type": "code",
   "execution_count": 67,
   "metadata": {},
   "outputs": [
    {
     "name": "stdout",
     "output_type": "stream",
     "text": [
      "[314.159, 1256.636]\n"
     ]
    }
   ],
   "source": [
    "# to calculate 2 variables\n",
    "# for loop, will talk more in the future\n",
    "Radius = [10, 20]\n",
    "pi = 3.14159\n",
    "area = [pi * r * r for r in Radius] \n",
    "print(area)"
   ]
  },
  {
   "cell_type": "code",
   "execution_count": null,
   "metadata": {},
   "outputs": [],
   "source": [
    "# logical operator"
   ]
  },
  {
   "cell_type": "code",
   "execution_count": 59,
   "metadata": {},
   "outputs": [
    {
     "data": {
      "text/plain": [
       "False"
      ]
     },
     "execution_count": 59,
     "metadata": {},
     "output_type": "execute_result"
    }
   ],
   "source": [
    "# and or not\n",
    "value1 = 3000\n",
    "value2 = 2500\n",
    "value1 < value2"
   ]
  },
  {
   "cell_type": "code",
   "execution_count": 60,
   "metadata": {},
   "outputs": [
    {
     "data": {
      "text/plain": [
       "True"
      ]
     },
     "execution_count": 60,
     "metadata": {},
     "output_type": "execute_result"
    }
   ],
   "source": [
    "value1 < value2 or value1 > value2"
   ]
  },
  {
   "cell_type": "code",
   "execution_count": 61,
   "metadata": {},
   "outputs": [
    {
     "data": {
      "text/plain": [
       "False"
      ]
     },
     "execution_count": 61,
     "metadata": {},
     "output_type": "execute_result"
    }
   ],
   "source": [
    "value1 < value2 and value1 > value2"
   ]
  },
  {
   "cell_type": "code",
   "execution_count": 62,
   "metadata": {},
   "outputs": [
    {
     "data": {
      "text/plain": [
       "True"
      ]
     },
     "execution_count": 62,
     "metadata": {},
     "output_type": "execute_result"
    }
   ],
   "source": [
    "not value1 < value2"
   ]
  },
  {
   "cell_type": "code",
   "execution_count": 61,
   "metadata": {},
   "outputs": [
    {
     "data": {
      "text/plain": [
       "3.256"
      ]
     },
     "execution_count": 61,
     "metadata": {},
     "output_type": "execute_result"
    }
   ],
   "source": [
    "round(3.2564, 3)"
   ]
  },
  {
   "cell_type": "code",
   "execution_count": null,
   "metadata": {},
   "outputs": [],
   "source": [
    "# more about print()"
   ]
  },
  {
   "cell_type": "code",
   "execution_count": 63,
   "metadata": {},
   "outputs": [
    {
     "name": "stdout",
     "output_type": "stream",
     "text": [
      "2 2\n"
     ]
    }
   ],
   "source": [
    "# print() can print integers and float directly\n",
    "n = 2\n",
    "print(n,n)"
   ]
  },
  {
   "cell_type": "code",
   "execution_count": 68,
   "metadata": {},
   "outputs": [
    {
     "data": {
      "text/plain": [
       "(2, 2)"
      ]
     },
     "execution_count": 68,
     "metadata": {},
     "output_type": "execute_result"
    }
   ],
   "source": [
    "# same values as above but a tuple\n",
    "\n",
    "n,n\n"
   ]
  },
  {
   "cell_type": "code",
   "execution_count": 69,
   "metadata": {},
   "outputs": [
    {
     "name": "stdout",
     "output_type": "stream",
     "text": [
      "n's value is: 3 and n+1:  4\n"
     ]
    }
   ],
   "source": [
    "# or you can print with commas \n",
    "n = 3\n",
    "print(\"n's value is:\", n,\"and\", \"n+1: \", n+1)"
   ]
  },
  {
   "cell_type": "code",
   "execution_count": 70,
   "metadata": {},
   "outputs": [
    {
     "data": {
      "text/plain": [
       "(\"n's value is:\", 3, 'and', 'n+1: ', 4)"
      ]
     },
     "execution_count": 70,
     "metadata": {},
     "output_type": "execute_result"
    }
   ],
   "source": [
    "\"n's value is:\", n,\"and\", \"n+1: \", n+1"
   ]
  },
  {
   "cell_type": "code",
   "execution_count": 74,
   "metadata": {},
   "outputs": [
    {
     "name": "stdout",
     "output_type": "stream",
     "text": [
      "n = 70415389.94600211\n",
      "The value of n is  70,415,389.95\n"
     ]
    }
   ],
   "source": [
    "# or you can print with f\" {}\"\n",
    "n = 15.6478623*4500000.61324684\n",
    "print(f\"n = {n}\")\n",
    "print(f\"The value of n is {n: ,.2f}\") # keep 2 decimals\n",
    "# note: {n:,.2f} no space between , and .2f"
   ]
  },
  {
   "cell_type": "code",
   "execution_count": 76,
   "metadata": {},
   "outputs": [
    {
     "name": "stdout",
     "output_type": "stream",
     "text": [
      "Hello, Jing!\n"
     ]
    }
   ],
   "source": [
    "# input(), to interacte with users\n",
    "user_input = input(\"Enter your name: \")\n",
    "print(\"Hello, \" + user_input + \"!\")"
   ]
  },
  {
   "cell_type": "code",
   "execution_count": 77,
   "metadata": {},
   "outputs": [
    {
     "name": "stdout",
     "output_type": "stream",
     "text": [
      "The value of flt is 1.4\n",
      "The value of integer is 3\n",
      "<class 'str'>\n",
      "<class 'str'>\n"
     ]
    }
   ],
   "source": [
    "flt = input(\"random float: \")\n",
    "integer = input(\"random integer: \")\n",
    "\n",
    "print(f\"The value of flt is {flt}\")\n",
    "print(f\"The value of integer is {integer}\")\n",
    "\n",
    "print(type(flt))\n",
    "print(type(integer))"
   ]
  },
  {
   "cell_type": "code",
   "execution_count": 80,
   "metadata": {},
   "outputs": [
    {
     "name": "stdout",
     "output_type": "stream",
     "text": [
      "<class 'str'>\n",
      "<class 'str'>\n",
      "1994\n",
      "<class 'int'>\n",
      "30 1994\n",
      "Patient's name: Jing, and Birth year: 1994\n",
      "Patient's name: Jing and Birth year: 1994\n"
     ]
    }
   ],
   "source": [
    "PatientName = input(\"Enter your name: \")\n",
    "PatientAge = input(\"How old are you: \") \n",
    "print(type(PatientName)) #type: str\n",
    "print(type(PatientAge))  #type: str\n",
    "\n",
    "birthYear = 2024 - int(PatientAge) #change str to int\n",
    "print(birthYear)\n",
    "print(type(birthYear)) # integer\n",
    "print( PatientAge + \" \" + str(birthYear)) #chang int to str\n",
    "print(f\"Patient's name: {PatientName}, and Birth year: {birthYear}\")\n",
    "print(\"Patient's name:\", PatientName, \"and Birth year:\", birthYear)"
   ]
  },
  {
   "cell_type": "code",
   "execution_count": null,
   "metadata": {},
   "outputs": [],
   "source": [
    "\"\"\" Write a script that asks the user to input two numbers by using the input() function twice, \n",
    "then display whether or not the difference between those two number is an integer. \n",
    "When run, your program should look like this:\n",
    "Enter a number: 1.5\n",
    "Enter another number: .5\n",
    "The difference between 1.5 and .5 is an integer? True! \"\"\"\n",
    "\n",
    "\n",
    "\n",
    "\n",
    "\n",
    "\n",
    "\n",
    "\n",
    "\n",
    "\n"
   ]
  },
  {
   "cell_type": "code",
   "execution_count": 18,
   "metadata": {},
   "outputs": [
    {
     "name": "stdout",
     "output_type": "stream",
     "text": [
      "The difference between 1 and 4 is an integer? True\n",
      "The difference between 1 and 4 is an integer? True\n"
     ]
    }
   ],
   "source": [
    "# example code:\n",
    "a = input(\"Enter a number: \")\n",
    "b = input(\"Enter another number: \")\n",
    "diff = float(a) - float(b)\n",
    "\n",
    "print(f\"The difference between {a} and {b} is an integer?\", diff.is_integer())\n",
    "# or:\n",
    "print(\"The difference between\", a, \"and\", b, \"is an integer?\", diff.is_integer())"
   ]
  },
  {
   "cell_type": "code",
   "execution_count": 81,
   "metadata": {},
   "outputs": [
    {
     "name": "stdout",
     "output_type": "stream",
     "text": [
      "The value of flt is 1.23\n",
      "The value of integer is  2.00\n",
      "<class 'float'>\n",
      "<class 'int'>\n"
     ]
    }
   ],
   "source": [
    "flt = float(input(\"random float: \"))\n",
    "integer = int(input(\"random integer: \"))\n",
    "# why f{}?\n",
    "print(f\"The value of flt is {flt:.2f}\")\n",
    "print(f\"The value of integer is {integer: .2f}\") # can only be used with numbers\n",
    "\n",
    "print(type(flt))\n",
    "print(type(integer))"
   ]
  },
  {
   "cell_type": "code",
   "execution_count": 83,
   "metadata": {},
   "outputs": [
    {
     "data": {
      "text/plain": [
       "'The value of n is 100,000,000,000.23'"
      ]
     },
     "execution_count": 83,
     "metadata": {},
     "output_type": "execute_result"
    }
   ],
   "source": [
    "n = 100000000000.23456\n",
    "f\"The value of n is {n:,.2f}\" # adding commas"
   ]
  },
  {
   "cell_type": "code",
   "execution_count": 84,
   "metadata": {},
   "outputs": [
    {
     "data": {
      "text/plain": [
       "'91.20%'"
      ]
     },
     "execution_count": 84,
     "metadata": {},
     "output_type": "execute_result"
    }
   ],
   "source": [
    "percentage = 0.912\n",
    "f\"{percentage:.2%}\""
   ]
  },
  {
   "cell_type": "code",
   "execution_count": 86,
   "metadata": {},
   "outputs": [],
   "source": [
    "a = 1+ 2j"
   ]
  },
  {
   "cell_type": "code",
   "execution_count": 87,
   "metadata": {},
   "outputs": [
    {
     "name": "stdout",
     "output_type": "stream",
     "text": [
      "1.0\n",
      "2.0\n",
      "(1-2j)\n"
     ]
    }
   ],
   "source": [
    "print(a.real)\n",
    "print(a.imag)\n",
    "print(a.conjugate()) # a = 1+ 2j, a.conjugate = 1- 2j"
   ]
  },
  {
   "cell_type": "code",
   "execution_count": null,
   "metadata": {},
   "outputs": [],
   "source": [
    "\"\"\"Helpful links about Epidemiology Glossaries:\n",
    "\n",
    "Prevalence = #Total cases/#Total population\n",
    "\n",
    "https://www.nimh.nih.gov/health/statistics/what-is-prevalence#:~:text=For%20a%20representative%20sample%2C%20prevalence,of%20people%20in%20the%20sample.Links to an external site.\n",
    "\n",
    "Incidence (Note: Incidence is different from Incidence Proportion) = #New cases/#Total population* (For the total population, use the total populations from the questions because there is no information regarding person-time.) https://archive.cdc.gov/www_cdc_gov/csels/dsepd/ss1978/lesson3/section2.htmlLinks to an external site.\n",
    "\n",
    "Mortality rate = #Deaths/#Total population* (If all deaths happened within the timeframe, use the total population at the beginning of the timeframe.) https://www.health.ny.gov/diseases/chronic/basicstat.htm#:~:text=A%20mortality%20rate%20is%20the,population%20is%2083%20per%20100%2C000.Links to an external site.\n",
    "\n",
    "YPLL = life expectancy - age at death (Use the average life expectancy provided in the questions for your calculations.)\n",
    "\n",
    "https://wisqars.cdc.gov/help/leading-causes-of-death-and-years-of-potential-life-lost/Links to an external site.\"\"\""
   ]
  }
 ],
 "metadata": {
  "kernelspec": {
   "display_name": "Python 3",
   "language": "python",
   "name": "python3"
  },
  "language_info": {
   "codemirror_mode": {
    "name": "ipython",
    "version": 3
   },
   "file_extension": ".py",
   "mimetype": "text/x-python",
   "name": "python",
   "nbconvert_exporter": "python",
   "pygments_lexer": "ipython3",
   "version": "3.11.5"
  },
  "orig_nbformat": 4
 },
 "nbformat": 4,
 "nbformat_minor": 2
}

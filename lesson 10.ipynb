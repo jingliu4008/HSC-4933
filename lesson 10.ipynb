{
 "cells": [
  {
   "cell_type": "code",
   "execution_count": 2,
   "metadata": {},
   "outputs": [
    {
     "data": {
      "text/plain": [
       "1"
      ]
     },
     "execution_count": 2,
     "metadata": {},
     "output_type": "execute_result"
    }
   ],
   "source": [
    "# tuple\n",
    "tpl1 = (1,2,3)\n",
    "tpl1[0]"
   ]
  },
  {
   "cell_type": "code",
   "execution_count": 49,
   "metadata": {},
   "outputs": [],
   "source": [
    "tlp1=tuple(\"Python\") # string is iterable"
   ]
  },
  {
   "cell_type": "code",
   "execution_count": 50,
   "metadata": {},
   "outputs": [
    {
     "data": {
      "text/plain": [
       "'y'"
      ]
     },
     "execution_count": 50,
     "metadata": {},
     "output_type": "execute_result"
    }
   ],
   "source": [
    "tlp1[1]"
   ]
  },
  {
   "cell_type": "code",
   "execution_count": 32,
   "metadata": {},
   "outputs": [
    {
     "data": {
      "text/plain": [
       "'P'"
      ]
     },
     "execution_count": 32,
     "metadata": {},
     "output_type": "execute_result"
    }
   ],
   "source": [
    "\"Python\"[0] # string is iterable"
   ]
  },
  {
   "cell_type": "code",
   "execution_count": 47,
   "metadata": {},
   "outputs": [
    {
     "ename": "TypeError",
     "evalue": "tuple expected at most 1 argument, got 2",
     "output_type": "error",
     "traceback": [
      "\u001b[0;31m---------------------------------------------------------------------------\u001b[0m",
      "\u001b[0;31mTypeError\u001b[0m                                 Traceback (most recent call last)",
      "\u001b[1;32m/Users/JingL/Documents/usf-master/fall 2024/TA/class code/lesson 10.ipynb Cell 4\u001b[0m line \u001b[0;36m1\n\u001b[0;32m----> <a href='vscode-notebook-cell:/Users/JingL/Documents/usf-master/fall%202024/TA/class%20code/lesson%2010.ipynb#W2sZmlsZQ%3D%3D?line=0'>1</a>\u001b[0m \u001b[39mtuple\u001b[39m(\u001b[39m1\u001b[39m,\u001b[39m2\u001b[39m)\n",
      "\u001b[0;31mTypeError\u001b[0m: tuple expected at most 1 argument, got 2"
     ]
    }
   ],
   "source": [
    "tuple(1,2) # tuple() built in can only have 1 element in ()"
   ]
  },
  {
   "cell_type": "code",
   "execution_count": 48,
   "metadata": {},
   "outputs": [
    {
     "ename": "TypeError",
     "evalue": "tuple expected at most 1 argument, got 2",
     "output_type": "error",
     "traceback": [
      "\u001b[0;31m---------------------------------------------------------------------------\u001b[0m",
      "\u001b[0;31mTypeError\u001b[0m                                 Traceback (most recent call last)",
      "\u001b[1;32m/Users/JingL/Documents/usf-master/fall 2024/TA/class code/lesson 10.ipynb Cell 5\u001b[0m line \u001b[0;36m1\n\u001b[0;32m----> <a href='vscode-notebook-cell:/Users/JingL/Documents/usf-master/fall%202024/TA/class%20code/lesson%2010.ipynb#Y133sZmlsZQ%3D%3D?line=0'>1</a>\u001b[0m \u001b[39mtuple\u001b[39m(\u001b[39m\"\u001b[39m\u001b[39mPython\u001b[39m\u001b[39m\"\u001b[39m, \u001b[39m1\u001b[39m)\n",
      "\u001b[0;31mTypeError\u001b[0m: tuple expected at most 1 argument, got 2"
     ]
    }
   ],
   "source": [
    "tuple(\"Python\", 1)"
   ]
  },
  {
   "cell_type": "code",
   "execution_count": 7,
   "metadata": {},
   "outputs": [
    {
     "data": {
      "text/plain": [
       "('1', ',', '2')"
      ]
     },
     "execution_count": 7,
     "metadata": {},
     "output_type": "execute_result"
    }
   ],
   "source": [
    "tuple(\"1,2\")"
   ]
  },
  {
   "cell_type": "code",
   "execution_count": 3,
   "metadata": {},
   "outputs": [
    {
     "ename": "TypeError",
     "evalue": "'int' object is not iterable",
     "output_type": "error",
     "traceback": [
      "\u001b[0;31m---------------------------------------------------------------------------\u001b[0m",
      "\u001b[0;31mTypeError\u001b[0m                                 Traceback (most recent call last)",
      "\u001b[1;32m/Users/JingL/Documents/usf-master/fall 2024/TA/class code/lesson 10.ipynb Cell 6\u001b[0m line \u001b[0;36m1\n\u001b[0;32m----> <a href='vscode-notebook-cell:/Users/JingL/Documents/usf-master/fall%202024/TA/class%20code/lesson%2010.ipynb#W4sZmlsZQ%3D%3D?line=0'>1</a>\u001b[0m \u001b[39mtuple\u001b[39m(\u001b[39m1\u001b[39m)\n",
      "\u001b[0;31mTypeError\u001b[0m: 'int' object is not iterable"
     ]
    }
   ],
   "source": [
    "tuple(1) # a number doesn't work either because number is not iterable"
   ]
  },
  {
   "cell_type": "code",
   "execution_count": 5,
   "metadata": {},
   "outputs": [
    {
     "data": {
      "text/plain": [
       "(1,)"
      ]
     },
     "execution_count": 5,
     "metadata": {},
     "output_type": "execute_result"
    }
   ],
   "source": [
    "tuple([1]) # [1] is a list, which is iterable."
   ]
  },
  {
   "cell_type": "code",
   "execution_count": 7,
   "metadata": {},
   "outputs": [
    {
     "data": {
      "text/plain": [
       "(1, 2, 'Python')"
      ]
     },
     "execution_count": 7,
     "metadata": {},
     "output_type": "execute_result"
    }
   ],
   "source": [
    "tuple([1,2,\"Python\"]) # list is iterable"
   ]
  },
  {
   "cell_type": "code",
   "execution_count": 12,
   "metadata": {},
   "outputs": [
    {
     "data": {
      "text/plain": [
       "('1',)"
      ]
     },
     "execution_count": 12,
     "metadata": {},
     "output_type": "execute_result"
    }
   ],
   "source": [
    "tuple(\"1\") # output is ('1',) to show this is a tuple with a single element rather than a string '1'"
   ]
  },
  {
   "cell_type": "code",
   "execution_count": 15,
   "metadata": {},
   "outputs": [
    {
     "name": "stdout",
     "output_type": "stream",
     "text": [
      "()\n"
     ]
    }
   ],
   "source": [
    "# to create empty tuple\n",
    "a = tuple()\n",
    "print(a)"
   ]
  },
  {
   "cell_type": "code",
   "execution_count": 24,
   "metadata": {},
   "outputs": [
    {
     "name": "stdout",
     "output_type": "stream",
     "text": [
      "3\n",
      "tuple2 element 0 to 1:  (1, 2)\n"
     ]
    }
   ],
   "source": [
    "# tuple vs string\n",
    "tpl2 = (1,2,3) # use comma to seperate elements\n",
    "print(len(tpl2))\n",
    "print(\"tuple2 element 0 to 1: \",tpl2[0:2])"
   ]
  },
  {
   "cell_type": "code",
   "execution_count": 26,
   "metadata": {},
   "outputs": [
    {
     "name": "stdout",
     "output_type": "stream",
     "text": [
      "3\n",
      "string1 element 0 to 1:  12\n"
     ]
    }
   ],
   "source": [
    "string1 = \"123\" # no comma\n",
    "print(len(string1))\n",
    "print(\"string1 element 0 to 1: \",string1[0:2]) # no comma in the output"
   ]
  },
  {
   "cell_type": "code",
   "execution_count": 51,
   "metadata": {},
   "outputs": [
    {
     "ename": "NameError",
     "evalue": "name 'tpl2' is not defined",
     "output_type": "error",
     "traceback": [
      "\u001b[0;31m---------------------------------------------------------------------------\u001b[0m",
      "\u001b[0;31mNameError\u001b[0m                                 Traceback (most recent call last)",
      "\u001b[1;32m/Users/JingL/Documents/usf-master/fall 2024/TA/class code/lesson 10.ipynb Cell 15\u001b[0m line \u001b[0;36m2\n\u001b[1;32m      <a href='vscode-notebook-cell:/Users/JingL/Documents/usf-master/fall%202024/TA/class%20code/lesson%2010.ipynb#X12sZmlsZQ%3D%3D?line=0'>1</a>\u001b[0m \u001b[39m# tuple is immutable\u001b[39;00m\n\u001b[0;32m----> <a href='vscode-notebook-cell:/Users/JingL/Documents/usf-master/fall%202024/TA/class%20code/lesson%2010.ipynb#X12sZmlsZQ%3D%3D?line=1'>2</a>\u001b[0m tpl2[\u001b[39m0\u001b[39m] \u001b[39m=\u001b[39m \u001b[39m2\u001b[39m\n",
      "\u001b[0;31mNameError\u001b[0m: name 'tpl2' is not defined"
     ]
    }
   ],
   "source": [
    "# tuple is immutable\n",
    "tpl2[0] = 2"
   ]
  },
  {
   "cell_type": "code",
   "execution_count": 70,
   "metadata": {},
   "outputs": [
    {
     "name": "stdout",
     "output_type": "stream",
     "text": [
      "n\n"
     ]
    }
   ],
   "source": [
    "# tuple is immutable, but it is iterable\n",
    "tpl3 = tuple(\"PYTHON\")\n",
    "for ele in tpl3:\n",
    "    tpl4=(ele.lower())\n",
    "print(tpl4)"
   ]
  },
  {
   "cell_type": "code",
   "execution_count": 73,
   "metadata": {},
   "outputs": [
    {
     "name": "stdout",
     "output_type": "stream",
     "text": [
      "p\n"
     ]
    }
   ],
   "source": [
    "tpl3 = tuple(\"PYTHON\")\n",
    "list0 = list(tpl3)\n",
    "tpl4 = list0[0].lower()\n",
    "print(tpl4)"
   ]
  },
  {
   "cell_type": "code",
   "execution_count": 72,
   "metadata": {},
   "outputs": [
    {
     "name": "stdout",
     "output_type": "stream",
     "text": [
      "p\n"
     ]
    }
   ],
   "source": [
    "tpl3 = tuple(\"PYTHON\")       \n",
    "list0 = list(tpl3)\n",
    "tpl4 =  list0[0].lower() \n",
    "print(tpl4)"
   ]
  },
  {
   "cell_type": "code",
   "execution_count": 74,
   "metadata": {},
   "outputs": [
    {
     "data": {
      "text/plain": [
       "tuple"
      ]
     },
     "execution_count": 74,
     "metadata": {},
     "output_type": "execute_result"
    }
   ],
   "source": [
    "# packing\n",
    "coordinates = 1.23, 3.56 # another way to create tuple\n",
    "type(coordinates)"
   ]
  },
  {
   "cell_type": "code",
   "execution_count": 39,
   "metadata": {},
   "outputs": [
    {
     "name": "stdout",
     "output_type": "stream",
     "text": [
      "1.23\n",
      "3.56\n"
     ]
    }
   ],
   "source": [
    "#  unpaking tuple\n",
    "x, y = coordinates\n",
    "print(x)\n",
    "print(y)"
   ]
  },
  {
   "cell_type": "code",
   "execution_count": 76,
   "metadata": {},
   "outputs": [
    {
     "name": "stdout",
     "output_type": "stream",
     "text": [
      "-80.448713\n",
      "28.3735\n",
      "Epcot, Disney\n"
     ]
    }
   ],
   "source": [
    "# packing and unpacking\n",
    "x, y, location = -80.448713, 28.3735, \"Epcot, Disney\"\n",
    "print(x)\n",
    "print(y)\n",
    "print(location)"
   ]
  },
  {
   "cell_type": "code",
   "execution_count": 11,
   "metadata": {},
   "outputs": [
    {
     "ename": "SyntaxError",
     "evalue": "cannot assign to literal here. Maybe you meant '==' instead of '='? (1118307972.py, line 1)",
     "output_type": "error",
     "traceback": [
      "\u001b[0;36m  Cell \u001b[0;32mIn[11], line 1\u001b[0;36m\u001b[0m\n\u001b[0;31m    x, y, location,\"extra\" = -80.448713, 28.3735, \"Epcot, Disney\"\u001b[0m\n\u001b[0m                   ^\u001b[0m\n\u001b[0;31mSyntaxError\u001b[0m\u001b[0;31m:\u001b[0m cannot assign to literal here. Maybe you meant '==' instead of '='?\n"
     ]
    }
   ],
   "source": [
    "x, y, location,\"extra\" = -80.448713, 28.3735, \"Epcot, Disney\""
   ]
  },
  {
   "cell_type": "code",
   "execution_count": 75,
   "metadata": {},
   "outputs": [
    {
     "data": {
      "text/plain": [
       "True"
      ]
     },
     "execution_count": 75,
     "metadata": {},
     "output_type": "execute_result"
    }
   ],
   "source": [
    "#(x, y, location,\"extra\") == (-80.448713, 28.3735, \"Epcot, Disney\")\n",
    "(x, y, location) == (-80.448713, 28.3735, \"Epcot, Disney\")"
   ]
  },
  {
   "cell_type": "code",
   "execution_count": 82,
   "metadata": {},
   "outputs": [
    {
     "data": {
      "text/plain": [
       "tuple"
      ]
     },
     "execution_count": 82,
     "metadata": {},
     "output_type": "execute_result"
    }
   ],
   "source": [
    "tpl4 = 1, # delete comma, it becomes int\n",
    "type(tpl4)"
   ]
  },
  {
   "cell_type": "code",
   "execution_count": 84,
   "metadata": {},
   "outputs": [
    {
     "data": {
      "text/plain": [
       "True"
      ]
     },
     "execution_count": 84,
     "metadata": {},
     "output_type": "execute_result"
    }
   ],
   "source": [
    "tpl3 = tuple(\"PYTHON\")\n",
    "\"P\" in tpl3"
   ]
  },
  {
   "cell_type": "code",
   "execution_count": 87,
   "metadata": {},
   "outputs": [
    {
     "name": "stdout",
     "output_type": "stream",
     "text": [
      "<class 'list'>\n",
      "['var_x:', 8, 'var_y:', -9]\n"
     ]
    }
   ],
   "source": [
    "# use tuple to store results from your fuction\n",
    "def variance(x, y):\n",
    "    x_mean = 2\n",
    "    y_mean = 4\n",
    "    #return (\"var_x:\", x - x_mean, \"var_y:\", y - y_mean)\n",
    "    #return \"var_x:\", x - x_mean, \"var_y:\", y - y_mean\n",
    "    return [\"var_x:\", x - x_mean, \"var_y:\", y - y_mean]\n",
    "\n",
    "vars = variance(10, -5)\n",
    "print(type(vars))\n",
    "print(vars)\n"
   ]
  },
  {
   "cell_type": "code",
   "execution_count": 56,
   "metadata": {},
   "outputs": [
    {
     "data": {
      "text/plain": [
       "[1, 2, 3]"
      ]
     },
     "execution_count": 56,
     "metadata": {},
     "output_type": "execute_result"
    }
   ],
   "source": [
    "# LIST\n",
    "lst1 = [1,2,3]\n",
    "lst1"
   ]
  },
  {
   "cell_type": "code",
   "execution_count": 61,
   "metadata": {},
   "outputs": [
    {
     "name": "stdout",
     "output_type": "stream",
     "text": [
      "pollutant: NO2\n",
      "pollutant: CO2\n",
      "pollutant: CH4\n"
     ]
    }
   ],
   "source": [
    "lst2 = [\"NO2\",\"CO2\",\"CH4\"]\n",
    "for i in lst2:\n",
    "    print(\"pollutant:\", i)"
   ]
  },
  {
   "cell_type": "code",
   "execution_count": 64,
   "metadata": {},
   "outputs": [
    {
     "data": {
      "text/plain": [
       "['1', '2', '3']"
      ]
     },
     "execution_count": 64,
     "metadata": {},
     "output_type": "execute_result"
    }
   ],
   "source": [
    "# built in list()\n",
    "list(\"123\")"
   ]
  },
  {
   "cell_type": "code",
   "execution_count": 31,
   "metadata": {},
   "outputs": [
    {
     "ename": "TypeError",
     "evalue": "list expected at most 1 argument, got 2",
     "output_type": "error",
     "traceback": [
      "\u001b[0;31m---------------------------------------------------------------------------\u001b[0m",
      "\u001b[0;31mTypeError\u001b[0m                                 Traceback (most recent call last)",
      "\u001b[1;32m/Users/JingL/Documents/usf-master/fall 2024/TA/class code/lesson 10.ipynb Cell 26\u001b[0m line \u001b[0;36m1\n\u001b[0;32m----> <a href='vscode-notebook-cell:/Users/JingL/Documents/usf-master/fall%202024/TA/class%20code/lesson%2010.ipynb#Y140sZmlsZQ%3D%3D?line=0'>1</a>\u001b[0m \u001b[39mlist\u001b[39m(\u001b[39m1\u001b[39m,\u001b[39m2\u001b[39m)\n",
      "\u001b[0;31mTypeError\u001b[0m: list expected at most 1 argument, got 2"
     ]
    }
   ],
   "source": [
    "list(1,2)"
   ]
  },
  {
   "cell_type": "code",
   "execution_count": 88,
   "metadata": {},
   "outputs": [
    {
     "name": "stdout",
     "output_type": "stream",
     "text": [
      "tpl1: <class 'tuple'>\n",
      "lst3: <class 'list'>\n",
      "[1, 2, 3]\n"
     ]
    }
   ],
   "source": [
    "# change tuple to list\n",
    "tpl1 = (1,2,3)\n",
    "print(\"tpl1:\", type(tpl1))\n",
    "lst3 = list(tpl1)\n",
    "print(\"lst3:\",type(lst3))\n",
    "print(lst3)"
   ]
  },
  {
   "cell_type": "code",
   "execution_count": 96,
   "metadata": {},
   "outputs": [
    {
     "name": "stdout",
     "output_type": "stream",
     "text": [
      "<class 'str'>\n",
      "['eggs', ' milk', ' cheese', ' ']\n",
      "<class 'list'>\n"
     ]
    }
   ],
   "source": [
    "# string's function: .split()\n",
    "\n",
    "groceries = \"eggs, milk, cheese, \"\n",
    "print(type(groceries))\n",
    "grocery_list = groceries.split(\",\") \n",
    "print(grocery_list)\n",
    "print(type(grocery_list))\n"
   ]
  },
  {
   "cell_type": "code",
   "execution_count": 95,
   "metadata": {},
   "outputs": [
    {
     "data": {
      "text/plain": [
       "['a', 'b', 'c', 'd', '']"
      ]
     },
     "execution_count": 95,
     "metadata": {},
     "output_type": "execute_result"
    }
   ],
   "source": [
    "\"a b c d \".split(\" \") # the last element is empty string"
   ]
  },
  {
   "cell_type": "code",
   "execution_count": 79,
   "metadata": {},
   "outputs": [
    {
     "data": {
      "text/plain": [
       "['a b ', ' d ']"
      ]
     },
     "execution_count": 79,
     "metadata": {},
     "output_type": "execute_result"
    }
   ],
   "source": [
    "\"a b c d \".split(\"c\")"
   ]
  },
  {
   "cell_type": "code",
   "execution_count": 80,
   "metadata": {},
   "outputs": [
    {
     "data": {
      "text/plain": [
       "['a b c d ']"
      ]
     },
     "execution_count": 80,
     "metadata": {},
     "output_type": "execute_result"
    }
   ],
   "source": [
    "\"a b c d \".split(\"f\")"
   ]
  },
  {
   "cell_type": "code",
   "execution_count": 97,
   "metadata": {},
   "outputs": [
    {
     "name": "stdout",
     "output_type": "stream",
     "text": [
      "CO2\n",
      "['NO2', 'SO2', 'CH4']\n"
     ]
    }
   ],
   "source": [
    "lst2 = [\"NO2\",\"CO2\",\"CH4\"]\n",
    "print(lst2[1])\n",
    "lst2[1] = \"SO2\"\n",
    "print(lst2)"
   ]
  },
  {
   "cell_type": "code",
   "execution_count": 98,
   "metadata": {},
   "outputs": [
    {
     "data": {
      "text/plain": [
       "False"
      ]
     },
     "execution_count": 98,
     "metadata": {},
     "output_type": "execute_result"
    }
   ],
   "source": [
    "\"CO2\" in lst2"
   ]
  },
  {
   "cell_type": "code",
   "execution_count": 85,
   "metadata": {},
   "outputs": [
    {
     "name": "stdout",
     "output_type": "stream",
     "text": [
      "2  is even\n",
      "4  is even\n"
     ]
    }
   ],
   "source": [
    "for i in [1,2,3,4,5]:\n",
    "    if i % 2 == 0:\n",
    "        print(i, \" is even\")\n"
   ]
  },
  {
   "cell_type": "code",
   "execution_count": 36,
   "metadata": {},
   "outputs": [
    {
     "name": "stdout",
     "output_type": "stream",
     "text": [
      "[0, [1, 2], 2, 3, 4, 5, 6]\n"
     ]
    }
   ],
   "source": [
    "# mutable list\n",
    "nums = [0,1,2,3,4,5,6]\n",
    "nums[1] = [1,2] # created nested list\n",
    "print(nums)"
   ]
  },
  {
   "cell_type": "code",
   "execution_count": 107,
   "metadata": {},
   "outputs": [
    {
     "name": "stdout",
     "output_type": "stream",
     "text": [
      "[1]\n",
      "[0, 1, 2, 2, 3, 4, 5, 6]\n",
      "[0, 1, 2, 4, 5, 6]\n"
     ]
    }
   ],
   "source": [
    "nums = [0,1,2,3,4,5,6]\n",
    "print(nums[1:2])\n",
    "nums[1:2] = [1,2] #[1:2] = 1, so this will add an extra 2\n",
    "print(nums)\n",
    "nums[1:5] = [1,2] # change 1, 2, 2, 3 to 1,2\n",
    "print(nums)"
   ]
  },
  {
   "cell_type": "code",
   "execution_count": 110,
   "metadata": {},
   "outputs": [
    {
     "name": "stdout",
     "output_type": "stream",
     "text": [
      "[4, 0, 1, 2, 3, 4, 5, 6]\n"
     ]
    }
   ],
   "source": [
    "# insert()\n",
    "nums = [0,1,2,3,4,5,6]\n",
    "nums.insert(0, 4) # before position -1, insert 4\n",
    "print(nums)"
   ]
  },
  {
   "cell_type": "code",
   "execution_count": 111,
   "metadata": {},
   "outputs": [
    {
     "name": "stdout",
     "output_type": "stream",
     "text": [
      "[4, 5, 0, 1, 2, 3, 4, 5, 6]\n"
     ]
    }
   ],
   "source": [
    "nums.insert(1,5)\n",
    "print(nums)"
   ]
  },
  {
   "cell_type": "code",
   "execution_count": 101,
   "metadata": {},
   "outputs": [
    {
     "name": "stdout",
     "output_type": "stream",
     "text": [
      "None\n"
     ]
    }
   ],
   "source": [
    "nums = nums.insert(1,5) # it will remove values in nums\n",
    "print(nums)"
   ]
  },
  {
   "cell_type": "code",
   "execution_count": 113,
   "metadata": {},
   "outputs": [
    {
     "name": "stdout",
     "output_type": "stream",
     "text": [
      "4\n",
      "[1, 2, 3, 5, 6]\n"
     ]
    }
   ],
   "source": [
    "nums = [1,2,3,4,5,6]\n",
    "nums2 = nums.pop(3) # to remove and return an element from a list at a specified index\n",
    "print(nums2)\n",
    "print(nums) # it will remove 3 in nums"
   ]
  },
  {
   "cell_type": "code",
   "execution_count": 114,
   "metadata": {},
   "outputs": [
    {
     "name": "stdout",
     "output_type": "stream",
     "text": [
      "[1, 2, 3, 5]\n"
     ]
    }
   ],
   "source": [
    "nums.pop() # by default, remove the last one\n",
    "print(nums)"
   ]
  },
  {
   "cell_type": "code",
   "execution_count": 117,
   "metadata": {},
   "outputs": [
    {
     "name": "stdout",
     "output_type": "stream",
     "text": [
      "[1, 2, 3, 5, 5, 5, 5]\n"
     ]
    }
   ],
   "source": [
    "nums.insert(20, 5)\n",
    "print(nums)"
   ]
  },
  {
   "cell_type": "code",
   "execution_count": 106,
   "metadata": {},
   "outputs": [
    {
     "ename": "IndexError",
     "evalue": "pop index out of range",
     "output_type": "error",
     "traceback": [
      "\u001b[0;31m---------------------------------------------------------------------------\u001b[0m",
      "\u001b[0;31mIndexError\u001b[0m                                Traceback (most recent call last)",
      "\u001b[1;32m/Users/JingL/Documents/usf-master/fall 2024/TA/class code/lesson 10.ipynb Cell 37\u001b[0m line \u001b[0;36m1\n\u001b[0;32m----> <a href='vscode-notebook-cell:/Users/JingL/Documents/usf-master/fall%202024/TA/class%20code/lesson%2010.ipynb#X53sZmlsZQ%3D%3D?line=0'>1</a>\u001b[0m nums\u001b[39m.\u001b[39mpop(\u001b[39m20\u001b[39m)\n",
      "\u001b[0;31mIndexError\u001b[0m: pop index out of range"
     ]
    }
   ],
   "source": [
    "nums.pop(20) # 20 > length"
   ]
  },
  {
   "cell_type": "code",
   "execution_count": 118,
   "metadata": {},
   "outputs": [
    {
     "name": "stdout",
     "output_type": "stream",
     "text": [
      "[0, 1, 2, 3, 4, 5, 6, 7]\n"
     ]
    }
   ],
   "source": [
    "# appent()\n",
    "nums = [0,1,2,3,4,5,6]\n",
    "nums.append(7)\n",
    "print(nums)"
   ]
  },
  {
   "cell_type": "code",
   "execution_count": 119,
   "metadata": {},
   "outputs": [
    {
     "name": "stdout",
     "output_type": "stream",
     "text": [
      "[0, 1, 2, 3, 4, 5, 6, 8]\n",
      "[0, 1, 2, 3, 4, 5, 6, 8]\n"
     ]
    }
   ],
   "source": [
    "nums = [0,1,2,3,4,5,6]\n",
    "nums.append(8)\n",
    "nums3=nums\n",
    "print(nums)\n",
    "print(nums3)\n"
   ]
  },
  {
   "cell_type": "code",
   "execution_count": 123,
   "metadata": {},
   "outputs": [
    {
     "name": "stdout",
     "output_type": "stream",
     "text": [
      "[0, 1, 2, 3, 4, 5, 6, 8, 8, 8]\n",
      "[0, 1, 2, 3, 4, 5, 6, 8, 8, 8]\n"
     ]
    }
   ],
   "source": [
    "#nums3.append(8)\n",
    "print(nums)# linked nums and nums3\n",
    "print(nums3)"
   ]
  },
  {
   "cell_type": "code",
   "execution_count": 124,
   "metadata": {},
   "outputs": [
    {
     "name": "stdout",
     "output_type": "stream",
     "text": [
      "[0, 1, 2, 3, 4, 5, 6, 8, 8, 8, 9, 10, 11]\n",
      "None\n"
     ]
    }
   ],
   "source": [
    "# .extend()\n",
    "nums3 = nums.extend([9,10,11]) # add multiple elements to the end\n",
    "print(nums)\n",
    "print(nums3)"
   ]
  },
  {
   "cell_type": "code",
   "execution_count": 125,
   "metadata": {},
   "outputs": [
    {
     "data": {
      "text/plain": [
       "21"
      ]
     },
     "execution_count": 125,
     "metadata": {},
     "output_type": "execute_result"
    }
   ],
   "source": [
    "# to sum up using list\n",
    "nums = [0,1,2,3,4,5,6]\n",
    "sum(nums)"
   ]
  },
  {
   "cell_type": "code",
   "execution_count": 131,
   "metadata": {},
   "outputs": [
    {
     "name": "stdout",
     "output_type": "stream",
     "text": [
      "0\n",
      "1\n",
      "3\n",
      "6\n",
      "10\n",
      "15\n",
      "21\n",
      "sum= 21\n"
     ]
    }
   ],
   "source": [
    "nums = [0,1,2,3,4,5,6]\n",
    "sum_list=0\n",
    "for i in nums:\n",
    "    sum_list += nums[i]\n",
    "    print(sum_list)\n",
    "\n",
    "print(\"sum=\", sum_list)\n"
   ]
  },
  {
   "cell_type": "code",
   "execution_count": 134,
   "metadata": {},
   "outputs": [
    {
     "name": "stdout",
     "output_type": "stream",
     "text": [
      "1\n",
      "1\n",
      "1\n",
      "3\n",
      "3\n",
      "3\n",
      "6\n",
      "6\n",
      "6\n"
     ]
    }
   ],
   "source": [
    "print(min([1,2,3]))\n",
    "print(min((1,2,3)))\n",
    "print(min(1,2,3)) # used with multiple arguments\n",
    "print(max([1,2,3]))\n",
    "print(max((1,2,3)))\n",
    "print(max(1,2,3)) # used with multiple arguments\n",
    "print(sum([1,2,3]))\n",
    "print(sum((1,2,3)))\n",
    "#print(sum(1,2,3)) # wrong, sum only takes 1 argument\n",
    "print(sum(range(1,4)))"
   ]
  },
  {
   "cell_type": "code",
   "execution_count": 136,
   "metadata": {},
   "outputs": [
    {
     "name": "stdout",
     "output_type": "stream",
     "text": [
      "[0, 1, 4, 9, 16, 25, 36]\n"
     ]
    }
   ],
   "source": [
    "#nums = [0,1,2,3,4,5,6]  # can also use tuple\n",
    "nums = (0,1,2,3,4,5,6)\n",
    "squares = [num**2 for num in nums]\n",
    "print(squares)"
   ]
  },
  {
   "cell_type": "code",
   "execution_count": 175,
   "metadata": {},
   "outputs": [
    {
     "name": "stdout",
     "output_type": "stream",
     "text": [
      "[0]\n",
      "[0, 1]\n",
      "[0, 1, 4]\n",
      "[0, 1, 4, 9]\n",
      "[0, 1, 4, 9, 16]\n",
      "[0, 1, 4, 9, 16, 25]\n",
      "[0, 1, 4, 9, 16, 25, 36]\n"
     ]
    }
   ],
   "source": [
    "squares = []\n",
    "nums = (0,1,2,3,4,5,6)\n",
    "for i in range(7):\n",
    "    squares.append(nums[i]**2)\n",
    "    print(squares)"
   ]
  },
  {
   "cell_type": "code",
   "execution_count": 181,
   "metadata": {},
   "outputs": [
    {
     "name": "stdout",
     "output_type": "stream",
     "text": [
      "[1.0, 2.0, 3.6]\n",
      "[1, 2, 3]\n"
     ]
    }
   ],
   "source": [
    "nums_str = (\"1\",\"2\",\"3.6\")\n",
    "float_nums = [float(num) for num in nums_str ]\n",
    "print(float_nums)\n",
    "int_nums = [int(num) for num in float_nums]\n",
    "print(int_nums)"
   ]
  },
  {
   "cell_type": "code",
   "execution_count": 168,
   "metadata": {},
   "outputs": [
    {
     "name": "stdout",
     "output_type": "stream",
     "text": [
      "[0, 1, 2, 3, 4, 5, 6, 0, 1, 2, 3, 4, 5, 6]\n",
      "[0, 1, 2, 3, 4, 5, 6, 7, 8, 9]\n"
     ]
    }
   ],
   "source": [
    "nums = [0,1,2,3,4,5,6]\n",
    "nums4 = [7,8,9]\n",
    "print(nums*2)\n",
    "print(nums + nums4) # only * and + can be used to calculate list"
   ]
  },
  {
   "cell_type": "code",
   "execution_count": 137,
   "metadata": {},
   "outputs": [
    {
     "name": "stdout",
     "output_type": "stream",
     "text": [
      "4\n",
      "5\n"
     ]
    }
   ],
   "source": [
    "# nested structure\n",
    "data_points = [(1, 4), \n",
    "               (2, 5),\n",
    "               (3, 6)]\n",
    "#print(data_points[0])\n",
    "print(data_points[0][1])\n",
    "print(data_points[1][1])"
   ]
  },
  {
   "cell_type": "code",
   "execution_count": 184,
   "metadata": {},
   "outputs": [
    {
     "name": "stdout",
     "output_type": "stream",
     "text": [
      "7\n",
      "5\n"
     ]
    }
   ],
   "source": [
    "data_points = [(1, 4, 7), \n",
    "               (2, 5, 8),\n",
    "               (3, 6, 9)]\n",
    "#print(data_points[0])\n",
    "print(data_points[0][2])\n",
    "print(data_points[1][1])"
   ]
  },
  {
   "cell_type": "code",
   "execution_count": 195,
   "metadata": {},
   "outputs": [
    {
     "name": "stdout",
     "output_type": "stream",
     "text": [
      "7\n",
      "5\n",
      "10\n",
      "[10, 11]\n",
      "11\n"
     ]
    }
   ],
   "source": [
    "data_points = [(1, 4, 7), \n",
    "               (2, 5, 8),\n",
    "               (3, 6, 9),\n",
    "               ([10,11], 12)]\n",
    "#print(data_points[0])\n",
    "print(data_points[0][2])\n",
    "print(data_points[1][1])\n",
    "print(data_points[3][0][0])\n",
    "print(data_points[3][0])\n",
    "print(data_points[3][0][1])"
   ]
  },
  {
   "cell_type": "code",
   "execution_count": 203,
   "metadata": {},
   "outputs": [
    {
     "data": {
      "text/plain": [
       "['blue', 'green', 'purple', 'red', 'yellow']"
      ]
     },
     "execution_count": 203,
     "metadata": {},
     "output_type": "execute_result"
    }
   ],
   "source": [
    "# sort list\n",
    "colors = [\"red\",\"purple\", \"yellow\", \"green\", \"blue\"]\n",
    "colors.sort() # it will change the sore of colors\n",
    "colors"
   ]
  },
  {
   "cell_type": "code",
   "execution_count": 202,
   "metadata": {},
   "outputs": [
    {
     "data": {
      "text/plain": [
       "['red', 'blue', 'green', 'purple', 'yellow']"
      ]
     },
     "execution_count": 202,
     "metadata": {},
     "output_type": "execute_result"
    }
   ],
   "source": [
    "colors = [\"red\",\"purple\", \"yellow\", \"green\", \"blue\"]\n",
    "colors.sort(key=len)\n",
    "colors"
   ]
  },
  {
   "cell_type": "code",
   "execution_count": 206,
   "metadata": {},
   "outputs": [
    {
     "name": "stdout",
     "output_type": "stream",
     "text": [
      "112\n",
      "121\n"
     ]
    }
   ],
   "source": [
    "print(ord(\"p\"))\n",
    "print(ord(\"y\"))   "
   ]
  },
  {
   "cell_type": "code",
   "execution_count": 225,
   "metadata": {},
   "outputs": [
    {
     "name": "stdout",
     "output_type": "stream",
     "text": [
      "[(4, 5), (10, 2)]\n"
     ]
    }
   ],
   "source": [
    "lst4 = [(10,2),(4,5)]\n",
    "lst4.sort()\n",
    "print(lst4)"
   ]
  },
  {
   "cell_type": "code",
   "execution_count": 139,
   "metadata": {},
   "outputs": [
    {
     "name": "stdout",
     "output_type": "stream",
     "text": [
      "[(-9, 0), (4, 1), (1, 2)]\n"
     ]
    },
    {
     "data": {
      "text/plain": [
       "'key: for each element (tuple) in the list, apply the get_second_element function to extract the second element, \\nand use that extracted value for sorting.'"
      ]
     },
     "execution_count": 139,
     "metadata": {},
     "output_type": "execute_result"
    }
   ],
   "source": [
    "def get_second_element(item):\n",
    "    return item[1] \n",
    "items = [(4, 1), (1, 2), (-9, 0)] # here, item[1] = 1 from (4,1)...\n",
    "items.sort(key=get_second_element) # .sort(key=...) is to sort by ...\n",
    "print(items)\n",
    "\n",
    "\"\"\"key: for each element (tuple) in the list, apply the get_second_element function to extract the second element, \n",
    "and use that extracted value for sorting.\"\"\""
   ]
  },
  {
   "cell_type": "code",
   "execution_count": 5,
   "metadata": {},
   "outputs": [
    {
     "data": {
      "text/plain": [
       "([2175, 19627, 10566, 7802, 5879, 19535, 11701],\n",
       " [37704, 39849, 40732, 37000, 35551, 40569, 40500])"
      ]
     },
     "execution_count": 5,
     "metadata": {},
     "output_type": "execute_result"
    }
   ],
   "source": [
    "# example from textbook page 260\n",
    "def extract_ele(value):\n",
    "    enroll = []\n",
    "    tuition = []\n",
    "    for i in value:\n",
    "        enroll.append(i[1])\n",
    "        tuition.append(i[2])\n",
    "    return enroll, tuition\n",
    "\n",
    "universities = [\n",
    "    ['California Institute of Technology', 2175, 37704], \n",
    "    ['Harvard', 19627, 39849],\n",
    "    ['Massachusetts Institute of Technology', 10566, 40732], \n",
    "    ['Princeton', 7802, 37000],\n",
    "    ['Rice', 5879, 35551],\n",
    "    ['Stanford', 19535, 40569],\n",
    "    ['Yale', 11701, 40500]\n",
    "    ]\n",
    "\n",
    "extract_ele(universities)"
   ]
  },
  {
   "cell_type": "code",
   "execution_count": 38,
   "metadata": {},
   "outputs": [
    {
     "name": "stdout",
     "output_type": "stream",
     "text": [
      "(11040.714285714286, 10566, 77285)\n",
      "(38843.57142857143, 39849, 271905)\n"
     ]
    }
   ],
   "source": [
    "# step2: check whether cal_means() works\n",
    "def cal_means(value):\n",
    "    sum_value = sum(value)\n",
    "    mean_value = sum_value/len(value)\n",
    "    value.sort()\n",
    "    if len(value)%2 == 0:\n",
    "        median = (value[len(value)/2] + value[(len(value)/2)+1])/2\n",
    "    else:\n",
    "        median = value[(len(value)//2)]\n",
    "    return mean_value, median, sum_value\n",
    "\n",
    "print(cal_means([2175, 19627, 10566, 7802, 5879, 19535, 11701]))\n",
    "print(cal_means([37704, 39849, 40732, 37000, 35551, 40569, 40500]))\n"
   ]
  },
  {
   "cell_type": "code",
   "execution_count": 141,
   "metadata": {},
   "outputs": [
    {
     "data": {
      "text/plain": [
       "(77285, 271905, 11040.71, 10566, 38843.57, 39849)"
      ]
     },
     "execution_count": 141,
     "metadata": {},
     "output_type": "execute_result"
    }
   ],
   "source": [
    "# step 3: check extract_ele() can extract elements\n",
    "def extract_ele(value1):\n",
    "    enroll = []\n",
    "    tuition = []\n",
    "    for i in value1:\n",
    "        enroll.append(i[1])\n",
    "        tuition.append(i[2])\n",
    "    \n",
    "\n",
    "    def cal_means(value2):\n",
    "        mean_value = round(sum(value2)/len(value2),2)\n",
    "        value2.sort()\n",
    "        if len(value2)%2 == 0:\n",
    "            median = (value2[len(value2)/2] + value2[(len(value2)/2)+1])/2\n",
    "        else:\n",
    "            median = value2[(len(value2)//2)]\n",
    "        return mean_value, median\n",
    "    enroll_mean, enroll_median = cal_means(enroll)\n",
    "    tuition_mean, tuition_median = cal_means(tuition)\n",
    "    return sum(enroll), sum(tuition), enroll_mean, enroll_median, tuition_mean, tuition_median\n",
    "    #print(\"sum of enrolment: \", sum(enroll))\n",
    "    #print(\"sum of tuition: \", sum(tuition))\n",
    "    #print(\"Student mean: \", enroll_mean)\n",
    "\n",
    "universities = [\n",
    "    ['California Institute of Technology', 2175, 37704], \n",
    "    ['Harvard', 19627, 39849],\n",
    "    ['Massachusetts Institute of Technology', 10566, 40732], \n",
    "    ['Princeton', 7802, 37000],\n",
    "    ['Rice', 5879, 35551],\n",
    "    ['Stanford', 19535, 40569],\n",
    "    ['Yale', 11701, 40500]\n",
    "    ]\n",
    "\n",
    "extract_ele(universities)"
   ]
  },
  {
   "cell_type": "code",
   "execution_count": 15,
   "metadata": {},
   "outputs": [
    {
     "data": {
      "text/plain": [
       "3"
      ]
     },
     "execution_count": 15,
     "metadata": {},
     "output_type": "execute_result"
    }
   ],
   "source": [
    "7//2"
   ]
  },
  {
   "cell_type": "code",
   "execution_count": 144,
   "metadata": {},
   "outputs": [
    {
     "name": "stdout",
     "output_type": "stream",
     "text": [
      "b\n",
      "1\n"
     ]
    }
   ],
   "source": [
    "import random\n",
    "\n",
    "print(random.choice([\"a\", \"b\",\"c\"]))\n",
    "print(random.choice(range(4)))"
   ]
  },
  {
   "cell_type": "code",
   "execution_count": 145,
   "metadata": {},
   "outputs": [
    {
     "name": "stdout",
     "output_type": "stream",
     "text": [
      "1.645\n",
      "1.645\n",
      "None\n"
     ]
    },
    {
     "ename": "KeyError",
     "evalue": "85",
     "output_type": "error",
     "traceback": [
      "\u001b[0;31m---------------------------------------------------------------------------\u001b[0m",
      "\u001b[0;31mKeyError\u001b[0m                                  Traceback (most recent call last)",
      "\u001b[1;32m/Users/JingL/Documents/usf-master/fall 2024/TA/class code/lesson 10.ipynb Cell 72\u001b[0m line \u001b[0;36m7\n\u001b[1;32m      <a href='vscode-notebook-cell:/Users/JingL/Documents/usf-master/fall%202024/TA/class%20code/lesson%2010.ipynb#Y115sZmlsZQ%3D%3D?line=3'>4</a>\u001b[0m \u001b[39mprint\u001b[39m(z_scores\u001b[39m.\u001b[39mget(\u001b[39m90\u001b[39m))\n\u001b[1;32m      <a href='vscode-notebook-cell:/Users/JingL/Documents/usf-master/fall%202024/TA/class%20code/lesson%2010.ipynb#Y115sZmlsZQ%3D%3D?line=5'>6</a>\u001b[0m \u001b[39mprint\u001b[39m(z_scores\u001b[39m.\u001b[39mget(\u001b[39m85\u001b[39m)) \u001b[39m# won't get warnings\u001b[39;00m\n\u001b[0;32m----> <a href='vscode-notebook-cell:/Users/JingL/Documents/usf-master/fall%202024/TA/class%20code/lesson%2010.ipynb#Y115sZmlsZQ%3D%3D?line=6'>7</a>\u001b[0m \u001b[39mprint\u001b[39m(z_scores[\u001b[39m85\u001b[39m])\n",
      "\u001b[0;31mKeyError\u001b[0m: 85"
     ]
    }
   ],
   "source": [
    "# dictionary\n",
    "z_scores = {90: 1.645, 95: 1.96, 99: 2.576}\n",
    "print(z_scores[90])\n",
    "print(z_scores.get(90))\n",
    "\n",
    "print(z_scores.get(85)) # won't get warnings\n",
    "print(z_scores[85]) # will get warning"
   ]
  },
  {
   "cell_type": "code",
   "execution_count": 146,
   "metadata": {},
   "outputs": [
    {
     "name": "stdout",
     "output_type": "stream",
     "text": [
      "{95: 1.96, 99: 2.576}\n",
      "{95: 1.96, 99: 2.576, 90: 1.645}\n",
      "{95: 1.96, 99: 2.576}\n"
     ]
    }
   ],
   "source": [
    "# modify a dictionary\n",
    "z_scores = {95: 2, 99: 2.576}\n",
    "z_scores[95] = 1.96\n",
    "print(z_scores)\n",
    "\n",
    "z_scores[90] = 1.645\n",
    "print(z_scores)\n",
    "\n",
    "del z_scores[90]\n",
    "print(z_scores)"
   ]
  },
  {
   "cell_type": "code",
   "execution_count": 52,
   "metadata": {},
   "outputs": [
    {
     "data": {
      "text/plain": [
       "False"
      ]
     },
     "execution_count": 52,
     "metadata": {},
     "output_type": "execute_result"
    }
   ],
   "source": [
    "90 in z_scores"
   ]
  },
  {
   "cell_type": "code",
   "execution_count": 147,
   "metadata": {},
   "outputs": [
    {
     "name": "stdout",
     "output_type": "stream",
     "text": [
      "95\n",
      "99\n"
     ]
    }
   ],
   "source": [
    "for i in z_scores:\n",
    "    print(i) # print keys"
   ]
  },
  {
   "cell_type": "code",
   "execution_count": 57,
   "metadata": {},
   "outputs": [
    {
     "name": "stdout",
     "output_type": "stream",
     "text": [
      "z-score of 95% CI is 1.96\n",
      "z-score of 99% CI is 2.576\n"
     ]
    }
   ],
   "source": [
    "for i in z_scores:\n",
    "    print(f\"z-score of {i}% CI is {z_scores[i]}\")"
   ]
  },
  {
   "cell_type": "code",
   "execution_count": 60,
   "metadata": {},
   "outputs": [
    {
     "name": "stdout",
     "output_type": "stream",
     "text": [
      "dict_items([(95, 1.96), (99, 2.576)])\n",
      "<class 'dict_items'>\n",
      "{95: 1.96, 99: 2.576}\n"
     ]
    }
   ],
   "source": [
    "print(z_scores.items())\n",
    "print(type(z_scores.items()))\n",
    "print(z_scores) # doesn't change the dictionary itself"
   ]
  },
  {
   "cell_type": "code",
   "execution_count": 150,
   "metadata": {},
   "outputs": [
    {
     "name": "stdout",
     "output_type": "stream",
     "text": [
      "(95, 1.96)\n",
      "(99, 2.576)\n",
      "<class 'tuple'>\n",
      "<class 'tuple'>\n"
     ]
    }
   ],
   "source": [
    "# unpack dictionary like tuple\n",
    "X1, X2 = z_scores.items()\n",
    "print(X1)\n",
    "print(X2)\n",
    "print(type(X1))\n",
    "print(type(X2))\n"
   ]
  },
  {
   "cell_type": "code",
   "execution_count": 151,
   "metadata": {},
   "outputs": [
    {
     "name": "stdout",
     "output_type": "stream",
     "text": [
      "z-score of 95% CI is 1.96\n",
      "z-score of 99% CI is 2.576\n"
     ]
    }
   ],
   "source": [
    "keys = ()\n",
    "values = ()\n",
    "for keys, values in z_scores.items():\n",
    "    print(f\"z-score of {keys}% CI is {values}\")"
   ]
  },
  {
   "cell_type": "code",
   "execution_count": 152,
   "metadata": {},
   "outputs": [
    {
     "ename": "TypeError",
     "evalue": "unhashable type: 'list'",
     "output_type": "error",
     "traceback": [
      "\u001b[0;31m---------------------------------------------------------------------------\u001b[0m",
      "\u001b[0;31mTypeError\u001b[0m                                 Traceback (most recent call last)",
      "\u001b[1;32m/Users/JingL/Documents/usf-master/fall 2024/TA/class code/lesson 10.ipynb Cell 80\u001b[0m line \u001b[0;36m2\n\u001b[1;32m      <a href='vscode-notebook-cell:/Users/JingL/Documents/usf-master/fall%202024/TA/class%20code/lesson%2010.ipynb#Y126sZmlsZQ%3D%3D?line=0'>1</a>\u001b[0m z_scores \u001b[39m=\u001b[39m {\u001b[39m95\u001b[39m: \u001b[39m1.96\u001b[39m, \u001b[39m99\u001b[39m: \u001b[39m2.576\u001b[39m}\n\u001b[0;32m----> <a href='vscode-notebook-cell:/Users/JingL/Documents/usf-master/fall%202024/TA/class%20code/lesson%2010.ipynb#Y126sZmlsZQ%3D%3D?line=1'>2</a>\u001b[0m z_scores[[\u001b[39m1\u001b[39m]]\n",
      "\u001b[0;31mTypeError\u001b[0m: unhashable type: 'list'"
     ]
    }
   ],
   "source": [
    "z_scores = {95: 1.96, 99: 2.576}\n",
    "z_scores[[1]] #wrong, list is unhashable, a single string, a single number are hashable because they are unique\n",
    "#z_scores[1] #wrong"
   ]
  },
  {
   "cell_type": "code",
   "execution_count": 153,
   "metadata": {},
   "outputs": [
    {
     "data": {
      "text/plain": [
       "1.96"
      ]
     },
     "execution_count": 153,
     "metadata": {},
     "output_type": "execute_result"
    }
   ],
   "source": [
    "z_scores[95] # 95 is hashable, so it canbe used to call out values in dictionary"
   ]
  },
  {
   "cell_type": "code",
   "execution_count": 46,
   "metadata": {},
   "outputs": [
    {
     "name": "stdout",
     "output_type": "stream",
     "text": [
      "{'major': 'Biology', 'grades': {'Math': 88, 'Biology': 92, 'Chemistry': 85}}\n",
      "Biology\n",
      "95\n"
     ]
    }
   ],
   "source": [
    "# nested dictionary\n",
    "students = {\n",
    "    \"Alice\": {\n",
    "        \"major\": \"Biology\",\n",
    "        \"grades\": {\n",
    "            \"Math\": 88,\n",
    "            \"Biology\": 92,\n",
    "            \"Chemistry\": 85\n",
    "        }\n",
    "    },\n",
    "    \"Bob\": {\n",
    "        \"major\": \"Computer Science\",\n",
    "        \"grades\": {\n",
    "            \"Math\": 95,\n",
    "            \"Programming\": 90,\n",
    "            \"Algorithms\": 93\n",
    "        }\n",
    "    },\n",
    "    \"Charlie\": {\n",
    "        \"major\": \"Mathematics\",\n",
    "        \"grades\": {\n",
    "            \"Calculus\": 91,\n",
    "            \"Statistics\": 87,\n",
    "            \"Linear Algebra\": 89\n",
    "        }\n",
    "    }\n",
    "}\n",
    "print(students[\"Alice\"])\n",
    "print(students[\"Alice\"][\"major\"])  \n",
    "print(students[\"Bob\"][\"grades\"][\"Math\"]) "
   ]
  }
 ],
 "metadata": {
  "kernelspec": {
   "display_name": "base",
   "language": "python",
   "name": "python3"
  },
  "language_info": {
   "codemirror_mode": {
    "name": "ipython",
    "version": 3
   },
   "file_extension": ".py",
   "mimetype": "text/x-python",
   "name": "python",
   "nbconvert_exporter": "python",
   "pygments_lexer": "ipython3",
   "version": "3.11.7"
  },
  "orig_nbformat": 4
 },
 "nbformat": 4,
 "nbformat_minor": 2
}

{
 "cells": [
  {
   "cell_type": "code",
   "execution_count": 11,
   "metadata": {},
   "outputs": [
    {
     "data": {
      "text/plain": [
       "float"
      ]
     },
     "execution_count": 11,
     "metadata": {},
     "output_type": "execute_result"
    }
   ],
   "source": [
    "type(-3.0)\n"
   ]
  },
  {
   "cell_type": "code",
   "execution_count": 12,
   "metadata": {},
   "outputs": [
    {
     "data": {
      "text/plain": [
       "int"
      ]
     },
     "execution_count": 12,
     "metadata": {},
     "output_type": "execute_result"
    }
   ],
   "source": [
    "type(-3)"
   ]
  },
  {
   "cell_type": "code",
   "execution_count": 13,
   "metadata": {},
   "outputs": [
    {
     "data": {
      "text/plain": [
       "str"
      ]
     },
     "execution_count": 13,
     "metadata": {},
     "output_type": "execute_result"
    }
   ],
   "source": [
    "type(\"hello\")"
   ]
  },
  {
   "cell_type": "code",
   "execution_count": 14,
   "metadata": {},
   "outputs": [
    {
     "data": {
      "text/plain": [
       "str"
      ]
     },
     "execution_count": 14,
     "metadata": {},
     "output_type": "execute_result"
    }
   ],
   "source": [
    "# guess what does it show?\n",
    "type(\"TRUE\")"
   ]
  },
  {
   "cell_type": "code",
   "execution_count": null,
   "metadata": {},
   "outputs": [],
   "source": [
    "# guess what does it show?\n",
    "type(1==1)"
   ]
  },
  {
   "cell_type": "code",
   "execution_count": 15,
   "metadata": {},
   "outputs": [
    {
     "ename": "SyntaxError",
     "evalue": "expression cannot contain assignment, perhaps you meant \"==\"? (3229708464.py, line 2)",
     "output_type": "error",
     "traceback": [
      "\u001b[0;36m  Cell \u001b[0;32mIn[15], line 2\u001b[0;36m\u001b[0m\n\u001b[0;31m    type(1=1)\u001b[0m\n\u001b[0m         ^\u001b[0m\n\u001b[0;31mSyntaxError\u001b[0m\u001b[0;31m:\u001b[0m expression cannot contain assignment, perhaps you meant \"==\"?\n"
     ]
    }
   ],
   "source": [
    "# guess what does it show?\n",
    "type(1=1)"
   ]
  },
  {
   "cell_type": "code",
   "execution_count": 16,
   "metadata": {},
   "outputs": [
    {
     "data": {
      "text/plain": [
       "bool"
      ]
     },
     "execution_count": 16,
     "metadata": {},
     "output_type": "execute_result"
    }
   ],
   "source": [
    "# guess what does it show?\n",
    "type(1==2)"
   ]
  },
  {
   "cell_type": "code",
   "execution_count": 17,
   "metadata": {},
   "outputs": [
    {
     "name": "stdout",
     "output_type": "stream",
     "text": [
      "0.30000000000000004\n",
      "0.5\n"
     ]
    }
   ],
   "source": [
    "print(0.1+0.2)\n",
    "print(0.2+0.3)"
   ]
  },
  {
   "cell_type": "code",
   "execution_count": 18,
   "metadata": {},
   "outputs": [
    {
     "name": "stdout",
     "output_type": "stream",
     "text": [
      "3.12 into integer:\n"
     ]
    },
    {
     "data": {
      "text/plain": [
       "3"
      ]
     },
     "execution_count": 18,
     "metadata": {},
     "output_type": "execute_result"
    }
   ],
   "source": [
    "print(\"3.12 into integer:\")\n",
    "int(3.12)"
   ]
  },
  {
   "cell_type": "code",
   "execution_count": 66,
   "metadata": {},
   "outputs": [
    {
     "data": {
      "text/plain": [
       "7"
      ]
     },
     "execution_count": 66,
     "metadata": {},
     "output_type": "execute_result"
    }
   ],
   "source": [
    "int(\"7\")"
   ]
  },
  {
   "cell_type": "code",
   "execution_count": 67,
   "metadata": {},
   "outputs": [
    {
     "ename": "ValueError",
     "evalue": "invalid literal for int() with base 10: '7.0'",
     "output_type": "error",
     "traceback": [
      "\u001b[0;31m---------------------------------------------------------------------------\u001b[0m",
      "\u001b[0;31mValueError\u001b[0m                                Traceback (most recent call last)",
      "\u001b[1;32m/Users/JingL/Documents/usf-master/fall 2024/TA/class code/lesson 2.ipynb Cell 11\u001b[0m line \u001b[0;36m1\n\u001b[0;32m----> <a href='vscode-notebook-cell:/Users/JingL/Documents/usf-master/fall%202024/TA/class%20code/lesson%202.ipynb#X13sZmlsZQ%3D%3D?line=0'>1</a>\u001b[0m \u001b[39mint\u001b[39;49m(\u001b[39m\"\u001b[39;49m\u001b[39m7.0\u001b[39;49m\u001b[39m\"\u001b[39;49m)\n",
      "\u001b[0;31mValueError\u001b[0m: invalid literal for int() with base 10: '7.0'"
     ]
    }
   ],
   "source": [
    "int(\"7.0\")"
   ]
  },
  {
   "cell_type": "code",
   "execution_count": 21,
   "metadata": {},
   "outputs": [
    {
     "data": {
      "text/plain": [
       "7.1"
      ]
     },
     "execution_count": 21,
     "metadata": {},
     "output_type": "execute_result"
    }
   ],
   "source": [
    "float(\"7.1\")"
   ]
  },
  {
   "cell_type": "code",
   "execution_count": 22,
   "metadata": {},
   "outputs": [
    {
     "data": {
      "text/plain": [
       "7.0"
      ]
     },
     "execution_count": 22,
     "metadata": {},
     "output_type": "execute_result"
    }
   ],
   "source": [
    "float(\"7\")"
   ]
  },
  {
   "cell_type": "code",
   "execution_count": null,
   "metadata": {},
   "outputs": [],
   "source": [
    "# check this:\n",
    "print(\"3.12 into integer:\")\n",
    "int(\"3.12\")"
   ]
  },
  {
   "cell_type": "code",
   "execution_count": 23,
   "metadata": {},
   "outputs": [
    {
     "name": "stdout",
     "output_type": "stream",
     "text": [
      "myvariables:\n",
      "4\n"
     ]
    }
   ],
   "source": [
    "myvariables=4\n",
    "print('myvariables:')\n",
    "print(myvariables)\n"
   ]
  },
  {
   "cell_type": "code",
   "execution_count": 31,
   "metadata": {},
   "outputs": [
    {
     "ename": "SyntaxError",
     "evalue": "invalid decimal literal (3351318804.py, line 6)",
     "output_type": "error",
     "traceback": [
      "\u001b[0;36m  Cell \u001b[0;32mIn[31], line 6\u001b[0;36m\u001b[0m\n\u001b[0;31m    1a =3\u001b[0m\n\u001b[0m    ^\u001b[0m\n\u001b[0;31mSyntaxError\u001b[0m\u001b[0;31m:\u001b[0m invalid decimal literal\n"
     ]
    }
   ],
   "source": [
    "# check this:\n",
    "_myvariable_2=3\n",
    "myvariable_2 = 4\n",
    "print(_myvariable_2)\n",
    "print(myvariable_2)\n",
    "\n"
   ]
  },
  {
   "cell_type": "code",
   "execution_count": 35,
   "metadata": {},
   "outputs": [
    {
     "name": "stdout",
     "output_type": "stream",
     "text": [
      "7\n"
     ]
    }
   ],
   "source": [
    "myvariable_2 = myvariable_2 + 3\n",
    "print(myvariable_2)"
   ]
  },
  {
   "cell_type": "code",
   "execution_count": 36,
   "metadata": {},
   "outputs": [
    {
     "name": "stdout",
     "output_type": "stream",
     "text": [
      "3\n",
      "4\n"
     ]
    }
   ],
   "source": [
    "Newvrb = 3\n",
    "newvrb = 4\n",
    "print(Newvrb)\n",
    "print(newvrb)"
   ]
  },
  {
   "cell_type": "code",
   "execution_count": 89,
   "metadata": {},
   "outputs": [
    {
     "name": "stdout",
     "output_type": "stream",
     "text": [
      "True\n",
      "<class 'float'>\n"
     ]
    }
   ],
   "source": [
    "X = 3.0\n",
    "print(X.is_integer())\n",
    "print(type(X))\n",
    "\n",
    "# .is_integer() cannot check whether a value is an integer if the value is an integer"
   ]
  },
  {
   "cell_type": "code",
   "execution_count": 28,
   "metadata": {},
   "outputs": [
    {
     "data": {
      "text/plain": [
       "9"
      ]
     },
     "execution_count": 28,
     "metadata": {},
     "output_type": "execute_result"
    }
   ],
   "source": [
    "x = \"word word\" # every letter and space will be counted\n",
    "len(x)"
   ]
  },
  {
   "cell_type": "code",
   "execution_count": 49,
   "metadata": {},
   "outputs": [
    {
     "name": "stdout",
     "output_type": "stream",
     "text": [
      "3\n",
      "hello\n"
     ]
    }
   ],
   "source": [
    "print(3)\n",
    "print(\"hello\")"
   ]
  },
  {
   "cell_type": "code",
   "execution_count": 6,
   "metadata": {},
   "outputs": [
    {
     "data": {
      "text/plain": [
       "int"
      ]
     },
     "execution_count": 6,
     "metadata": {},
     "output_type": "execute_result"
    }
   ],
   "source": [
    "round(3.78)\n",
    "a = round(3.14)\n",
    "type(a)"
   ]
  },
  {
   "cell_type": "code",
   "execution_count": 55,
   "metadata": {},
   "outputs": [
    {
     "data": {
      "text/plain": [
       "9"
      ]
     },
     "execution_count": 55,
     "metadata": {},
     "output_type": "execute_result"
    }
   ],
   "source": [
    "#abs(37)\n",
    "#pow(3,2)\n",
    "3**2"
   ]
  },
  {
   "cell_type": "code",
   "execution_count": 57,
   "metadata": {},
   "outputs": [],
   "source": [
    "Grade = ('A', 'B', 'D', 'C')"
   ]
  },
  {
   "cell_type": "code",
   "execution_count": 58,
   "metadata": {},
   "outputs": [
    {
     "name": "stdout",
     "output_type": "stream",
     "text": [
      "<class 'tuple'>\n"
     ]
    },
    {
     "data": {
      "text/plain": [
       "'A'"
      ]
     },
     "execution_count": 58,
     "metadata": {},
     "output_type": "execute_result"
    }
   ],
   "source": [
    "print(type(Grade))\n",
    "Grade[0]\n"
   ]
  },
  {
   "cell_type": "code",
   "execution_count": 77,
   "metadata": {},
   "outputs": [
    {
     "ename": "TypeError",
     "evalue": "'tuple' object does not support item assignment",
     "output_type": "error",
     "traceback": [
      "\u001b[0;31m---------------------------------------------------------------------------\u001b[0m",
      "\u001b[0;31mTypeError\u001b[0m                                 Traceback (most recent call last)",
      "\u001b[1;32m/Users/JingL/Documents/usf-master/fall 2024/TA/class code/lesson 2.ipynb Cell 27\u001b[0m line \u001b[0;36m1\n\u001b[0;32m----> <a href='vscode-notebook-cell:/Users/JingL/Documents/usf-master/fall%202024/TA/class%20code/lesson%202.ipynb#X21sZmlsZQ%3D%3D?line=0'>1</a>\u001b[0m Grade[\u001b[39m0\u001b[39;49m] \u001b[39m=\u001b[39m \u001b[39m\"\u001b[39m\u001b[39mD\u001b[39m\u001b[39m\"\u001b[39m\n\u001b[1;32m      <a href='vscode-notebook-cell:/Users/JingL/Documents/usf-master/fall%202024/TA/class%20code/lesson%202.ipynb#X21sZmlsZQ%3D%3D?line=1'>2</a>\u001b[0m \u001b[39mprint\u001b[39m(\u001b[39m\"\u001b[39m\u001b[39mtuple is immutable\u001b[39m\u001b[39m\"\u001b[39m)\n",
      "\u001b[0;31mTypeError\u001b[0m: 'tuple' object does not support item assignment"
     ]
    }
   ],
   "source": [
    "Grade[0] = \"D\"\n",
    "print(\"tuple is immutable\")"
   ]
  },
  {
   "cell_type": "code",
   "execution_count": null,
   "metadata": {},
   "outputs": [],
   "source": [
    "# ways to change values in a tuple:\n",
    "# not the only way\n",
    "new_vl = \"D\"\n",
    "new_gd = (new_vl,) + Grade[1:]\n",
    "print(new_gd)"
   ]
  },
  {
   "cell_type": "code",
   "execution_count": null,
   "metadata": {},
   "outputs": [],
   "source": [
    "# not the only way\n",
    "new_gd2 = (\"D\",)+ Grade[1:]\n",
    "print(new_gd2)"
   ]
  },
  {
   "cell_type": "code",
   "execution_count": 90,
   "metadata": {},
   "outputs": [
    {
     "name": "stdout",
     "output_type": "stream",
     "text": [
      "{'calssA': '20', 'calssB': 10, 'classC': 30}\n"
     ]
    }
   ],
   "source": [
    "Mydictionary = {'calssA': \"20\", \n",
    "                'calssB': 10,\n",
    "                'classC': 30}\n",
    "Mydictionary\n",
    "print(Mydictionary)"
   ]
  },
  {
   "cell_type": "code",
   "execution_count": 79,
   "metadata": {},
   "outputs": [
    {
     "data": {
      "text/plain": [
       "{'10': 'apple', '20': '=', '30': [12, 13]}"
      ]
     },
     "execution_count": 79,
     "metadata": {},
     "output_type": "execute_result"
    }
   ],
   "source": [
    "apples = [12,13]\n",
    "dict3 = {'10': 'apple', '20': '=', '30': apples}\n",
    "dict3\n"
   ]
  },
  {
   "cell_type": "code",
   "execution_count": 80,
   "metadata": {},
   "outputs": [
    {
     "name": "stdout",
     "output_type": "stream",
     "text": [
      "apple = [12, 13]\n"
     ]
    }
   ],
   "source": [
    "print(dict3['10'],dict3['20'],dict3['30'])\n",
    "\n"
   ]
  },
  {
   "cell_type": "code",
   "execution_count": null,
   "metadata": {},
   "outputs": [],
   "source": [
    "# review of lesson2:\n",
    "# integer\n",
    "\n",
    "#float\n",
    "\n",
    "#string\n",
    "\n",
    "#bool\n",
    "\n",
    "# dictionary\n",
    "\n",
    "#tuple\n",
    "\n"
   ]
  },
  {
   "cell_type": "code",
   "execution_count": 64,
   "metadata": {},
   "outputs": [
    {
     "ename": "AttributeError",
     "evalue": "'int' object has no attribute 'is_integer'",
     "output_type": "error",
     "traceback": [
      "\u001b[0;31m---------------------------------------------------------------------------\u001b[0m",
      "\u001b[0;31mAttributeError\u001b[0m                            Traceback (most recent call last)",
      "\u001b[1;32m/Users/JingL/Documents/usf-master/fall 2024/TA/class code/lesson 2.ipynb Cell 33\u001b[0m line \u001b[0;36m3\n\u001b[1;32m      <a href='vscode-notebook-cell:/Users/JingL/Documents/usf-master/fall%202024/TA/class%20code/lesson%202.ipynb#Y101sZmlsZQ%3D%3D?line=0'>1</a>\u001b[0m \u001b[39m# issue with the code?\u001b[39;00m\n\u001b[1;32m      <a href='vscode-notebook-cell:/Users/JingL/Documents/usf-master/fall%202024/TA/class%20code/lesson%202.ipynb#Y101sZmlsZQ%3D%3D?line=1'>2</a>\u001b[0m X \u001b[39m=\u001b[39m \u001b[39m3\u001b[39m\n\u001b[0;32m----> <a href='vscode-notebook-cell:/Users/JingL/Documents/usf-master/fall%202024/TA/class%20code/lesson%202.ipynb#Y101sZmlsZQ%3D%3D?line=2'>3</a>\u001b[0m \u001b[39mprint\u001b[39m(X\u001b[39m.\u001b[39;49mis_integer()) \u001b[39m# can only check whether a float can be transformed into integer\u001b[39;00m\n\u001b[1;32m      <a href='vscode-notebook-cell:/Users/JingL/Documents/usf-master/fall%202024/TA/class%20code/lesson%202.ipynb#Y101sZmlsZQ%3D%3D?line=3'>4</a>\u001b[0m \u001b[39mprint\u001b[39m(\u001b[39mtype\u001b[39m(X))\n",
      "\u001b[0;31mAttributeError\u001b[0m: 'int' object has no attribute 'is_integer'"
     ]
    }
   ],
   "source": [
    "# issue with the code?\n",
    "X = 3\n",
    "print(X.is_integer()) # can only check whether a float can be transformed into integer\n",
    "print(type(X))\n"
   ]
  },
  {
   "cell_type": "code",
   "execution_count": null,
   "metadata": {},
   "outputs": [],
   "source": [
    "# task:\n",
    "# to change float into integer\n",
    "\n",
    "\n",
    "\n",
    "\n",
    "\n",
    "\n",
    "\n",
    "\n",
    "\n"
   ]
  },
  {
   "cell_type": "code",
   "execution_count": 69,
   "metadata": {},
   "outputs": [
    {
     "name": "stdout",
     "output_type": "stream",
     "text": [
      "3\n",
      "3\n",
      "4\n"
     ]
    }
   ],
   "source": [
    "print(int(3.0))\n",
    "print(int(3.6))\n",
    "print(round(3.5))"
   ]
  },
  {
   "cell_type": "code",
   "execution_count": 73,
   "metadata": {},
   "outputs": [
    {
     "name": "stdout",
     "output_type": "stream",
     "text": [
      "['apple', 'banana', 'cherry', 'date', 3]\n"
     ]
    }
   ],
   "source": [
    "# Creating a list of fruits\n",
    "fruits = ['apple', 'banana', 'cherry', 'date',3]\n",
    "print(fruits)"
   ]
  },
  {
   "cell_type": "code",
   "execution_count": 76,
   "metadata": {},
   "outputs": [
    {
     "name": "stdout",
     "output_type": "stream",
     "text": [
      "apple\n"
     ]
    }
   ],
   "source": [
    "print(fruits[0]) "
   ]
  },
  {
   "cell_type": "code",
   "execution_count": 77,
   "metadata": {},
   "outputs": [
    {
     "name": "stdout",
     "output_type": "stream",
     "text": [
      "['apple', 'banana', 'cherry', 'date', 3, 'elderberry']\n"
     ]
    }
   ],
   "source": [
    "# Adding a new item to the list\n",
    "fruits.append('elderberry')\n",
    "print(fruits)\n"
   ]
  },
  {
   "cell_type": "code",
   "execution_count": 78,
   "metadata": {},
   "outputs": [
    {
     "name": "stdout",
     "output_type": "stream",
     "text": [
      "['apple', 'cherry', 'date', 3, 'elderberry']\n"
     ]
    }
   ],
   "source": [
    "# Removing an item from the list\n",
    "fruits.remove('banana')\n",
    "print(fruits)"
   ]
  },
  {
   "cell_type": "code",
   "execution_count": 79,
   "metadata": {},
   "outputs": [],
   "source": [
    "# Creating a set of vegetables\n",
    "setvege = {'carrot', 'broccoli', 'asparagus', 'carrot'}"
   ]
  },
  {
   "cell_type": "code",
   "execution_count": 80,
   "metadata": {},
   "outputs": [
    {
     "name": "stdout",
     "output_type": "stream",
     "text": [
      "{'asparagus', 'broccoli', 'carrot'}\n"
     ]
    }
   ],
   "source": [
    "# Sets automatically remove duplicates\n",
    "print(setvege)"
   ]
  },
  {
   "cell_type": "code",
   "execution_count": 81,
   "metadata": {},
   "outputs": [
    {
     "ename": "TypeError",
     "evalue": "'set' object is not subscriptable",
     "output_type": "error",
     "traceback": [
      "\u001b[0;31m---------------------------------------------------------------------------\u001b[0m",
      "\u001b[0;31mTypeError\u001b[0m                                 Traceback (most recent call last)",
      "\u001b[1;32m/Users/JingL/Documents/usf-master/fall 2024/TA/class code/lesson 2.ipynb Cell 42\u001b[0m line \u001b[0;36m2\n\u001b[1;32m      <a href='vscode-notebook-cell:/Users/JingL/Documents/usf-master/fall%202024/TA/class%20code/lesson%202.ipynb#X61sZmlsZQ%3D%3D?line=0'>1</a>\u001b[0m \u001b[39m# differences between set and list:\u001b[39;00m\n\u001b[0;32m----> <a href='vscode-notebook-cell:/Users/JingL/Documents/usf-master/fall%202024/TA/class%20code/lesson%202.ipynb#X61sZmlsZQ%3D%3D?line=1'>2</a>\u001b[0m \u001b[39mprint\u001b[39m(setvege[\u001b[39m0\u001b[39;49m])\n",
      "\u001b[0;31mTypeError\u001b[0m: 'set' object is not subscriptable"
     ]
    }
   ],
   "source": [
    "# differences between set and list:\n",
    "print(setvege[0])"
   ]
  },
  {
   "cell_type": "code",
   "execution_count": 82,
   "metadata": {},
   "outputs": [
    {
     "name": "stdout",
     "output_type": "stream",
     "text": [
      "apple\n"
     ]
    }
   ],
   "source": [
    "# in list, call out an item:\n",
    "print(fruits[0]) "
   ]
  },
  {
   "cell_type": "code",
   "execution_count": 83,
   "metadata": {},
   "outputs": [
    {
     "name": "stdout",
     "output_type": "stream",
     "text": [
      "asparagus\n"
     ]
    }
   ],
   "source": [
    "# how to call out an item from set:\n",
    "#change it into list:\n",
    "listvege = list(setvege)\n",
    "print(listvege[0]) "
   ]
  },
  {
   "cell_type": "code",
   "execution_count": 86,
   "metadata": {},
   "outputs": [
    {
     "name": "stdout",
     "output_type": "stream",
     "text": [
      "{'10': 'apples', '20': 'peaches'}\n",
      "apples\n"
     ]
    },
    {
     "ename": "KeyError",
     "evalue": "0",
     "output_type": "error",
     "traceback": [
      "\u001b[0;31m---------------------------------------------------------------------------\u001b[0m",
      "\u001b[0;31mKeyError\u001b[0m                                  Traceback (most recent call last)",
      "\u001b[1;32m/Users/JingL/Documents/usf-master/fall 2024/TA/class code/lesson 2.ipynb Cell 45\u001b[0m line \u001b[0;36m1\n\u001b[1;32m      <a href='vscode-notebook-cell:/Users/JingL/Documents/usf-master/fall%202024/TA/class%20code/lesson%202.ipynb#Y106sZmlsZQ%3D%3D?line=5'>6</a>\u001b[0m \u001b[39m#dict2 = {'10': apples,\u001b[39;00m\n\u001b[1;32m      <a href='vscode-notebook-cell:/Users/JingL/Documents/usf-master/fall%202024/TA/class%20code/lesson%202.ipynb#Y106sZmlsZQ%3D%3D?line=6'>7</a>\u001b[0m          \u001b[39m#'20': peaches}\u001b[39;00m\n\u001b[1;32m      <a href='vscode-notebook-cell:/Users/JingL/Documents/usf-master/fall%202024/TA/class%20code/lesson%202.ipynb#Y106sZmlsZQ%3D%3D?line=7'>8</a>\u001b[0m \u001b[39m#dict2\u001b[39;00m\n\u001b[1;32m      <a href='vscode-notebook-cell:/Users/JingL/Documents/usf-master/fall%202024/TA/class%20code/lesson%202.ipynb#Y106sZmlsZQ%3D%3D?line=8'>9</a>\u001b[0m \u001b[39mprint\u001b[39m(dict2[\u001b[39m'\u001b[39m\u001b[39m10\u001b[39m\u001b[39m'\u001b[39m])\n\u001b[0;32m---> <a href='vscode-notebook-cell:/Users/JingL/Documents/usf-master/fall%202024/TA/class%20code/lesson%202.ipynb#Y106sZmlsZQ%3D%3D?line=9'>10</a>\u001b[0m \u001b[39mprint\u001b[39m(dict2[\u001b[39m0\u001b[39;49m])\n\u001b[1;32m     <a href='vscode-notebook-cell:/Users/JingL/Documents/usf-master/fall%202024/TA/class%20code/lesson%202.ipynb#Y106sZmlsZQ%3D%3D?line=10'>11</a>\u001b[0m \u001b[39m# Python interprets apples and peaches without '' as variables rather than string values\u001b[39;00m\n",
      "\u001b[0;31mKeyError\u001b[0m: 0"
     ]
    }
   ],
   "source": [
    "# dictionary:\n",
    "dict2 = {'10': 'apples',\n",
    "         '20': 'peaches'}\n",
    "dict2\n",
    "print(dict2)\n",
    "#dict2 = {'10': apples,\n",
    "         #'20': peaches}\n",
    "#dict2\n",
    "print(dict2['10'])\n",
    "print(dict2[0]) # wrong\n",
    "# Python interprets apples and peaches without '' as variables rather than string values"
   ]
  },
  {
   "cell_type": "code",
   "execution_count": 91,
   "metadata": {},
   "outputs": [
    {
     "name": "stdout",
     "output_type": "stream",
     "text": [
      "pear\n",
      "{'10': 'pear', '20': 'peaches'}\n"
     ]
    }
   ],
   "source": [
    "# substitute with other values\n",
    "dict2[\"10\"] = \"pear\"\n",
    "value_of_dict2 =dict2['10'] \n",
    "print(value_of_dict2)\n",
    "print(dict2)"
   ]
  },
  {
   "cell_type": "code",
   "execution_count": 88,
   "metadata": {},
   "outputs": [
    {
     "name": "stdout",
     "output_type": "stream",
     "text": [
      "pear\n"
     ]
    },
    {
     "ename": "KeyError",
     "evalue": "0",
     "output_type": "error",
     "traceback": [
      "\u001b[0;31m---------------------------------------------------------------------------\u001b[0m",
      "\u001b[0;31mKeyError\u001b[0m                                  Traceback (most recent call last)",
      "\u001b[1;32m/Users/JingL/Documents/usf-master/fall 2024/TA/class code/lesson 2.ipynb Cell 47\u001b[0m line \u001b[0;36m3\n\u001b[1;32m      <a href='vscode-notebook-cell:/Users/JingL/Documents/usf-master/fall%202024/TA/class%20code/lesson%202.ipynb#Y112sZmlsZQ%3D%3D?line=0'>1</a>\u001b[0m \u001b[39m# but dictionary can only be called out by its onw key\u001b[39;00m\n\u001b[1;32m      <a href='vscode-notebook-cell:/Users/JingL/Documents/usf-master/fall%202024/TA/class%20code/lesson%202.ipynb#Y112sZmlsZQ%3D%3D?line=1'>2</a>\u001b[0m \u001b[39mprint\u001b[39m(dict2[\u001b[39m\"\u001b[39m\u001b[39m10\u001b[39m\u001b[39m\"\u001b[39m] )\n\u001b[0;32m----> <a href='vscode-notebook-cell:/Users/JingL/Documents/usf-master/fall%202024/TA/class%20code/lesson%202.ipynb#Y112sZmlsZQ%3D%3D?line=2'>3</a>\u001b[0m dict2[\u001b[39m0\u001b[39;49m] \n",
      "\u001b[0;31mKeyError\u001b[0m: 0"
     ]
    }
   ],
   "source": [
    "# but dictionary can only be called out by its onw key\n",
    "print(dict2[\"10\"] )\n",
    "dict2[0] "
   ]
  },
  {
   "cell_type": "code",
   "execution_count": 92,
   "metadata": {},
   "outputs": [
    {
     "name": "stdout",
     "output_type": "stream",
     "text": [
      "['10', '20']\n",
      "pear peaches\n"
     ]
    }
   ],
   "source": [
    "#\n",
    "print(list(dict2)) # show only keys\n",
    "print(dict2['10'],dict2['20'])"
   ]
  },
  {
   "cell_type": "code",
   "execution_count": 98,
   "metadata": {},
   "outputs": [
    {
     "name": "stdout",
     "output_type": "stream",
     "text": [
      "{'apple': 1, 'banana': 2, 'cherry': 3, 'date': 4}\n"
     ]
    }
   ],
   "source": [
    "# converting lists to dictionary\n",
    "keys = ['apple', 'banana', 'cherry', 'date']\n",
    "values = [1,2,3,4]\n",
    "new_dict = dict(zip(keys, values))\n",
    "print(new_dict)"
   ]
  },
  {
   "cell_type": "code",
   "execution_count": 93,
   "metadata": {},
   "outputs": [
    {
     "name": "stdout",
     "output_type": "stream",
     "text": [
      "{'10': 'apples', '20': 'peaches'}\n"
     ]
    }
   ],
   "source": [
    "list_of_tuples = [('10', 'apples'), ('20', 'peaches')]\n",
    "\n",
    "# Convert the list of tuples to a dictionary\n",
    "dict_from_list = dict(list_of_tuples)\n",
    "\n",
    "print(dict_from_list)  # Output: {'10': 'apples', '20': 'peaches'}"
   ]
  },
  {
   "cell_type": "code",
   "execution_count": 95,
   "metadata": {},
   "outputs": [
    {
     "name": "stdout",
     "output_type": "stream",
     "text": [
      "find a: 0\n",
      "find string: 10\n"
     ]
    }
   ],
   "source": [
    "text = \"to find a string\"\n",
    "print(\"find a:\",text.find(\"t\"))\n",
    "print(\"find string:\",text.find(\"string\"))"
   ]
  },
  {
   "cell_type": "code",
   "execution_count": 97,
   "metadata": {},
   "outputs": [
    {
     "name": "stdout",
     "output_type": "stream",
     "text": [
      "to replace a string\n",
      "not to replace a string\n"
     ]
    }
   ],
   "source": [
    "text2 = \"to replace a string\"\n",
    "text3 = text2.replace('to', 'not to')\n",
    "print(text2)\n",
    "print(text3)"
   ]
  }
 ],
 "metadata": {
  "kernelspec": {
   "display_name": "Python 3",
   "language": "python",
   "name": "python3"
  },
  "language_info": {
   "codemirror_mode": {
    "name": "ipython",
    "version": 3
   },
   "file_extension": ".py",
   "mimetype": "text/x-python",
   "name": "python",
   "nbconvert_exporter": "python",
   "pygments_lexer": "ipython3",
   "version": "3.11.5"
  },
  "orig_nbformat": 4
 },
 "nbformat": 4,
 "nbformat_minor": 2
}

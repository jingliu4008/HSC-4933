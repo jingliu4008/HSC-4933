{
 "cells": [
  {
   "cell_type": "code",
   "execution_count": 2,
   "metadata": {},
   "outputs": [],
   "source": [
    "# database\n",
    "import sqlite3"
   ]
  },
  {
   "cell_type": "code",
   "execution_count": 3,
   "metadata": {},
   "outputs": [],
   "source": [
    "connection = sqlite3.connect(\"test_database.db\") # to connect to an existing database or create a new one"
   ]
  },
  {
   "cell_type": "code",
   "execution_count": null,
   "metadata": {},
   "outputs": [],
   "source": [
    "connection = sqlite3.connect(\":memory:\")  # to create a temporary database"
   ]
  },
  {
   "cell_type": "code",
   "execution_count": 3,
   "metadata": {},
   "outputs": [
    {
     "data": {
      "text/plain": [
       "sqlite3.Connection"
      ]
     },
     "execution_count": 3,
     "metadata": {},
     "output_type": "execute_result"
    }
   ],
   "source": [
    "type(connection)"
   ]
  },
  {
   "cell_type": "code",
   "execution_count": 29,
   "metadata": {},
   "outputs": [
    {
     "data": {
      "text/plain": [
       "sqlite3.Cursor"
      ]
     },
     "execution_count": 29,
     "metadata": {},
     "output_type": "execute_result"
    }
   ],
   "source": [
    "cursor = connection.cursor() # cursor object for store and retrieve data\n",
    "type(cursor)"
   ]
  },
  {
   "cell_type": "code",
   "execution_count": 30,
   "metadata": {},
   "outputs": [
    {
     "data": {
      "text/plain": [
       "<sqlite3.Cursor at 0x120a8f640>"
      ]
     },
     "execution_count": 30,
     "metadata": {},
     "output_type": "execute_result"
    }
   ],
   "source": [
    "query = \"SELECT datetime('now', 'localtime');\" # SELECT is a command in SQL, but the word doesn't have to be upper case\n",
    "cursor.execute(query)"
   ]
  },
  {
   "cell_type": "code",
   "execution_count": 26,
   "metadata": {},
   "outputs": [
    {
     "name": "stdout",
     "output_type": "stream",
     "text": [
      "None\n"
     ]
    }
   ],
   "source": [
    "print(cursor.fetchone()) # this is a tuple, but it consume the output from .execute(query), so you need to rerun .execute(query) next time"
   ]
  },
  {
   "cell_type": "code",
   "execution_count": 33,
   "metadata": {},
   "outputs": [
    {
     "name": "stdout",
     "output_type": "stream",
     "text": [
      "2024-11-20 16:58:58\n",
      "<class 'str'>\n"
     ]
    }
   ],
   "source": [
    "cur_time = cursor.execute(query).fetchone()[0] # unpack tuple to string\n",
    "print(cur_time)\n",
    "print(type(cur_time))"
   ]
  },
  {
   "cell_type": "code",
   "execution_count": 42,
   "metadata": {},
   "outputs": [
    {
     "name": "stdout",
     "output_type": "stream",
     "text": [
      "2024-11-20 17:28:10\n",
      "<class 'str'>\n",
      "but without [0]: <class 'tuple'>\n"
     ]
    }
   ],
   "source": [
    "# another way:\n",
    "# rerun .execute(query):\n",
    "cursor = cursor.execute(query)\n",
    "\n",
    "cur_time2 = cursor.fetchone()\n",
    "print(cur_time2[0]) #this is a string\n",
    "print(type(cur_time2[0])) \n",
    "print(\"but without [0]:\",type(cur_time2)) "
   ]
  },
  {
   "cell_type": "code",
   "execution_count": 39,
   "metadata": {},
   "outputs": [],
   "source": [
    "connection.close() # to close the databse connection"
   ]
  },
  {
   "cell_type": "code",
   "execution_count": 11,
   "metadata": {},
   "outputs": [],
   "source": [
    "with sqlite3.connect(\"test_database.db\") as connection:\n",
    "    cursor = connection.cursor()\n",
    "    query = \"SELECT datetime('now', 'localtime');\"\n",
    "    time = cursor.execute(query).fetchone()[0]"
   ]
  },
  {
   "cell_type": "code",
   "execution_count": 44,
   "metadata": {},
   "outputs": [
    {
     "name": "stdout",
     "output_type": "stream",
     "text": [
      "2024-11-20 17:28:21\n"
     ]
    }
   ],
   "source": [
    "print(time)"
   ]
  },
  {
   "cell_type": "code",
   "execution_count": 2,
   "metadata": {},
   "outputs": [],
   "source": [
    "import sqlite3"
   ]
  },
  {
   "cell_type": "code",
   "execution_count": 3,
   "metadata": {},
   "outputs": [
    {
     "ename": "OperationalError",
     "evalue": "table People already exists",
     "output_type": "error",
     "traceback": [
      "\u001b[0;31m---------------------------------------------------------------------------\u001b[0m",
      "\u001b[0;31mOperationalError\u001b[0m                          Traceback (most recent call last)",
      "\u001b[1;32m/Users/JingL/Documents/usf-master/fall 2024/TA/class code/lesson 14.ipynb Cell 14\u001b[0m line \u001b[0;36m3\n\u001b[1;32m      <a href='vscode-notebook-cell:/Users/JingL/Documents/usf-master/fall%202024/TA/class%20code/lesson%2014.ipynb#X16sZmlsZQ%3D%3D?line=0'>1</a>\u001b[0m connection \u001b[39m=\u001b[39m sqlite3\u001b[39m.\u001b[39mconnect(\u001b[39m\"\u001b[39m\u001b[39mtest_database.db\u001b[39m\u001b[39m\"\u001b[39m) \n\u001b[1;32m      <a href='vscode-notebook-cell:/Users/JingL/Documents/usf-master/fall%202024/TA/class%20code/lesson%2014.ipynb#X16sZmlsZQ%3D%3D?line=1'>2</a>\u001b[0m cursor \u001b[39m=\u001b[39m connection\u001b[39m.\u001b[39mcursor()\n\u001b[0;32m----> <a href='vscode-notebook-cell:/Users/JingL/Documents/usf-master/fall%202024/TA/class%20code/lesson%2014.ipynb#X16sZmlsZQ%3D%3D?line=2'>3</a>\u001b[0m cursor\u001b[39m.\u001b[39mexecute(\n\u001b[1;32m      <a href='vscode-notebook-cell:/Users/JingL/Documents/usf-master/fall%202024/TA/class%20code/lesson%2014.ipynb#X16sZmlsZQ%3D%3D?line=3'>4</a>\u001b[0m \u001b[39m    \u001b[39m\u001b[39m\"\"\"CREATE TABLE People(\u001b[39;00m\n\u001b[1;32m      <a href='vscode-notebook-cell:/Users/JingL/Documents/usf-master/fall%202024/TA/class%20code/lesson%2014.ipynb#X16sZmlsZQ%3D%3D?line=4'>5</a>\u001b[0m \u001b[39m           FirstName TEXT,\u001b[39;00m\n\u001b[1;32m      <a href='vscode-notebook-cell:/Users/JingL/Documents/usf-master/fall%202024/TA/class%20code/lesson%2014.ipynb#X16sZmlsZQ%3D%3D?line=5'>6</a>\u001b[0m \u001b[39m           LastName TEXT,\u001b[39;00m\n\u001b[1;32m      <a href='vscode-notebook-cell:/Users/JingL/Documents/usf-master/fall%202024/TA/class%20code/lesson%2014.ipynb#X16sZmlsZQ%3D%3D?line=6'>7</a>\u001b[0m \u001b[39mAge INT );\"\"\"\u001b[39;00m\n\u001b[1;32m      <a href='vscode-notebook-cell:/Users/JingL/Documents/usf-master/fall%202024/TA/class%20code/lesson%2014.ipynb#X16sZmlsZQ%3D%3D?line=7'>8</a>\u001b[0m ) \u001b[39m# to create a table - people in test_database.bd, 3 columns: FirstName, which is string, LastName, which is string, Age, which is number\u001b[39;00m\n\u001b[1;32m      <a href='vscode-notebook-cell:/Users/JingL/Documents/usf-master/fall%202024/TA/class%20code/lesson%2014.ipynb#X16sZmlsZQ%3D%3D?line=8'>9</a>\u001b[0m cursor\u001b[39m.\u001b[39mexecute(\n\u001b[1;32m     <a href='vscode-notebook-cell:/Users/JingL/Documents/usf-master/fall%202024/TA/class%20code/lesson%2014.ipynb#X16sZmlsZQ%3D%3D?line=9'>10</a>\u001b[0m     \u001b[39m\"\u001b[39m\u001b[39mINSERT INTO People VALUES(\u001b[39m\u001b[39m'\u001b[39m\u001b[39mRon\u001b[39m\u001b[39m'\u001b[39m\u001b[39m,\u001b[39m\u001b[39m'\u001b[39m\u001b[39mObvious\u001b[39m\u001b[39m'\u001b[39m\u001b[39m,42 );\u001b[39m\u001b[39m\"\u001b[39m\n\u001b[1;32m     <a href='vscode-notebook-cell:/Users/JingL/Documents/usf-master/fall%202024/TA/class%20code/lesson%2014.ipynb#X16sZmlsZQ%3D%3D?line=10'>11</a>\u001b[0m ) \u001b[39m# Insert a new row into the 'People' table\u001b[39;00m\n\u001b[1;32m     <a href='vscode-notebook-cell:/Users/JingL/Documents/usf-master/fall%202024/TA/class%20code/lesson%2014.ipynb#X16sZmlsZQ%3D%3D?line=11'>12</a>\u001b[0m connection\u001b[39m.\u001b[39mcommit() \u001b[39m# save the dataset to database\u001b[39;00m\n",
      "\u001b[0;31mOperationalError\u001b[0m: table People already exists"
     ]
    }
   ],
   "source": [
    "connection = sqlite3.connect(\"test_database.db\") \n",
    "cursor = connection.cursor()\n",
    "cursor.execute(\n",
    "    \"\"\"CREATE TABLE People(\n",
    "           FirstName TEXT,\n",
    "           LastName TEXT,\n",
    "Age INT );\"\"\"\n",
    ") # to create a table - people in test_database.bd, 3 columns: FirstName, which is string, LastName, which is string, Age, which is number\n",
    "cursor.execute(\n",
    "    \"INSERT INTO People VALUES('Ron','Obvious',42 );\"\n",
    ") # Insert a new row into the 'People' table\n",
    "connection.commit() # save the dataset to database\n",
    "connection.close()"
   ]
  },
  {
   "cell_type": "code",
   "execution_count": 10,
   "metadata": {},
   "outputs": [
    {
     "name": "stdout",
     "output_type": "stream",
     "text": [
      "[('Ron', 'Obvious', 42)]\n"
     ]
    }
   ],
   "source": [
    "connection = sqlite3.connect(\"test_database.db\")  # Re-open the database\n",
    "cursor = connection.cursor()  # Create a new cursor\n",
    "cursor.execute(\"SELECT * FROM People\")\n",
    "rows = cursor.fetchall()  # Fetch all rows\n",
    "print(rows)  # Print the rows to see the data inserted"
   ]
  },
  {
   "cell_type": "code",
   "execution_count": 1,
   "metadata": {},
   "outputs": [],
   "source": [
    "import sqlite3\n",
    "with sqlite3.connect(\"test_database.db\") as connection:\n",
    "    cursor = connection.cursor()\n",
    "    cursor.execute(\"DROP TABLE IF EXISTS People;\")\n",
    "    cursor.execute(\"\"\"CREATE TABLE People(FirstName TEXT, \n",
    "                   LastName TEXT, \n",
    "                   age INT);\"\"\"\n",
    "                   )\n",
    "    cursor.execute(\"INSERT INTO People VALUES('Ron','Obvious',42 );\")\n",
    "\n",
    "# note: .execute() can only execute only 1 command\n",
    "# drop table if exists will remove information in previous table\n"
   ]
  },
  {
   "cell_type": "code",
   "execution_count": 3,
   "metadata": {},
   "outputs": [
    {
     "name": "stdout",
     "output_type": "stream",
     "text": [
      "[('Ron', 'Obvious', 42)]\n"
     ]
    }
   ],
   "source": [
    "with sqlite3.connect(\"test_database.db\") as connection:\n",
    "    cursor = connection.cursor()\n",
    "    cursor.execute(\"SELECT * FROM People\")\n",
    "    rows = cursor.fetchall()  # Fetch all rows\n",
    "    print(rows)"
   ]
  },
  {
   "cell_type": "code",
   "execution_count": 4,
   "metadata": {},
   "outputs": [
    {
     "name": "stdout",
     "output_type": "stream",
     "text": [
      "[('Ron', 'Obvious', 42)]\n"
     ]
    }
   ],
   "source": [
    "with sqlite3.connect(\"test_database.db\") as connection:\n",
    "    cursor = connection.cursor()\n",
    "    cursor.executescript(\n",
    "        \"\"\"DROP TABLE IF EXISTS People;\n",
    "        CREATE TABLE People(FirstName TEXT, LastName TEXT, age INT);\n",
    "        INSERT INTO People VALUES('Ron','Obvious',42 );\n",
    "        \"\"\")\n",
    "    cursor.execute(\"SELECT * FROM People\")\n",
    "    rows = cursor.fetchall()  # Fetch all rows\n",
    "    print(rows)\n",
    "# executescript() executes multiple SQL statements in sequence, but it does not return any results for SELECT statements.\n",
    "# have to execute select and then print out the overall result"
   ]
  },
  {
   "cell_type": "code",
   "execution_count": 6,
   "metadata": {},
   "outputs": [],
   "source": [
    "people_values = (\n",
    "(\"Ron\", \"Obvious\", 42), (\"Luigi\", \"Vercotti\", 43), (\"Arthur\", \"Belling\", 28)\n",
    ")\n",
    "cursor.executemany(\"INSERT INTO People VALUES(?, ?, ?)\", people_values)\n",
    "connection.commit()\n",
    "connection.close() # remember to close connection everytime if not using with...as, to release any locks on the database. \n",
    "\n",
    "# executemany() can append data to the end, similar function to INSERT INTO People VALUES();"
   ]
  },
  {
   "cell_type": "code",
   "execution_count": 7,
   "metadata": {},
   "outputs": [
    {
     "name": "stdout",
     "output_type": "stream",
     "text": [
      "[('Ron', 'Obvious', 42), ('Luigi', 'Vercotti', 43), ('Arthur', 'Belling', 28), ('Ron', 'Obvious', 42), ('Luigi', 'Vercotti', 43), ('Arthur', 'Belling', 28), ('Ron', 'Obvious', 42), ('Luigi', 'Vercotti', 43), ('Arthur', 'Belling', 28)]\n"
     ]
    }
   ],
   "source": [
    "with sqlite3.connect(\"test_database.db\") as connection:\n",
    "    cursor = connection.cursor()\n",
    "    cursor.execute(\"SELECT * FROM People\")\n",
    "    rows = cursor.fetchall()  # Fetch all rows\n",
    "    print(rows)"
   ]
  },
  {
   "cell_type": "code",
   "execution_count": 3,
   "metadata": {},
   "outputs": [
    {
     "name": "stdout",
     "output_type": "stream",
     "text": [
      "[('Ron', 'Obvious', 42), ('Luigi', 'Vercotti', 43), ('Arthur', 'Belling', 28)]\n"
     ]
    }
   ],
   "source": [
    "import sqlite3\n",
    "\n",
    "# Sample data to insert\n",
    "people_values = (\n",
    "    (\"Ron\", \"Obvious\", 42),\n",
    "    (\"Luigi\", \"Vercotti\", 43),\n",
    "    (\"Arthur\", \"Belling\", 28)\n",
    ")\n",
    "\n",
    "# Connect to the database\n",
    "with sqlite3.connect(\"test_database.db\") as connection:\n",
    "    cursor = connection.cursor()\n",
    "    \n",
    "    # Drop the table if it exists and create a new one\n",
    "    cursor.executescript(\"\"\"\n",
    "        DROP TABLE IF EXISTS People; \n",
    "        CREATE TABLE People(\n",
    "            FirstName TEXT,\n",
    "            LastName TEXT,\n",
    "            Age INT\n",
    "        );\n",
    "    \"\"\")\n",
    "    \n",
    "    # Insert multiple rows using executemany\n",
    "    cursor.executemany(\"INSERT INTO People VALUES(?, ?, ?)\", people_values)\n",
    "    \n",
    "    # Fetch and print all rows to confirm\n",
    "    cursor.execute(\"SELECT * FROM People\")\n",
    "    rows = cursor.fetchall()\n",
    "    print(rows)  # Output will show all inserted rows"
   ]
  },
  {
   "cell_type": "code",
   "execution_count": null,
   "metadata": {},
   "outputs": [],
   "source": [
    "\"\"\"takeaways\n",
    "1. import sqlite3 to use the module\n",
    "2. sqlite3.connect('database_name.db') to connect to / create a database\n",
    "3. save dataset with connection.commit()\n",
    "4. close the database connection using connection.close()\n",
    "5. cursor.execute() or cursor.executescript() to execute SQL commands\n",
    "6. INSERT INTO ... VALUES() to insert a single row\n",
    "7. executemany() is used for batch inserting multiple rows\n",
    "8. cursor.execute() and fetchall() or fetchone() to fetch all rows or a single row\n",
    "9. with sqlite3.connect(...) as connection can handle dataset in SQL more efficiently\n",
    "\"\"\""
   ]
  },
  {
   "cell_type": "code",
   "execution_count": null,
   "metadata": {},
   "outputs": [],
   "source": [
    "\"\"\"homework code 12:\n",
    "overall satisfaction scores = sum up all the 5 categories\"\"\""
   ]
  }
 ],
 "metadata": {
  "kernelspec": {
   "display_name": "base",
   "language": "python",
   "name": "python3"
  },
  "language_info": {
   "codemirror_mode": {
    "name": "ipython",
    "version": 3
   },
   "file_extension": ".py",
   "mimetype": "text/x-python",
   "name": "python",
   "nbconvert_exporter": "python",
   "pygments_lexer": "ipython3",
   "version": "3.11.7"
  },
  "orig_nbformat": 4
 },
 "nbformat": 4,
 "nbformat_minor": 2
}

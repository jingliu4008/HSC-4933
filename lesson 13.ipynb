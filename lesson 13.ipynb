{
 "cells": [
  {
   "cell_type": "code",
   "execution_count": null,
   "metadata": {},
   "outputs": [],
   "source": [
    "# file input and output "
   ]
  },
  {
   "cell_type": "code",
   "execution_count": 3,
   "metadata": {},
   "outputs": [],
   "source": [
    "# create a new path to a file\n",
    "import pathlib\n",
    "path = pathlib.Path(\"/Users/JingL/Downloads/hello.txt\") # but cannot create the file or folder"
   ]
  },
  {
   "cell_type": "code",
   "execution_count": null,
   "metadata": {},
   "outputs": [],
   "source": [
    "# in windows system: raw string\n",
    "path = pathlib.Path(r\"C:\\Users\\David\\Desktop\\hello.txt\")"
   ]
  },
  {
   "cell_type": "code",
   "execution_count": 8,
   "metadata": {},
   "outputs": [
    {
     "name": "stdout",
     "output_type": "stream",
     "text": [
      "Hello\n",
      "Jing\n"
     ]
    }
   ],
   "source": [
    "print(\"Hello\\nJing\") # \\n means change line "
   ]
  },
  {
   "cell_type": "code",
   "execution_count": 11,
   "metadata": {},
   "outputs": [],
   "source": [
    "home = pathlib.Path.home()\n"
   ]
  },
  {
   "cell_type": "code",
   "execution_count": 10,
   "metadata": {},
   "outputs": [
    {
     "data": {
      "text/plain": [
       "PosixPath('/Users/JingL')"
      ]
     },
     "execution_count": 10,
     "metadata": {},
     "output_type": "execute_result"
    }
   ],
   "source": [
    "home # Mac will show PosixPath()"
   ]
  },
  {
   "cell_type": "code",
   "execution_count": 15,
   "metadata": {},
   "outputs": [
    {
     "name": "stdout",
     "output_type": "stream",
     "text": [
      "current working directory: \n"
     ]
    },
    {
     "data": {
      "text/plain": [
       "PosixPath('/Users/JingL/Documents/usf-master/fall 2024/TA/class code')"
      ]
     },
     "execution_count": 15,
     "metadata": {},
     "output_type": "execute_result"
    }
   ],
   "source": [
    "print(\"current working directory: \")\n",
    "pathlib.Path.cwd()"
   ]
  },
  {
   "cell_type": "code",
   "execution_count": 16,
   "metadata": {},
   "outputs": [
    {
     "data": {
      "text/plain": [
       "PosixPath('/Users/JingL/Documents')"
      ]
     },
     "execution_count": 16,
     "metadata": {},
     "output_type": "execute_result"
    }
   ],
   "source": [
    "home/\"Documents\""
   ]
  },
  {
   "cell_type": "code",
   "execution_count": 17,
   "metadata": {},
   "outputs": [
    {
     "name": "stdout",
     "output_type": "stream",
     "text": [
      "/Users/JingL/Documents\n"
     ]
    }
   ],
   "source": [
    "new_dir = home/\"Documents\"\n",
    "print(new_dir)"
   ]
  },
  {
   "cell_type": "code",
   "execution_count": 18,
   "metadata": {},
   "outputs": [
    {
     "data": {
      "text/plain": [
       "False"
      ]
     },
     "execution_count": 18,
     "metadata": {},
     "output_type": "execute_result"
    }
   ],
   "source": [
    "# absolute vs relative file path\n",
    "rltv_path = pathlib.Path(\"fall 2024/TA/class code\")\n",
    "rltv_path.is_absolute()"
   ]
  },
  {
   "cell_type": "code",
   "execution_count": null,
   "metadata": {},
   "outputs": [],
   "source": [
    "# both yeild the same result:\n",
    "home/pathlib.Path(\"Documents\")\n",
    "home/\"Documents\" # Preferred for simplicity"
   ]
  },
  {
   "cell_type": "code",
   "execution_count": 20,
   "metadata": {},
   "outputs": [
    {
     "name": "stdout",
     "output_type": "stream",
     "text": [
      "/Users/JingL/Documents/usf-master/fall 2024/TA/class code/hello.txt\n"
     ]
    },
    {
     "data": {
      "text/plain": [
       "[PosixPath('/Users/JingL/Documents/usf-master/fall 2024/TA/class code'),\n",
       " PosixPath('/Users/JingL/Documents/usf-master/fall 2024/TA'),\n",
       " PosixPath('/Users/JingL/Documents/usf-master/fall 2024'),\n",
       " PosixPath('/Users/JingL/Documents/usf-master'),\n",
       " PosixPath('/Users/JingL/Documents'),\n",
       " PosixPath('/Users/JingL'),\n",
       " PosixPath('/Users'),\n",
       " PosixPath('/')]"
      ]
     },
     "execution_count": 20,
     "metadata": {},
     "output_type": "execute_result"
    }
   ],
   "source": [
    "# \"/Users/JingL/Documents/usf-master/fall 2024/TA/class code\"\n",
    "path = pathlib.Path.home()/\"Documents/usf-master/fall 2024/TA/class code/hello.txt\"\n",
    "print(path)\n",
    "list(path.parents) # to list parent path"
   ]
  },
  {
   "cell_type": "code",
   "execution_count": 21,
   "metadata": {},
   "outputs": [
    {
     "name": "stdout",
     "output_type": "stream",
     "text": [
      "/Users/JingL/Documents/usf-master/fall 2024/TA/class code\n",
      "/Users/JingL/Documents/usf-master/fall 2024/TA\n",
      "/Users/JingL/Documents/usf-master/fall 2024\n",
      "/Users/JingL/Documents/usf-master\n",
      "/Users/JingL/Documents\n",
      "/Users/JingL\n",
      "/Users\n",
      "/\n"
     ]
    }
   ],
   "source": [
    "for dir in path.parents:\n",
    "    print(dir)"
   ]
  },
  {
   "cell_type": "code",
   "execution_count": 22,
   "metadata": {},
   "outputs": [
    {
     "data": {
      "text/plain": [
       "PosixPath('/Users/JingL/Documents/usf-master/fall 2024/TA/class code')"
      ]
     },
     "execution_count": 22,
     "metadata": {},
     "output_type": "execute_result"
    }
   ],
   "source": [
    "path.parent # the 1st parent directory"
   ]
  },
  {
   "cell_type": "code",
   "execution_count": 23,
   "metadata": {},
   "outputs": [
    {
     "data": {
      "text/plain": [
       "'/'"
      ]
     },
     "execution_count": 23,
     "metadata": {},
     "output_type": "execute_result"
    }
   ],
   "source": [
    "path.anchor"
   ]
  },
  {
   "cell_type": "code",
   "execution_count": 24,
   "metadata": {},
   "outputs": [
    {
     "data": {
      "text/plain": [
       "''"
      ]
     },
     "execution_count": 24,
     "metadata": {},
     "output_type": "execute_result"
    }
   ],
   "source": [
    "rltv_path.anchor"
   ]
  },
  {
   "cell_type": "code",
   "execution_count": 39,
   "metadata": {},
   "outputs": [],
   "source": [
    "# to create a dirctory\n",
    "path = pathlib.Path(\"/Users/JingL/Downloads/new_dira/new_dirb\")\n",
    "path.mkdir(parents=True, exist_ok=True) # create parent and child directory together, without covering the existing ones"
   ]
  },
  {
   "cell_type": "code",
   "execution_count": 34,
   "metadata": {},
   "outputs": [],
   "source": [
    "new_dir = pathlib.Path(\"/Users/JingL/Downloads\")  # Better if you want to manipulate files and folders\n",
    "# new_dir = \"/Users/JingL/Downloads\"  # This cannot help you manipulate files or folders as effectively, result in typeerror\n",
    "file_path = new_dir / \"file1.txt\"\n",
    "file_path.touch()  # Creates the file if it doesn’t already exist\n"
   ]
  },
  {
   "cell_type": "code",
   "execution_count": 37,
   "metadata": {},
   "outputs": [
    {
     "name": "stdout",
     "output_type": "stream",
     "text": [
      "True\n",
      "True\n"
     ]
    }
   ],
   "source": [
    "print(file_path.exists())\n",
    "print(file_path.is_file())"
   ]
  },
  {
   "cell_type": "code",
   "execution_count": 41,
   "metadata": {},
   "outputs": [],
   "source": [
    "path = pathlib.Path(\"/Users/JingL/Downloads/new_dira\")\n",
    "path.mkdir() # if I don't use exist_ok=True\n",
    "#path.mkdir(exist_ok=True)"
   ]
  },
  {
   "cell_type": "code",
   "execution_count": 43,
   "metadata": {},
   "outputs": [
    {
     "ename": "FileNotFoundError",
     "evalue": "[Errno 2] No such file or directory: '/Users/JingL/Downloads/folder_c/file2.txt'",
     "output_type": "error",
     "traceback": [
      "\u001b[0;31m---------------------------------------------------------------------------\u001b[0m",
      "\u001b[0;31mFileNotFoundError\u001b[0m                         Traceback (most recent call last)",
      "\u001b[1;32m/Users/JingL/Documents/usf-master/fall 2024/TA/class code/lesson 13.ipynb Cell 21\u001b[0m line \u001b[0;36m2\n\u001b[1;32m      <a href='vscode-notebook-cell:/Users/JingL/Documents/usf-master/fall%202024/TA/class%20code/lesson%2013.ipynb#X31sZmlsZQ%3D%3D?line=0'>1</a>\u001b[0m file_path \u001b[39m=\u001b[39m new_dir \u001b[39m/\u001b[39m \u001b[39m\"\u001b[39m\u001b[39mfolder_c\u001b[39m\u001b[39m\"\u001b[39m \u001b[39m/\u001b[39m \u001b[39m\"\u001b[39m\u001b[39mfile2.txt\u001b[39m\u001b[39m\"\u001b[39m\n\u001b[0;32m----> <a href='vscode-notebook-cell:/Users/JingL/Documents/usf-master/fall%202024/TA/class%20code/lesson%2013.ipynb#X31sZmlsZQ%3D%3D?line=1'>2</a>\u001b[0m file_path\u001b[39m.\u001b[39mtouch()\n",
      "File \u001b[0;32m/opt/anaconda3/lib/python3.11/pathlib.py:1108\u001b[0m, in \u001b[0;36mPath.touch\u001b[0;34m(self, mode, exist_ok)\u001b[0m\n\u001b[1;32m   1106\u001b[0m \u001b[39mif\u001b[39;00m \u001b[39mnot\u001b[39;00m exist_ok:\n\u001b[1;32m   1107\u001b[0m     flags \u001b[39m|\u001b[39m\u001b[39m=\u001b[39m os\u001b[39m.\u001b[39mO_EXCL\n\u001b[0;32m-> 1108\u001b[0m fd \u001b[39m=\u001b[39m os\u001b[39m.\u001b[39mopen(\u001b[39mself\u001b[39m, flags, mode)\n\u001b[1;32m   1109\u001b[0m os\u001b[39m.\u001b[39mclose(fd)\n",
      "\u001b[0;31mFileNotFoundError\u001b[0m: [Errno 2] No such file or directory: '/Users/JingL/Downloads/folder_c/file2.txt'"
     ]
    }
   ],
   "source": [
    "file_path = new_dir / \"folder_c\" / \"file2.txt\" # folder_c does not exist\n",
    "file_path.touch() # result in error"
   ]
  },
  {
   "cell_type": "code",
   "execution_count": 55,
   "metadata": {},
   "outputs": [
    {
     "name": "stdout",
     "output_type": "stream",
     "text": [
      "True\n",
      "True\n"
     ]
    }
   ],
   "source": [
    "new_dir = pathlib.Path(\"/Users/JingL/Downloads\")\n",
    "file_path = new_dir / \"folder_c\" / \"file2.txt\"\n",
    "file_path.parent.mkdir(exist_ok=True)  # Creates \"folder_c\" if it doesn’t exist\n",
    "print(file_path.exists())  # Will print False since \"file2.txt\" does not exist yet\n",
    "file_path.touch()\n",
    "print(file_path.exists()) # True"
   ]
  },
  {
   "cell_type": "code",
   "execution_count": 59,
   "metadata": {},
   "outputs": [
    {
     "name": "stdout",
     "output_type": "stream",
     "text": [
      "/Users/JingL/Downloads/folder_c/file2.txt\n"
     ]
    }
   ],
   "source": [
    "file_path2 = new_dir / \"folder_c\" \n",
    "for path in file_path2.iterdir(): # Only print files\n",
    "    print(path)"
   ]
  },
  {
   "cell_type": "code",
   "execution_count": 60,
   "metadata": {},
   "outputs": [
    {
     "name": "stdout",
     "output_type": "stream",
     "text": [
      "/Users/JingL/Downloads/folder_c/file2.txt\n"
     ]
    }
   ],
   "source": [
    "for path in file_path2.glob(\"*.txt\"): # search for a directory\n",
    "    print(path)"
   ]
  },
  {
   "cell_type": "code",
   "execution_count": 62,
   "metadata": {},
   "outputs": [],
   "source": [
    "file_path = new_dir / \"folder_c\" / \"file_a.txt\"\n",
    "file_path.touch()\n",
    "file_path2 = new_dir / \"folder_c\" "
   ]
  },
  {
   "cell_type": "code",
   "execution_count": 63,
   "metadata": {},
   "outputs": [
    {
     "name": "stdout",
     "output_type": "stream",
     "text": [
      "/Users/JingL/Downloads/folder_c/file2.txt\n",
      "/Users/JingL/Downloads/folder_c/file_a.txt\n"
     ]
    }
   ],
   "source": [
    "for path in file_path2.glob(\"*.txt\"): \n",
    "    print(path)"
   ]
  },
  {
   "cell_type": "code",
   "execution_count": 64,
   "metadata": {},
   "outputs": [
    {
     "data": {
      "image/png": "[encoded data removed]",
      "text/plain": [
       "<PIL.PngImagePlugin.PngImageFile image mode=RGBA size=1326x726>"
      ]
     },
     "metadata": {},
     "output_type": "display_data"
    }
   ],
   "source": [
    "from PIL import Image\n",
    "from IPython.display import display\n",
    "\n",
    "# Open the image using PIL\n",
    "img_for = Image.open('common wildcard characters.png')\n",
    "\n",
    "# Display the image\n",
    "display(img_for)"
   ]
  },
  {
   "cell_type": "code",
   "execution_count": 121,
   "metadata": {},
   "outputs": [],
   "source": [
    "new_dir = pathlib.Path(\"/Users/JingL/Downloads/folder_c\")\n",
    "paths = [\n",
    "new_dir / \"program1.py\",\n",
    "new_dir / \"program2.py\",\n",
    "new_dir / \"folder_a\" / \"program3.py\",\n",
    "new_dir / \"folder_a\" / \"folder_b\" / \"image1.jpg\",\n",
    "new_dir / \"folder_a\" / \"folder_b\" / \"image2.png\",\n",
    "new_dir / \"folder_a\" / \"folder_b\" / \"file3.txt\"]\n",
    "for path in paths:\n",
    "    path.parent.mkdir(exist_ok=True)\n",
    "    path.touch()"
   ]
  },
  {
   "cell_type": "code",
   "execution_count": 83,
   "metadata": {},
   "outputs": [
    {
     "data": {
      "text/plain": [
       "[PosixPath('/Users/JingL/Downloads/folder_c/program1.py'),\n",
       " PosixPath('/Users/JingL/Downloads/folder_c/program2.py')]"
      ]
     },
     "execution_count": 83,
     "metadata": {},
     "output_type": "execute_result"
    }
   ],
   "source": [
    "list(new_dir.glob(\"*.py\"))"
   ]
  },
  {
   "cell_type": "code",
   "execution_count": 84,
   "metadata": {},
   "outputs": [
    {
     "data": {
      "text/plain": [
       "[PosixPath('/Users/JingL/Downloads/folder_c/program1.py')]"
      ]
     },
     "execution_count": 84,
     "metadata": {},
     "output_type": "execute_result"
    }
   ],
   "source": [
    "list(new_dir.glob(\"*1*\"))"
   ]
  },
  {
   "cell_type": "code",
   "execution_count": 85,
   "metadata": {},
   "outputs": [
    {
     "data": {
      "text/plain": [
       "[PosixPath('/Users/JingL/Downloads/folder_c/file2.txt'),\n",
       " PosixPath('/Users/JingL/Downloads/folder_c/file_a.txt'),\n",
       " PosixPath('/Users/JingL/Downloads/folder_c/folder_a/folder_b/file3.txt')]"
      ]
     },
     "execution_count": 85,
     "metadata": {},
     "output_type": "execute_result"
    }
   ],
   "source": [
    "list(new_dir.glob(\"**/*.txt\")) # ** represents current directory and any of its subdirectories."
   ]
  },
  {
   "cell_type": "code",
   "execution_count": 125,
   "metadata": {},
   "outputs": [
    {
     "data": {
      "text/plain": [
       "PosixPath('/Users/JingL/Downloads/folder_c/folder_a/program5.py')"
      ]
     },
     "execution_count": 125,
     "metadata": {},
     "output_type": "execute_result"
    }
   ],
   "source": [
    "# step1: create a file program1.py and edit it\n",
    "source = new_dir/\"program1.py\"\n",
    "\n",
    "#step2: pass it to destination\n",
    "destination = new_dir / \"folder_a\" /\"program5.py\"\n",
    "source.replace(destination) # now program5.py is replaced by program1.py, keeping only its name"
   ]
  },
  {
   "cell_type": "code",
   "execution_count": 123,
   "metadata": {},
   "outputs": [
    {
     "name": "stdout",
     "output_type": "stream",
     "text": [
      "False True\n"
     ]
    }
   ],
   "source": [
    "print(source.exists(), destination.exists())"
   ]
  },
  {
   "cell_type": "code",
   "execution_count": null,
   "metadata": {},
   "outputs": [],
   "source": [
    "# in Mac system:\n",
    "# step1: create a file program1.py and edit it \"new program1\"\n",
    "source = new_dir/\"program1.py\"\n",
    "source.touch()\n",
    "#step2: pass it to destination\n",
    "destination = new_dir / \"folder_a\" # error because this is a directory not a file path\n",
    "source.replace(destination) "
   ]
  },
  {
   "cell_type": "code",
   "execution_count": 16,
   "metadata": {},
   "outputs": [],
   "source": [
    "new_dir = pathlib.Path(\"/Users/JingL/Downloads/folder_c\")\n",
    "# step1: create a folder new_fld and edit it \"new program1\"\n",
    "source = new_dir/\"new_fld\"\n",
    "source.mkdir(exist_ok=True) # This will create a directory named \"new_fld\" inside `new_dir`\n",
    "path2 = source \n",
    "path2.touch() # This will create a file test1.txt under new_fld\n"
   ]
  },
  {
   "cell_type": "code",
   "execution_count": null,
   "metadata": {},
   "outputs": [],
   "source": [
    "# in Windows system, run this:\n",
    "import pathlib\n",
    "import shutil\n",
    "\n",
    "# Define paths\n",
    "new_dir = pathlib.Path(r\"C:\\Mac\\Home\\Downloads\\folder_c\")\n",
    "source = new_dir / \"new_fld\"\n",
    "destination2 = new_dir / \"folder_d\"\n",
    "\n",
    "# Step 1: Create a folder `new_fld` and add a file `test1.txt`\n",
    "source.mkdir(exist_ok=True)\n",
    "test_file = source / \"test1.txt\"\n",
    "test_file.touch()  # Create an empty file named `test1.txt`\n",
    "\n",
    "# Step 2: Ensure destination folder `folder_d` exists\n",
    "destination2.mkdir(exist_ok=True)\n",
    "\n",
    "# Step 3: Move `test1.txt` to `folder_d`\n",
    "shutil.move(str(test_file), destination2 / test_file.name) # to use move rather than replace due to a stricter filesystem rules on Windows,\n",
    "\n",
    "# Optional: Remove the now-empty `new_fld` directory\n",
    "if not any(source.iterdir()):  # Check if the directory is empty\n",
    "    source.rmdir()"
   ]
  },
  {
   "cell_type": "code",
   "execution_count": null,
   "metadata": {},
   "outputs": [],
   "source": [
    "#step2: move test1.txt to destination2\n",
    "destination2 = new_dir / \"folder_d\" \n",
    "destination2.mkdir(exist_ok=True)\n",
    "source.replace(destination2) "
   ]
  },
  {
   "cell_type": "code",
   "execution_count": 145,
   "metadata": {},
   "outputs": [],
   "source": [
    "new_dir = pathlib.Path(\"/Users/JingL/Downloads/folder_c\")\n",
    "paths = [\n",
    "new_dir / \"program1.py\",\n",
    "new_dir / \"program2.py\",\n",
    "new_dir / \"folder_a\" / \"program3.py\",\n",
    "new_dir / \"folder_a\" / \"folder_b\" / \"image1.jpg\",\n",
    "new_dir / \"folder_a\" / \"folder_b\" / \"image2.png\",\n",
    "new_dir / \"folder_a\" / \"folder_b\" / \"file3.txt\"]\n",
    "for path in paths:\n",
    "    path.parent.mkdir(exist_ok=True)\n",
    "    path.touch()"
   ]
  },
  {
   "cell_type": "code",
   "execution_count": 139,
   "metadata": {},
   "outputs": [],
   "source": [
    "path3 = new_dir/\"program1.py\"\n",
    "path3.unlink()"
   ]
  },
  {
   "cell_type": "code",
   "execution_count": 140,
   "metadata": {},
   "outputs": [
    {
     "data": {
      "text/plain": [
       "False"
      ]
     },
     "execution_count": 140,
     "metadata": {},
     "output_type": "execute_result"
    }
   ],
   "source": [
    "path3.exists()"
   ]
  },
  {
   "cell_type": "code",
   "execution_count": 144,
   "metadata": {},
   "outputs": [],
   "source": [
    "path3.unlink(missing_ok=True)"
   ]
  },
  {
   "cell_type": "code",
   "execution_count": 143,
   "metadata": {},
   "outputs": [
    {
     "data": {
      "text/plain": [
       "[PosixPath('/Users/JingL/Downloads/folder_c/file2.txt'),\n",
       " PosixPath('/Users/JingL/Downloads/folder_c/file_a.txt'),\n",
       " PosixPath('/Users/JingL/Downloads/folder_c/.DS_Store'),\n",
       " PosixPath('/Users/JingL/Downloads/folder_c/folder_d'),\n",
       " PosixPath('/Users/JingL/Downloads/folder_c/program2.py'),\n",
       " PosixPath('/Users/JingL/Downloads/folder_c/folder_a')]"
      ]
     },
     "execution_count": 143,
     "metadata": {},
     "output_type": "execute_result"
    }
   ],
   "source": [
    "list(new_dir.iterdir())"
   ]
  },
  {
   "cell_type": "code",
   "execution_count": 152,
   "metadata": {},
   "outputs": [],
   "source": [
    "folder_d = new_dir / \"folder_d\" \n",
    "folder_d.mkdir(exist_ok=True)"
   ]
  },
  {
   "cell_type": "code",
   "execution_count": 153,
   "metadata": {},
   "outputs": [
    {
     "ename": "OSError",
     "evalue": "[Errno 66] Directory not empty: '/Users/JingL/Downloads/folder_c/folder_d'",
     "output_type": "error",
     "traceback": [
      "\u001b[0;31m---------------------------------------------------------------------------\u001b[0m",
      "\u001b[0;31mOSError\u001b[0m                                   Traceback (most recent call last)",
      "\u001b[1;32m/Users/JingL/Documents/usf-master/fall 2024/TA/class code/lesson 13.ipynb Cell 43\u001b[0m line \u001b[0;36m1\n\u001b[0;32m----> <a href='vscode-notebook-cell:/Users/JingL/Documents/usf-master/fall%202024/TA/class%20code/lesson%2013.ipynb#X64sZmlsZQ%3D%3D?line=0'>1</a>\u001b[0m folder_d\u001b[39m.\u001b[39mrmdir()\n",
      "File \u001b[0;32m/opt/anaconda3/lib/python3.11/pathlib.py:1156\u001b[0m, in \u001b[0;36mPath.rmdir\u001b[0;34m(self)\u001b[0m\n\u001b[1;32m   1152\u001b[0m \u001b[39mdef\u001b[39;00m \u001b[39mrmdir\u001b[39m(\u001b[39mself\u001b[39m):\n\u001b[1;32m   1153\u001b[0m \u001b[39m    \u001b[39m\u001b[39m\"\"\"\u001b[39;00m\n\u001b[1;32m   1154\u001b[0m \u001b[39m    Remove this directory.  The directory must be empty.\u001b[39;00m\n\u001b[1;32m   1155\u001b[0m \u001b[39m    \"\"\"\u001b[39;00m\n\u001b[0;32m-> 1156\u001b[0m     os\u001b[39m.\u001b[39mrmdir(\u001b[39mself\u001b[39m)\n",
      "\u001b[0;31mOSError\u001b[0m: [Errno 66] Directory not empty: '/Users/JingL/Downloads/folder_c/folder_d'"
     ]
    }
   ],
   "source": [
    "folder_d.rmdir() # not empty"
   ]
  },
  {
   "cell_type": "code",
   "execution_count": 154,
   "metadata": {},
   "outputs": [],
   "source": [
    "folder_f = new_dir / \"folder_f\" \n",
    "folder_f.mkdir(exist_ok=True)"
   ]
  },
  {
   "cell_type": "code",
   "execution_count": 155,
   "metadata": {},
   "outputs": [],
   "source": [
    "folder_f.rmdir()  # folder_f is removed, and check your trash, it should be empty"
   ]
  },
  {
   "cell_type": "code",
   "execution_count": 156,
   "metadata": {},
   "outputs": [],
   "source": [
    "#  if I real want to remove a directory even thouhg it is not empty\n",
    "import shutil\n",
    "folder_d = new_dir / \"folder_d\" \n",
    "shutil.rmtree(folder_d)"
   ]
  },
  {
   "cell_type": "code",
   "execution_count": 157,
   "metadata": {},
   "outputs": [
    {
     "data": {
      "text/plain": [
       "False"
      ]
     },
     "execution_count": 157,
     "metadata": {},
     "output_type": "execute_result"
    }
   ],
   "source": [
    "folder_d.exists()"
   ]
  },
  {
   "cell_type": "code",
   "execution_count": null,
   "metadata": {},
   "outputs": [],
   "source": [
    "\"\"\"Be cautious when moving/removing files or folders: Moving files or directories using methods \n",
    "like replace(), unlink(), rmdir(), rmtree() ...\n",
    "can result in the loss of data if the destination already exists and is overwritten. \"\"\""
   ]
  },
  {
   "cell_type": "code",
   "execution_count": null,
   "metadata": {},
   "outputs": [],
   "source": [
    "# reading and writing files, on textbook page 359-360\n",
    "# differences on character encodings: ASCII, UTF-8, -16, -32\n",
    "\"\"\"On modern Windows computers, txt files are usually encoded with UTF-16 or UTF-8.\n",
    " On macOS and Ubuntu Linux, the default character encoding is usually UTF-8.\"\"\"\n",
    "\"\"\"line ending: \\r\\n for windows;\n",
    "\\n is the line ending, \\r is to change line\"\"\""
   ]
  },
  {
   "cell_type": "code",
   "execution_count": 212,
   "metadata": {},
   "outputs": [
    {
     "name": "stdout",
     "output_type": "stream",
     "text": [
      "hello\n",
      "5\n",
      "5.3\n"
     ]
    }
   ],
   "source": [
    "# Open a file using open() function\n",
    "file = open('/Users/JingL/Documents/usf-master/fall 2024/TA/class code/hello.txt', mode='r', encoding=\"utf-8\") # 'r': read mode, 'w': write mode , 'r+': read and write mode, 'w+': write and read mode \n",
    "# Read content\n",
    "content = file.read()\n",
    "print(content)\n",
    "\n",
    "# Close the file after use\n",
    "file.close()\n"
   ]
  },
  {
   "cell_type": "code",
   "execution_count": 213,
   "metadata": {},
   "outputs": [
    {
     "name": "stdout",
     "output_type": "stream",
     "text": [
      "Hello, this is a test file!\n"
     ]
    }
   ],
   "source": [
    "# write\n",
    "# Step 1: Open the file in write mode ('w') to create it or overwrite it\n",
    "file2 = open('/Users/JingL/Documents/usf-master/fall 2024/TA/class code/expl1.txt', 'w')\n",
    "\n",
    "# Step 2: Write some content to the file\n",
    "file2.write(\"Hello, this is a test file!\")\n",
    "\n",
    "# Step 3: Close the file after writing\n",
    "file2.close()\n",
    "\n",
    "# Step 4: Reopen the file in read mode ('r')\n",
    "file2 = open('/Users/JingL/Documents/usf-master/fall 2024/TA/class code/expl1.txt', 'r')\n",
    "\n",
    "# Step 5: Read the content of the file\n",
    "content = file2.read()\n",
    "\n",
    "# Step 6: Print the content\n",
    "print(content)\n",
    "\n",
    "# Step 7: Close the file after reading\n",
    "file2.close()"
   ]
  },
  {
   "cell_type": "code",
   "execution_count": 214,
   "metadata": {},
   "outputs": [
    {
     "name": "stdout",
     "output_type": "stream",
     "text": [
      "hello\n",
      "5\n",
      "5.3\n"
     ]
    }
   ],
   "source": [
    "from pathlib import Path\n",
    "\n",
    "# Create a Path object\n",
    "path4 = pathlib.Path.cwd()\n",
    "file_path = Path(f'{path4}/hello.txt')\n",
    "\n",
    "# Open the file using Path.open()\n",
    "with Path.open(file_path, mode = 'r') as file:\n",
    "    content = file.read() # to read the file\n",
    "    print(content)"
   ]
  },
  {
   "cell_type": "code",
   "execution_count": 215,
   "metadata": {},
   "outputs": [
    {
     "data": {
      "text/plain": [
       "str"
      ]
     },
     "execution_count": 215,
     "metadata": {},
     "output_type": "execute_result"
    }
   ],
   "source": [
    "type(content)"
   ]
  },
  {
   "cell_type": "code",
   "execution_count": 216,
   "metadata": {},
   "outputs": [
    {
     "name": "stdout",
     "output_type": "stream",
     "text": [
      "hello\n",
      "\n",
      "5\n",
      "\n",
      "5.3\n"
     ]
    }
   ],
   "source": [
    "from pathlib import Path\n",
    "\n",
    "# Create a Path object\n",
    "file_path = Path(f'{path4}/hello.txt')\n",
    "\n",
    "# Open the file using Path.open()\n",
    "with Path.open(file_path, mode = 'r') as file:\n",
    "    for line in file.readlines():\n",
    "        print(line) # print() function automatically inserts a newline\n",
    "        #print(line, end=\"\")"
   ]
  },
  {
   "cell_type": "code",
   "execution_count": 217,
   "metadata": {},
   "outputs": [
    {
     "name": "stdout",
     "output_type": "stream",
     "text": [
      "Hello\n"
     ]
    }
   ],
   "source": [
    "from pathlib import Path\n",
    "\n",
    "# Create a Path object\n",
    "file_path = Path(f'{path4}/expl2.txt')\n",
    "\n",
    "# Open the file using Path.open()\n",
    "with Path.open(file_path, mode = 'w', encoding=\"utf-8\") as file:\n",
    "    file.write(\"Hello\") # write and cover the original file\n",
    "\n",
    "with Path.open(file_path, mode = 'r') as file:\n",
    "    print(file.read())"
   ]
  },
  {
   "cell_type": "code",
   "execution_count": 199,
   "metadata": {},
   "outputs": [
    {
     "name": "stdout",
     "output_type": "stream",
     "text": [
      "Hello\n",
      "\n",
      "Hello\n",
      "\n",
      "Hello\n"
     ]
    }
   ],
   "source": [
    "from pathlib import Path\n",
    "\n",
    "# Create a Path object\n",
    "file_path = Path(f'{path4}/expl2.txt')\n",
    "\n",
    "# Open the file using Path.open()\n",
    "with Path.open(file_path, mode = 'a', encoding=\"utf-8\") as file:\n",
    "    #file.write(\"Hello\") # write and append to the end\n",
    "    file.write(\"\\n\\rHello\") # write and append to the end\n",
    "\n",
    "with Path.open(file_path, mode = 'r') as file:\n",
    "    print(file.read())"
   ]
  },
  {
   "cell_type": "code",
   "execution_count": 201,
   "metadata": {},
   "outputs": [
    {
     "name": "stdout",
     "output_type": "stream",
     "text": [
      "\n",
      "\n",
      "Hello\n"
     ]
    }
   ],
   "source": [
    "from pathlib import Path\n",
    "\n",
    "# Create a Path object\n",
    "file_path = Path(f'{path4}/expl_fld/expl2.txt') # parent folder does not exist\n",
    "#file_path.parent.mkdir(parents=True) # create parent folder\n",
    "\n",
    "# Open the file using Path.open()\n",
    "with Path.open(file_path, mode = 'a', encoding=\"utf-8\") as file:\n",
    "    #file.write(\"Hello\") # write and append to the end\n",
    "    file.write(\"\\n\\rHello\") # write and append to the end\n",
    "\n",
    "with Path.open(file_path, mode = 'r') as file:\n",
    "    print(file.read())"
   ]
  },
  {
   "cell_type": "code",
   "execution_count": 202,
   "metadata": {},
   "outputs": [],
   "source": [
    "# deal with CSV file\n",
    "temp_list = [68, 65, 68, 70, 74, 72]"
   ]
  },
  {
   "cell_type": "code",
   "execution_count": 218,
   "metadata": {},
   "outputs": [],
   "source": [
    "from pathlib import Path\n",
    "file_path = Path(f'{path4}/expl_fld/temperatures.txt')\n",
    "with file_path.open(mode='w') as file: # using open from Path, because file_path is Paht object\n",
    "    file.write(str(temp_list[0]))\n"
   ]
  },
  {
   "cell_type": "code",
   "execution_count": 233,
   "metadata": {},
   "outputs": [],
   "source": [
    "from pathlib import Path\n",
    "file_path = Path(f'{path4}/expl_fld/temperatures2.txt')\n",
    "with file_path.open(mode='w') as file: # using open from Path, because file_path is Paht object\n",
    "    for temp in temp_list[0:]:\n",
    "        file.write(f\"{temp} \")"
   ]
  },
  {
   "cell_type": "code",
   "execution_count": 234,
   "metadata": {},
   "outputs": [
    {
     "name": "stdout",
     "output_type": "stream",
     "text": [
      "68 65 68 70 74 72 \n"
     ]
    }
   ],
   "source": [
    "with file_path.open(mode='r') as file:\n",
    "    temp_read = file.read()\n",
    "print(temp_read)"
   ]
  },
  {
   "cell_type": "code",
   "execution_count": 243,
   "metadata": {},
   "outputs": [],
   "source": [
    "# create a CSV file\n",
    "from pathlib import Path\n",
    "file_path = Path(f'{path4}/expl_fld/temperatures1.txt')\n",
    "with file_path.open(mode='a') as file: # using open from Path, because file_path is Paht object\n",
    "    file.write(str(temp_list[0]))\n",
    "    for temp in temp_list[1:]:\n",
    "        file.write(f\", {temp}\")"
   ]
  },
  {
   "cell_type": "code",
   "execution_count": 255,
   "metadata": {},
   "outputs": [
    {
     "name": "stdout",
     "output_type": "stream",
     "text": [
      "68, 65, 68, 70, 74, 72\n",
      "<class 'str'>\n"
     ]
    }
   ],
   "source": [
    "# read the CSV file\n",
    "with file_path.open(mode='r') as file:\n",
    "    temp_read = file.read()\n",
    "print(temp_read)\n",
    "print(type(temp_read)) # temp_read is a string, not a list"
   ]
  },
  {
   "cell_type": "code",
   "execution_count": 245,
   "metadata": {},
   "outputs": [
    {
     "name": "stdout",
     "output_type": "stream",
     "text": [
      "['68', ' 65', ' 68', ' 70', ' 74', ' 72']\n"
     ]
    }
   ],
   "source": [
    "temp_list2 = temp_read.split(\",\")\n",
    "print(temp_list2)"
   ]
  },
  {
   "cell_type": "code",
   "execution_count": 257,
   "metadata": {},
   "outputs": [
    {
     "data": {
      "text/plain": [
       "str"
      ]
     },
     "execution_count": 257,
     "metadata": {},
     "output_type": "execute_result"
    }
   ],
   "source": [
    "type(temp_list2[0])\n",
    "#type(temp_list2) # string"
   ]
  },
  {
   "cell_type": "code",
   "execution_count": 258,
   "metadata": {},
   "outputs": [],
   "source": [
    "temp_list3 = [int(i) for i in temp_list2] # int() only apply for string not a list"
   ]
  },
  {
   "cell_type": "code",
   "execution_count": 259,
   "metadata": {},
   "outputs": [
    {
     "name": "stdout",
     "output_type": "stream",
     "text": [
      "[68, 65, 68, 70, 74, 72]\n",
      "<class 'int'>\n"
     ]
    }
   ],
   "source": [
    "print(temp_list3)\n",
    "print(type(temp_list3[0]))"
   ]
  },
  {
   "cell_type": "code",
   "execution_count": 262,
   "metadata": {},
   "outputs": [],
   "source": [
    "# CSV module\n",
    "import csv\n"
   ]
  },
  {
   "cell_type": "code",
   "execution_count": 260,
   "metadata": {},
   "outputs": [
    {
     "name": "stdout",
     "output_type": "stream",
     "text": [
      "<class 'list'>\n"
     ]
    }
   ],
   "source": [
    "daily_temperatures = [\n",
    "    [68, 65, 68, 70, 74, 72],\n",
    "    [67, 67, 70, 72, 72, 70],\n",
    "    [68, 70, 74, 76, 74, 73],\n",
    "]\n",
    "print(type(daily_temperatures))"
   ]
  },
  {
   "cell_type": "code",
   "execution_count": 261,
   "metadata": {},
   "outputs": [],
   "source": [
    "path4 = pathlib.Path.cwd()\n",
    "file_path = Path(f'{path4}/temperatures.csv')"
   ]
  },
  {
   "cell_type": "code",
   "execution_count": 270,
   "metadata": {},
   "outputs": [],
   "source": [
    "# Open a file in write mode\n",
    "with open('temperatures.csv', mode='w', newline='', encoding='utf-8') as file:\n",
    "    # Create a CSV writer object\n",
    "    writer = csv.writer(file)\n",
    "    for temp in daily_temperatures:\n",
    "        writer.writerow(temp)\n"
   ]
  },
  {
   "cell_type": "code",
   "execution_count": 277,
   "metadata": {},
   "outputs": [],
   "source": [
    "# writerows()\n",
    "\"\"\"both Path.open() and the built-in open() can create a new file if it does not exist \n",
    "when used with the mode 'w' (write) or 'a' (append). \"\"\"\n",
    "\n",
    "with Path.open('temperatures2.csv', mode='w', newline='', encoding='utf-8') as file:\n",
    "    # Create a CSV writer object\n",
    "    writer = csv.writer(file)\n",
    "    writer.writerows(daily_temperatures)\n"
   ]
  },
  {
   "cell_type": "code",
   "execution_count": 278,
   "metadata": {},
   "outputs": [
    {
     "name": "stdout",
     "output_type": "stream",
     "text": [
      "[68, 65, 68, 70, 74, 72]\n",
      "[67, 67, 70, 72, 72, 70]\n",
      "[68, 70, 74, 76, 74, 73]\n"
     ]
    }
   ],
   "source": [
    "dailytemperature_list = []\n",
    "with Path.open('temperatures2.csv', mode='r', newline='', encoding='utf-8') as file:\n",
    "    reader = csv.reader(file)\n",
    "    for row in reader:\n",
    "        row_int = [int(temp) for temp in row]\n",
    "        print(row_int)"
   ]
  },
  {
   "cell_type": "code",
   "execution_count": 280,
   "metadata": {},
   "outputs": [
    {
     "name": "stdout",
     "output_type": "stream",
     "text": [
      "[[68, 65, 68, 70, 74, 72]]\n",
      "[[68, 65, 68, 70, 74, 72], [67, 67, 70, 72, 72, 70]]\n",
      "[[68, 65, 68, 70, 74, 72], [67, 67, 70, 72, 72, 70], [68, 70, 74, 76, 74, 73]]\n"
     ]
    }
   ],
   "source": [
    "dailytemperature_list = []\n",
    "with Path.open('temperatures2.csv', mode='r', newline='', encoding='utf-8') as file:\n",
    "    reader = csv.reader(file)\n",
    "    for row in reader:\n",
    "        row_int = [int(temp) for temp in row]\n",
    "        dailytemperature_list.append(row_int)\n",
    "        print(dailytemperature_list)"
   ]
  },
  {
   "cell_type": "code",
   "execution_count": 282,
   "metadata": {},
   "outputs": [
    {
     "name": "stdout",
     "output_type": "stream",
     "text": [
      "[[68, 65, 68, 70, 74, 72], [67, 67, 70, 72, 72, 70], [68, 70, 74, 76, 74, 73]]\n"
     ]
    }
   ],
   "source": [
    "print(dailytemperature_list)"
   ]
  },
  {
   "cell_type": "code",
   "execution_count": 296,
   "metadata": {},
   "outputs": [],
   "source": [
    "import csv\n",
    "\n",
    "with open('employment.csv', mode='w', newline='', encoding='utf-8') as file:\n",
    "    writer = csv.writer(file)\n",
    "    writer.writerow(['Name', 'Age', 'City'])\n",
    "    writer.writerow(['Alice', 30, 'New York'])\n",
    "    writer.writerow(['Bob', 25, 'Los Angeles'])"
   ]
  },
  {
   "cell_type": "code",
   "execution_count": 312,
   "metadata": {},
   "outputs": [],
   "source": [
    "file_path = path4/ \"employment.csv\"\n",
    "file = file_path.open(mode=\"r\", encoding=\"utf-8\")\n",
    "reader = csv.DictReader(file) # create a DictReader object, recall \"calss\", DictReader is a class"
   ]
  },
  {
   "cell_type": "code",
   "execution_count": 300,
   "metadata": {},
   "outputs": [
    {
     "data": {
      "text/plain": [
       "<csv.DictReader at 0x1154346d0>"
      ]
     },
     "execution_count": 300,
     "metadata": {},
     "output_type": "execute_result"
    }
   ],
   "source": [
    "reader"
   ]
  },
  {
   "cell_type": "code",
   "execution_count": 301,
   "metadata": {},
   "outputs": [
    {
     "data": {
      "text/plain": [
       "csv.DictReader"
      ]
     },
     "execution_count": 301,
     "metadata": {},
     "output_type": "execute_result"
    }
   ],
   "source": [
    "# hover you pointer on csv and DictReader to see what are they\n",
    "csv.DictReader"
   ]
  },
  {
   "cell_type": "code",
   "execution_count": 314,
   "metadata": {},
   "outputs": [
    {
     "data": {
      "text/plain": [
       "['Name', 'Age', 'City']"
      ]
     },
     "execution_count": 314,
     "metadata": {},
     "output_type": "execute_result"
    }
   ],
   "source": [
    "reader.fieldnames"
   ]
  },
  {
   "cell_type": "code",
   "execution_count": 316,
   "metadata": {},
   "outputs": [],
   "source": [
    "for row in reader:\n",
    "    print(row)\n",
    "    print(float(row['Age']))"
   ]
  },
  {
   "cell_type": "code",
   "execution_count": 319,
   "metadata": {},
   "outputs": [
    {
     "name": "stdout",
     "output_type": "stream",
     "text": [
      "{'Name': 'Alice', 'Age': '30', 'City': 'New York'}\n",
      "30.0\n",
      "{'Name': 'Bob', 'Age': '25', 'City': 'Los Angeles'}\n",
      "25.0\n"
     ]
    }
   ],
   "source": [
    "with Path.open('employment.csv', mode='r', newline='', encoding='utf-8') as file:\n",
    "    reader = csv.DictReader(file)\n",
    "    for row in reader:\n",
    "        print(row)\n",
    "        print(float(row['Age']))"
   ]
  },
  {
   "cell_type": "code",
   "execution_count": 320,
   "metadata": {},
   "outputs": [],
   "source": [
    "daily_temperatures2 = [\n",
    "    [1, 68, 65, 68, 70, 74, 72],\n",
    "    [2, 67, 67, 70, 72, 72, 70],\n",
    "    [3, 68, 70, 74, 76, 74, 73],\n",
    "]"
   ]
  },
  {
   "cell_type": "code",
   "execution_count": 323,
   "metadata": {},
   "outputs": [
    {
     "name": "stdout",
     "output_type": "stream",
     "text": [
      "{'ID': '1', 'day1': '68', 'day2': '65', 'day3': '68', 'day4': '70', 'day5': '74', 'day6': '72'}\n",
      "{'ID': '2', 'day1': '67', 'day2': '67', 'day3': '70', 'day4': '72', 'day5': '72', 'day6': '70'}\n",
      "{'ID': '3', 'day1': '68', 'day2': '70', 'day3': '74', 'day4': '76', 'day5': '74', 'day6': '73'}\n"
     ]
    }
   ],
   "source": [
    "# Define the column names (headers)\n",
    "fieldnames = ['ID', 'day1', 'day2','day3','day4','day5','day6']\n",
    "\n",
    "# Writing to the CSV file using DictWriter\n",
    "with open('temperature3.csv', mode='w', newline='', encoding='utf-8') as file:\n",
    "    writer = csv.DictWriter(file, fieldnames=fieldnames) # have to use dictionary\n",
    "    \n",
    "    # Write the header (column names)\n",
    "    writer.writeheader()\n",
    "    \n",
    "    # Write data rows as dictionary\n",
    "    for row in daily_temperatures2:\n",
    "        row_dict = {fieldnames[i]: row[i] for i in range(len(fieldnames))}\n",
    "        writer.writerow(row_dict)\n",
    "\n",
    "# Reading the file to verify\n",
    "with open('temperature3.csv', mode='r', encoding='utf-8') as file:\n",
    "    reader = csv.DictReader(file)\n",
    "    for row in reader:\n",
    "        print(row)"
   ]
  },
  {
   "cell_type": "code",
   "execution_count": null,
   "metadata": {},
   "outputs": [],
   "source": []
  }
 ],
 "metadata": {
  "kernelspec": {
   "display_name": "base",
   "language": "python",
   "name": "python3"
  },
  "language_info": {
   "codemirror_mode": {
    "name": "ipython",
    "version": 3
   },
   "file_extension": ".py",
   "mimetype": "text/x-python",
   "name": "python",
   "nbconvert_exporter": "python",
   "pygments_lexer": "ipython3",
   "version": "3.11.7"
  },
  "orig_nbformat": 4
 },
 "nbformat": 4,
 "nbformat_minor": 2
}

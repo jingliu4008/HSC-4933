{
 "cells": [
  {
   "cell_type": "code",
   "execution_count": null,
   "metadata": {},
   "outputs": [],
   "source": [
    "\"\"\"Possible solutions\"\"\""
   ]
  },
  {
   "cell_type": "code",
   "execution_count": null,
   "metadata": {},
   "outputs": [],
   "source": [
    "Old_cases = int(input(\"Enter the total number of old cases: \"))\n",
    "new_cases = int(input(\"Enter the total number of new cases: \"))\n",
    "total_cases = Old_cases + new_cases\n",
    "population = int(float(input(\"Enter the total population: \")) )\n",
    "\n",
    "prevalence = (total_cases / population) * 100000\n",
    "print(f\"Prevalence: {prevalence:.2f} per 100,000 people\")"
   ]
  },
  {
   "cell_type": "code",
   "execution_count": 15,
   "metadata": {},
   "outputs": [
    {
     "name": "stdout",
     "output_type": "stream",
     "text": [
      "Incidence: 168.54 per 100,000 people\n"
     ]
    }
   ],
   "source": [
    "new_cases = int(input(\"Enter the total number of new cases: \"))\n",
    "population = int(float(input(\"Enter the total population: \")))\n",
    "\n",
    "incidence = (new_cases / (population)) * 100000\n",
    "print(f\"Incidence: {incidence:.2f} per 100,000 people\")"
   ]
  },
  {
   "cell_type": "code",
   "execution_count": 21,
   "metadata": {},
   "outputs": [
    {
     "name": "stdout",
     "output_type": "stream",
     "text": [
      "Mortality Rate: 0.04 per 100,000 people\n"
     ]
    }
   ],
   "source": [
    "deaths = int(input(\"Enter the number of deaths: \"))\n",
    "population = int(float(input(\"Enter the total population: \")) )\n",
    "\n",
    "mortality_rate = (deaths / population) * 100000\n",
    "print(f\"Mortality Rate: {mortality_rate:.2f} per 100,000 people\")"
   ]
  },
  {
   "cell_type": "code",
   "execution_count": 35,
   "metadata": {},
   "outputs": [
    {
     "name": "stdout",
     "output_type": "stream",
     "text": [
      "Total Years of Potential Life Lost (YPLL): 191 years\n"
     ]
    }
   ],
   "source": [
    "# Input the ages of the deceased individuals\n",
    "age1 = int(input(\"Enter the age of the first deceased person: \"))\n",
    "age2 = int(input(\"Enter the age of the second deceased person: \"))\n",
    "age3 = int(input(\"Enter the age of the third deceased person: \"))\n",
    "age4 = int(input(\"Enter the age of the fourth deceased person: \"))\n",
    "age5 = int(input(\"Enter the age of the fifth deceased person: \"))\n",
    "\n",
    "# Average life expectancy\n",
    "life_expectancy = 77  # Given life expectancy in Hillsborough County\n",
    "\n",
    "# Calculate the Years of Potential Life Lost (YPLL) for each individual\n",
    "ypll1 = life_expectancy - age1\n",
    "ypll2 = life_expectancy - age2\n",
    "ypll3 = life_expectancy - age3\n",
    "ypll4 = life_expectancy - age4\n",
    "ypll5 = life_expectancy - age5\n",
    "\n",
    "# Total YPLL\n",
    "total_ypll = ypll1 + ypll2 + ypll3 + ypll4 + ypll5\n",
    "\n",
    "# Output the total YPLL\n",
    "print(f\"Total Years of Potential Life Lost (YPLL): {total_ypll} years\")"
   ]
  },
  {
   "cell_type": "code",
   "execution_count": null,
   "metadata": {},
   "outputs": [],
   "source": [
    "ages_of_deceased = [int(age) for age in input(\"Enter the ages of the deceased (comma-separated): \").split(',')]\n",
    "life_expectancy = 77  # Given life expectancy\n",
    "\n",
    "ypll = sum([life_expectancy - age for age in ages_of_deceased])\n",
    "print(f\"Years of Potential Life Lost (YPLL): {ypll} years\")"
   ]
  },
  {
   "cell_type": "code",
   "execution_count": 34,
   "metadata": {},
   "outputs": [
    {
     "name": "stdout",
     "output_type": "stream",
     "text": [
      "['apple', 'banana', 'cherry']\n"
     ]
    }
   ],
   "source": [
    "text = \"apple;banana;cherry\"\n",
    "fruits = text.split(';')\n",
    "print(fruits)"
   ]
  },
  {
   "cell_type": "code",
   "execution_count": 5,
   "metadata": {},
   "outputs": [
    {
     "name": "stdout",
     "output_type": "stream",
     "text": [
      "Years of Potential Life Lost (YPLL): 191 years\n"
     ]
    }
   ],
   "source": [
    "x = int(input(\"deaths = \"))  # Number of deceased individuals\n",
    "life_expectancy = 77  # Given life expectancy\n",
    "ages_of_deceased = []\n",
    "\n",
    "for i in range(x):\n",
    "    age = int(input(f\"Enter the age of deceased person {i+1}: \"))\n",
    "    ages_of_deceased.append(age)\n",
    "\n",
    "ypll = sum([life_expectancy - age for age in ages_of_deceased if age < life_expectancy])\n",
    "print(f\"Years of Potential Life Lost (YPLL): {ypll} years\")"
   ]
  }
 ],
 "metadata": {
  "kernelspec": {
   "display_name": "Python 3",
   "language": "python",
   "name": "python3"
  },
  "language_info": {
   "codemirror_mode": {
    "name": "ipython",
    "version": 3
   },
   "file_extension": ".py",
   "mimetype": "text/x-python",
   "name": "python",
   "nbconvert_exporter": "python",
   "pygments_lexer": "ipython3",
   "version": "3.11.5"
  },
  "orig_nbformat": 4
 },
 "nbformat": 4,
 "nbformat_minor": 2
}
